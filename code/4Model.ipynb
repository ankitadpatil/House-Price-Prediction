{
 "cells": [
  {
   "cell_type": "code",
   "execution_count": 1,
   "id": "54b25647",
   "metadata": {},
   "outputs": [],
   "source": [
    "import numpy as np\n",
    "import pandas as pd\n",
    "import matplotlib.pyplot as plt\n",
    "import seaborn as sns\n",
    "import missingno as msno"
   ]
  },
  {
   "cell_type": "code",
   "execution_count": 2,
   "id": "af16eeed",
   "metadata": {},
   "outputs": [],
   "source": [
    "from sklearn.linear_model import LinearRegression, RidgeCV, Lasso, LassoCV\n",
    "from sklearn.model_selection import train_test_split,cross_val_score\n",
    "from sklearn.preprocessing import PolynomialFeatures, PowerTransformer, StandardScaler\n",
    "from sklearn.dummy import DummyRegressor"
   ]
  },
  {
   "cell_type": "code",
   "execution_count": 3,
   "id": "5277fe2d",
   "metadata": {},
   "outputs": [],
   "source": [
    "df_train = pd.read_csv('../datasets/complete_clean_train_extra.csv')\n",
    "test = pd.read_csv('../datasets/complete_clean_test_extra.csv')"
   ]
  },
  {
   "cell_type": "code",
   "execution_count": 4,
   "id": "47b86e90",
   "metadata": {},
   "outputs": [
    {
     "data": {
      "text/plain": [
       "Id               0\n",
       "Garage Yr Blt    0\n",
       "Garage Type      0\n",
       "Fireplaces       0\n",
       "Functional       0\n",
       "                ..\n",
       "Exterior 2nd     0\n",
       "Exterior 1st     0\n",
       "Roof Matl        0\n",
       "Age              0\n",
       "Remodel          0\n",
       "Length: 80, dtype: int64"
      ]
     },
     "execution_count": 4,
     "metadata": {},
     "output_type": "execute_result"
    }
   ],
   "source": [
    "df_train.isnull().sum().sort_values()"
   ]
  },
  {
   "cell_type": "code",
   "execution_count": 5,
   "id": "f667c9d4",
   "metadata": {
    "scrolled": true
   },
   "outputs": [
    {
     "data": {
      "text/html": [
       "<div>\n",
       "<style scoped>\n",
       "    .dataframe tbody tr th:only-of-type {\n",
       "        vertical-align: middle;\n",
       "    }\n",
       "\n",
       "    .dataframe tbody tr th {\n",
       "        vertical-align: top;\n",
       "    }\n",
       "\n",
       "    .dataframe thead th {\n",
       "        text-align: right;\n",
       "    }\n",
       "</style>\n",
       "<table border=\"1\" class=\"dataframe\">\n",
       "  <thead>\n",
       "    <tr style=\"text-align: right;\">\n",
       "      <th></th>\n",
       "      <th>SalePrice</th>\n",
       "    </tr>\n",
       "  </thead>\n",
       "  <tbody>\n",
       "    <tr>\n",
       "      <th>SalePrice</th>\n",
       "      <td>1.000000</td>\n",
       "    </tr>\n",
       "    <tr>\n",
       "      <th>Overall Qual</th>\n",
       "      <td>0.800207</td>\n",
       "    </tr>\n",
       "    <tr>\n",
       "      <th>Gr Liv Area</th>\n",
       "      <td>0.697038</td>\n",
       "    </tr>\n",
       "    <tr>\n",
       "      <th>Garage Area</th>\n",
       "      <td>0.649897</td>\n",
       "    </tr>\n",
       "    <tr>\n",
       "      <th>Garage Cars</th>\n",
       "      <td>0.647781</td>\n",
       "    </tr>\n",
       "    <tr>\n",
       "      <th>Total Bsmt SF</th>\n",
       "      <td>0.629303</td>\n",
       "    </tr>\n",
       "    <tr>\n",
       "      <th>1st Flr SF</th>\n",
       "      <td>0.618486</td>\n",
       "    </tr>\n",
       "    <tr>\n",
       "      <th>Year Built</th>\n",
       "      <td>0.571849</td>\n",
       "    </tr>\n",
       "    <tr>\n",
       "      <th>Year Remod/Add</th>\n",
       "      <td>0.550370</td>\n",
       "    </tr>\n",
       "    <tr>\n",
       "      <th>Full Bath</th>\n",
       "      <td>0.537969</td>\n",
       "    </tr>\n",
       "    <tr>\n",
       "      <th>TotRms AbvGrd</th>\n",
       "      <td>0.504014</td>\n",
       "    </tr>\n",
       "    <tr>\n",
       "      <th>Mas Vnr Area</th>\n",
       "      <td>0.503579</td>\n",
       "    </tr>\n",
       "    <tr>\n",
       "      <th>Fireplaces</th>\n",
       "      <td>0.471093</td>\n",
       "    </tr>\n",
       "    <tr>\n",
       "      <th>BsmtFin SF 1</th>\n",
       "      <td>0.423856</td>\n",
       "    </tr>\n",
       "    <tr>\n",
       "      <th>Lot Area</th>\n",
       "      <td>0.340363</td>\n",
       "    </tr>\n",
       "    <tr>\n",
       "      <th>Open Porch SF</th>\n",
       "      <td>0.333476</td>\n",
       "    </tr>\n",
       "    <tr>\n",
       "      <th>Wood Deck SF</th>\n",
       "      <td>0.326490</td>\n",
       "    </tr>\n",
       "    <tr>\n",
       "      <th>Lot Frontage</th>\n",
       "      <td>0.325129</td>\n",
       "    </tr>\n",
       "    <tr>\n",
       "      <th>Y</th>\n",
       "      <td>0.289210</td>\n",
       "    </tr>\n",
       "    <tr>\n",
       "      <th>Bsmt Full Bath</th>\n",
       "      <td>0.283332</td>\n",
       "    </tr>\n",
       "    <tr>\n",
       "      <th>Half Bath</th>\n",
       "      <td>0.283001</td>\n",
       "    </tr>\n",
       "    <tr>\n",
       "      <th>Central Air</th>\n",
       "      <td>0.277378</td>\n",
       "    </tr>\n",
       "    <tr>\n",
       "      <th>Garage Yr Blt</th>\n",
       "      <td>0.258441</td>\n",
       "    </tr>\n",
       "    <tr>\n",
       "      <th>2nd Flr SF</th>\n",
       "      <td>0.248452</td>\n",
       "    </tr>\n",
       "    <tr>\n",
       "      <th>Bsmt Unf SF</th>\n",
       "      <td>0.190861</td>\n",
       "    </tr>\n",
       "    <tr>\n",
       "      <th>Condition 2</th>\n",
       "      <td>0.144711</td>\n",
       "    </tr>\n",
       "    <tr>\n",
       "      <th>Bedroom AbvGr</th>\n",
       "      <td>0.137067</td>\n",
       "    </tr>\n",
       "    <tr>\n",
       "      <th>Screen Porch</th>\n",
       "      <td>0.134581</td>\n",
       "    </tr>\n",
       "    <tr>\n",
       "      <th>Bsmt Exposure</th>\n",
       "      <td>0.126460</td>\n",
       "    </tr>\n",
       "    <tr>\n",
       "      <th>Bldg Type</th>\n",
       "      <td>0.065523</td>\n",
       "    </tr>\n",
       "    <tr>\n",
       "      <th>Condition 1</th>\n",
       "      <td>0.059218</td>\n",
       "    </tr>\n",
       "    <tr>\n",
       "      <th>3Ssn Porch</th>\n",
       "      <td>0.048732</td>\n",
       "    </tr>\n",
       "    <tr>\n",
       "      <th>Mo Sold</th>\n",
       "      <td>0.032735</td>\n",
       "    </tr>\n",
       "    <tr>\n",
       "      <th>Pool Area</th>\n",
       "      <td>0.023106</td>\n",
       "    </tr>\n",
       "    <tr>\n",
       "      <th>BsmtFin SF 2</th>\n",
       "      <td>0.016432</td>\n",
       "    </tr>\n",
       "    <tr>\n",
       "      <th>Bsmt Cond</th>\n",
       "      <td>0.015091</td>\n",
       "    </tr>\n",
       "    <tr>\n",
       "      <th>Misc Val</th>\n",
       "      <td>-0.007375</td>\n",
       "    </tr>\n",
       "    <tr>\n",
       "      <th>NoSeWa</th>\n",
       "      <td>-0.012256</td>\n",
       "    </tr>\n",
       "    <tr>\n",
       "      <th>Yr Sold</th>\n",
       "      <td>-0.015203</td>\n",
       "    </tr>\n",
       "    <tr>\n",
       "      <th>Garage Cond</th>\n",
       "      <td>-0.022659</td>\n",
       "    </tr>\n",
       "    <tr>\n",
       "      <th>Electrical</th>\n",
       "      <td>-0.031906</td>\n",
       "    </tr>\n",
       "    <tr>\n",
       "      <th>NoSewr</th>\n",
       "      <td>-0.034519</td>\n",
       "    </tr>\n",
       "    <tr>\n",
       "      <th>Low Qual Fin SF</th>\n",
       "      <td>-0.041594</td>\n",
       "    </tr>\n",
       "    <tr>\n",
       "      <th>Bsmt Half Bath</th>\n",
       "      <td>-0.045290</td>\n",
       "    </tr>\n",
       "    <tr>\n",
       "      <th>Remodel</th>\n",
       "      <td>-0.047364</td>\n",
       "    </tr>\n",
       "    <tr>\n",
       "      <th>Id</th>\n",
       "      <td>-0.051398</td>\n",
       "    </tr>\n",
       "    <tr>\n",
       "      <th>Street</th>\n",
       "      <td>-0.069841</td>\n",
       "    </tr>\n",
       "    <tr>\n",
       "      <th>MS SubClass</th>\n",
       "      <td>-0.087335</td>\n",
       "    </tr>\n",
       "    <tr>\n",
       "      <th>BsmtFin Type 1</th>\n",
       "      <td>-0.088109</td>\n",
       "    </tr>\n",
       "    <tr>\n",
       "      <th>P</th>\n",
       "      <td>-0.090742</td>\n",
       "    </tr>\n",
       "    <tr>\n",
       "      <th>Overall Cond</th>\n",
       "      <td>-0.097019</td>\n",
       "    </tr>\n",
       "    <tr>\n",
       "      <th>Kitchen AbvGr</th>\n",
       "      <td>-0.125444</td>\n",
       "    </tr>\n",
       "    <tr>\n",
       "      <th>Enclosed Porch</th>\n",
       "      <td>-0.135656</td>\n",
       "    </tr>\n",
       "    <tr>\n",
       "      <th>PID</th>\n",
       "      <td>-0.255052</td>\n",
       "    </tr>\n",
       "    <tr>\n",
       "      <th>Bsmt Qual</th>\n",
       "      <td>-0.456979</td>\n",
       "    </tr>\n",
       "    <tr>\n",
       "      <th>Kitchen Qual</th>\n",
       "      <td>-0.540860</td>\n",
       "    </tr>\n",
       "    <tr>\n",
       "      <th>Age</th>\n",
       "      <td>-0.571881</td>\n",
       "    </tr>\n",
       "  </tbody>\n",
       "</table>\n",
       "</div>"
      ],
      "text/plain": [
       "                 SalePrice\n",
       "SalePrice         1.000000\n",
       "Overall Qual      0.800207\n",
       "Gr Liv Area       0.697038\n",
       "Garage Area       0.649897\n",
       "Garage Cars       0.647781\n",
       "Total Bsmt SF     0.629303\n",
       "1st Flr SF        0.618486\n",
       "Year Built        0.571849\n",
       "Year Remod/Add    0.550370\n",
       "Full Bath         0.537969\n",
       "TotRms AbvGrd     0.504014\n",
       "Mas Vnr Area      0.503579\n",
       "Fireplaces        0.471093\n",
       "BsmtFin SF 1      0.423856\n",
       "Lot Area          0.340363\n",
       "Open Porch SF     0.333476\n",
       "Wood Deck SF      0.326490\n",
       "Lot Frontage      0.325129\n",
       "Y                 0.289210\n",
       "Bsmt Full Bath    0.283332\n",
       "Half Bath         0.283001\n",
       "Central Air       0.277378\n",
       "Garage Yr Blt     0.258441\n",
       "2nd Flr SF        0.248452\n",
       "Bsmt Unf SF       0.190861\n",
       "Condition 2       0.144711\n",
       "Bedroom AbvGr     0.137067\n",
       "Screen Porch      0.134581\n",
       "Bsmt Exposure     0.126460\n",
       "Bldg Type         0.065523\n",
       "Condition 1       0.059218\n",
       "3Ssn Porch        0.048732\n",
       "Mo Sold           0.032735\n",
       "Pool Area         0.023106\n",
       "BsmtFin SF 2      0.016432\n",
       "Bsmt Cond         0.015091\n",
       "Misc Val         -0.007375\n",
       "NoSeWa           -0.012256\n",
       "Yr Sold          -0.015203\n",
       "Garage Cond      -0.022659\n",
       "Electrical       -0.031906\n",
       "NoSewr           -0.034519\n",
       "Low Qual Fin SF  -0.041594\n",
       "Bsmt Half Bath   -0.045290\n",
       "Remodel          -0.047364\n",
       "Id               -0.051398\n",
       "Street           -0.069841\n",
       "MS SubClass      -0.087335\n",
       "BsmtFin Type 1   -0.088109\n",
       "P                -0.090742\n",
       "Overall Cond     -0.097019\n",
       "Kitchen AbvGr    -0.125444\n",
       "Enclosed Porch   -0.135656\n",
       "PID              -0.255052\n",
       "Bsmt Qual        -0.456979\n",
       "Kitchen Qual     -0.540860\n",
       "Age              -0.571881"
      ]
     },
     "execution_count": 5,
     "metadata": {},
     "output_type": "execute_result"
    }
   ],
   "source": [
    "df_train.corr()[['SalePrice']].sort_values(by='SalePrice',ascending=False)"
   ]
  },
  {
   "cell_type": "markdown",
   "id": "6500e144",
   "metadata": {},
   "source": [
    "From the numerical columns above, 'Id' and 'PID' are nomial data columns and need to be excluded from Sale Price prediction."
   ]
  },
  {
   "cell_type": "code",
   "execution_count": 6,
   "id": "3e5cf870",
   "metadata": {
    "scrolled": true
   },
   "outputs": [
    {
     "data": {
      "text/plain": [
       "['MS SubClass',\n",
       " 'Lot Frontage',\n",
       " 'Lot Area',\n",
       " 'Street',\n",
       " 'Condition 1',\n",
       " 'Condition 2',\n",
       " 'Bldg Type',\n",
       " 'Overall Qual',\n",
       " 'Overall Cond',\n",
       " 'Year Built',\n",
       " 'Year Remod/Add',\n",
       " 'Mas Vnr Area',\n",
       " 'Bsmt Qual',\n",
       " 'Bsmt Cond',\n",
       " 'Bsmt Exposure',\n",
       " 'BsmtFin Type 1',\n",
       " 'BsmtFin SF 1',\n",
       " 'BsmtFin SF 2',\n",
       " 'Bsmt Unf SF',\n",
       " 'Total Bsmt SF',\n",
       " 'Central Air',\n",
       " 'Electrical',\n",
       " '1st Flr SF',\n",
       " '2nd Flr SF',\n",
       " 'Low Qual Fin SF',\n",
       " 'Gr Liv Area',\n",
       " 'Bsmt Full Bath',\n",
       " 'Bsmt Half Bath',\n",
       " 'Full Bath',\n",
       " 'Half Bath',\n",
       " 'Bedroom AbvGr',\n",
       " 'Kitchen AbvGr',\n",
       " 'Kitchen Qual',\n",
       " 'TotRms AbvGrd',\n",
       " 'Fireplaces',\n",
       " 'Garage Yr Blt',\n",
       " 'Garage Cars',\n",
       " 'Garage Area',\n",
       " 'Garage Cond',\n",
       " 'Wood Deck SF',\n",
       " 'Open Porch SF',\n",
       " 'Enclosed Porch',\n",
       " '3Ssn Porch',\n",
       " 'Screen Porch',\n",
       " 'Pool Area',\n",
       " 'Misc Val',\n",
       " 'Mo Sold',\n",
       " 'Yr Sold',\n",
       " 'P',\n",
       " 'Y',\n",
       " 'NoSeWa',\n",
       " 'NoSewr',\n",
       " 'Age',\n",
       " 'Remodel']"
      ]
     },
     "execution_count": 6,
     "metadata": {},
     "output_type": "execute_result"
    }
   ],
   "source": [
    "features = list(df_train.corr()[['SalePrice']].drop(['SalePrice','Id','PID']).index)\n",
    "features"
   ]
  },
  {
   "cell_type": "markdown",
   "id": "97299956",
   "metadata": {},
   "source": [
    "# Part I"
   ]
  },
  {
   "cell_type": "markdown",
   "id": "375c6f3f",
   "metadata": {},
   "source": [
    "The goal is to run all the features through the lasso regression model, and identify the features that have an effect on SalePrice. The lasso regression helps in getting rid of the features that do not affect the SalePrice. This will help in reducing the complexity of the model, thereby, reducing the variance. "
   ]
  },
  {
   "cell_type": "markdown",
   "id": "975d3b70",
   "metadata": {},
   "source": [
    "## Model Prep"
   ]
  },
  {
   "cell_type": "code",
   "execution_count": 7,
   "id": "fe05429b",
   "metadata": {},
   "outputs": [],
   "source": [
    "X = df_train[features]\n",
    "y = df_train['SalePrice']"
   ]
  },
  {
   "cell_type": "code",
   "execution_count": 8,
   "id": "e31e4e0c",
   "metadata": {},
   "outputs": [],
   "source": [
    "X_train, X_test, y_train, y_test = train_test_split(X,y,random_state=42)"
   ]
  },
  {
   "cell_type": "markdown",
   "id": "9ab6806b",
   "metadata": {},
   "source": [
    "## Scaling Features"
   ]
  },
  {
   "cell_type": "code",
   "execution_count": 9,
   "id": "3f452467",
   "metadata": {},
   "outputs": [],
   "source": [
    "ss = StandardScaler()"
   ]
  },
  {
   "cell_type": "code",
   "execution_count": 10,
   "id": "20af6f51",
   "metadata": {},
   "outputs": [],
   "source": [
    "X_train_sc = ss.fit_transform(X_train)\n",
    "X_test_sc = ss.transform(X_test)"
   ]
  },
  {
   "cell_type": "markdown",
   "id": "f62a7f23",
   "metadata": {},
   "source": [
    "## Power Transforming the y"
   ]
  },
  {
   "cell_type": "markdown",
   "id": "84e47542",
   "metadata": {},
   "source": [
    "As mentioned before, the target variable 'SalePrice' is not normally distributed, it is skewed to the right. The 'SalePrice' variable is tehere being power transformed. This will make the distribution of the variable more Gaussian. In other words, this will stabilize the variance in target variable. "
   ]
  },
  {
   "cell_type": "code",
   "execution_count": 11,
   "id": "172ea6a5",
   "metadata": {},
   "outputs": [],
   "source": [
    "pt = PowerTransformer()"
   ]
  },
  {
   "cell_type": "code",
   "execution_count": 12,
   "id": "cb2f2411",
   "metadata": {},
   "outputs": [],
   "source": [
    "y_train_pt = pt.fit_transform(y_train.to_frame())"
   ]
  },
  {
   "cell_type": "code",
   "execution_count": 13,
   "id": "80e98c87",
   "metadata": {},
   "outputs": [],
   "source": [
    "y_test_pt = pt.transform(y_test.to_frame())"
   ]
  },
  {
   "cell_type": "markdown",
   "id": "26d02070",
   "metadata": {},
   "source": [
    "## Instantiating the Model"
   ]
  },
  {
   "cell_type": "code",
   "execution_count": 14,
   "id": "5045d3ab",
   "metadata": {},
   "outputs": [],
   "source": [
    "l_alphas = np.logspace(-3,0,100)"
   ]
  },
  {
   "cell_type": "code",
   "execution_count": 15,
   "id": "c5712759",
   "metadata": {},
   "outputs": [],
   "source": [
    "lasso_cv = LassoCV(alphas = l_alphas)"
   ]
  },
  {
   "cell_type": "code",
   "execution_count": 16,
   "id": "a95249be",
   "metadata": {},
   "outputs": [],
   "source": [
    "alphas = np.logspace(0,5,100)"
   ]
  },
  {
   "cell_type": "code",
   "execution_count": 17,
   "id": "521b0fb3",
   "metadata": {},
   "outputs": [],
   "source": [
    "ridge_cv = RidgeCV(alphas = alphas, cv=5)"
   ]
  },
  {
   "cell_type": "markdown",
   "id": "a820872e",
   "metadata": {},
   "source": [
    "## Model Validation"
   ]
  },
  {
   "cell_type": "code",
   "execution_count": 18,
   "id": "6bb75513",
   "metadata": {},
   "outputs": [
    {
     "name": "stderr",
     "output_type": "stream",
     "text": [
      "/Users/ankitapatil/opt/anaconda3/lib/python3.8/site-packages/sklearn/utils/validation.py:63: DataConversionWarning: A column-vector y was passed when a 1d array was expected. Please change the shape of y to (n_samples, ), for example using ravel().\n",
      "  return f(*args, **kwargs)\n",
      "/Users/ankitapatil/opt/anaconda3/lib/python3.8/site-packages/sklearn/utils/validation.py:63: DataConversionWarning: A column-vector y was passed when a 1d array was expected. Please change the shape of y to (n_samples, ), for example using ravel().\n",
      "  return f(*args, **kwargs)\n",
      "/Users/ankitapatil/opt/anaconda3/lib/python3.8/site-packages/sklearn/utils/validation.py:63: DataConversionWarning: A column-vector y was passed when a 1d array was expected. Please change the shape of y to (n_samples, ), for example using ravel().\n",
      "  return f(*args, **kwargs)\n",
      "/Users/ankitapatil/opt/anaconda3/lib/python3.8/site-packages/sklearn/utils/validation.py:63: DataConversionWarning: A column-vector y was passed when a 1d array was expected. Please change the shape of y to (n_samples, ), for example using ravel().\n",
      "  return f(*args, **kwargs)\n",
      "/Users/ankitapatil/opt/anaconda3/lib/python3.8/site-packages/sklearn/utils/validation.py:63: DataConversionWarning: A column-vector y was passed when a 1d array was expected. Please change the shape of y to (n_samples, ), for example using ravel().\n",
      "  return f(*args, **kwargs)\n",
      "/Users/ankitapatil/opt/anaconda3/lib/python3.8/site-packages/sklearn/linear_model/_coordinate_descent.py:530: ConvergenceWarning: Objective did not converge. You might want to increase the number of iterations. Duality gap: 0.13144679587821884, tolerance: 0.1282898133835426\n",
      "  model = cd_fast.enet_coordinate_descent(\n"
     ]
    },
    {
     "data": {
      "text/plain": [
       "0.8332147268734671"
      ]
     },
     "execution_count": 18,
     "metadata": {},
     "output_type": "execute_result"
    }
   ],
   "source": [
    "cross_val_score(lasso_cv,X_train_sc,y_train_pt).mean()"
   ]
  },
  {
   "cell_type": "code",
   "execution_count": 19,
   "id": "2844fdb6",
   "metadata": {},
   "outputs": [
    {
     "data": {
      "text/plain": [
       "0.8330483017663737"
      ]
     },
     "execution_count": 19,
     "metadata": {},
     "output_type": "execute_result"
    }
   ],
   "source": [
    "cross_val_score(ridge_cv,X_train_sc,y_train_pt).mean()"
   ]
  },
  {
   "cell_type": "markdown",
   "id": "9c9a1f57",
   "metadata": {},
   "source": [
    "## Fitting the Model"
   ]
  },
  {
   "cell_type": "code",
   "execution_count": 20,
   "id": "328db13e",
   "metadata": {
    "scrolled": true
   },
   "outputs": [
    {
     "name": "stderr",
     "output_type": "stream",
     "text": [
      "/Users/ankitapatil/opt/anaconda3/lib/python3.8/site-packages/sklearn/utils/validation.py:63: DataConversionWarning: A column-vector y was passed when a 1d array was expected. Please change the shape of y to (n_samples, ), for example using ravel().\n",
      "  return f(*args, **kwargs)\n"
     ]
    },
    {
     "data": {
      "text/plain": [
       "LassoCV(alphas=array([0.001     , 0.00107227, 0.00114976, 0.00123285, 0.00132194,\n",
       "       0.00141747, 0.00151991, 0.00162975, 0.00174753, 0.00187382,\n",
       "       0.00200923, 0.00215443, 0.00231013, 0.00247708, 0.00265609,\n",
       "       0.00284804, 0.00305386, 0.00327455, 0.00351119, 0.00376494,\n",
       "       0.00403702, 0.00432876, 0.00464159, 0.00497702, 0.0053367 ,\n",
       "       0.00572237, 0.00613591, 0.00657933, 0.0070548 , 0.00756463,\n",
       "       0.008...\n",
       "       0.09326033, 0.1       , 0.10722672, 0.1149757 , 0.12328467,\n",
       "       0.13219411, 0.14174742, 0.15199111, 0.16297508, 0.17475284,\n",
       "       0.18738174, 0.2009233 , 0.21544347, 0.23101297, 0.24770764,\n",
       "       0.26560878, 0.28480359, 0.30538555, 0.32745492, 0.35111917,\n",
       "       0.37649358, 0.40370173, 0.43287613, 0.46415888, 0.49770236,\n",
       "       0.53366992, 0.57223677, 0.61359073, 0.65793322, 0.70548023,\n",
       "       0.75646333, 0.81113083, 0.869749  , 0.93260335, 1.        ]))"
      ]
     },
     "execution_count": 20,
     "metadata": {},
     "output_type": "execute_result"
    }
   ],
   "source": [
    "lasso_cv.fit(X_train_sc,y_train_pt)"
   ]
  },
  {
   "cell_type": "code",
   "execution_count": 21,
   "id": "3788a171",
   "metadata": {},
   "outputs": [
    {
     "data": {
      "text/plain": [
       "0.8747783663532513"
      ]
     },
     "execution_count": 21,
     "metadata": {},
     "output_type": "execute_result"
    }
   ],
   "source": [
    "lasso_cv.score(X_train_sc,y_train_pt)"
   ]
  },
  {
   "cell_type": "code",
   "execution_count": 22,
   "id": "dfd3986d",
   "metadata": {},
   "outputs": [
    {
     "data": {
      "text/plain": [
       "0.8755747537806812"
      ]
     },
     "execution_count": 22,
     "metadata": {},
     "output_type": "execute_result"
    }
   ],
   "source": [
    "lasso_cv.score(X_test_sc,y_test_pt)"
   ]
  },
  {
   "cell_type": "code",
   "execution_count": 23,
   "id": "f039b7d5",
   "metadata": {},
   "outputs": [
    {
     "data": {
      "text/plain": [
       "RidgeCV(alphas=array([1.00000000e+00, 1.12332403e+00, 1.26185688e+00, 1.41747416e+00,\n",
       "       1.59228279e+00, 1.78864953e+00, 2.00923300e+00, 2.25701972e+00,\n",
       "       2.53536449e+00, 2.84803587e+00, 3.19926714e+00, 3.59381366e+00,\n",
       "       4.03701726e+00, 4.53487851e+00, 5.09413801e+00, 5.72236766e+00,\n",
       "       6.42807312e+00, 7.22080902e+00, 8.11130831e+00, 9.11162756e+00,\n",
       "       1.02353102e+01, 1.14975700e+0...\n",
       "       6.89261210e+03, 7.74263683e+03, 8.69749003e+03, 9.77009957e+03,\n",
       "       1.09749877e+04, 1.23284674e+04, 1.38488637e+04, 1.55567614e+04,\n",
       "       1.74752840e+04, 1.96304065e+04, 2.20513074e+04, 2.47707636e+04,\n",
       "       2.78255940e+04, 3.12571585e+04, 3.51119173e+04, 3.94420606e+04,\n",
       "       4.43062146e+04, 4.97702356e+04, 5.59081018e+04, 6.28029144e+04,\n",
       "       7.05480231e+04, 7.92482898e+04, 8.90215085e+04, 1.00000000e+05]),\n",
       "        cv=5)"
      ]
     },
     "execution_count": 23,
     "metadata": {},
     "output_type": "execute_result"
    }
   ],
   "source": [
    "ridge_cv.fit(X_train_sc,y_train_pt)"
   ]
  },
  {
   "cell_type": "code",
   "execution_count": 24,
   "id": "45d5ebae",
   "metadata": {},
   "outputs": [
    {
     "data": {
      "text/plain": [
       "0.8728062589564889"
      ]
     },
     "execution_count": 24,
     "metadata": {},
     "output_type": "execute_result"
    }
   ],
   "source": [
    "ridge_cv.score(X_train_sc,y_train_pt)"
   ]
  },
  {
   "cell_type": "code",
   "execution_count": 25,
   "id": "44e21f5e",
   "metadata": {},
   "outputs": [
    {
     "data": {
      "text/plain": [
       "0.8710000268792369"
      ]
     },
     "execution_count": 25,
     "metadata": {},
     "output_type": "execute_result"
    }
   ],
   "source": [
    "ridge_cv.score(X_test_sc,y_test_pt)"
   ]
  },
  {
   "cell_type": "markdown",
   "id": "e98ce749",
   "metadata": {},
   "source": [
    "As seen above, there is a clear dictinction in cross_val_score of Lasso and Ridge model with its train and test scores. This signifies High Variance in the model.  "
   ]
  },
  {
   "cell_type": "code",
   "execution_count": 26,
   "id": "8b41844a",
   "metadata": {},
   "outputs": [
    {
     "data": {
      "text/plain": [
       "array([-0.02581353,  0.00131925,  0.03745417, -0.03030037,  0.        ,\n",
       "        0.00355375,  0.04141486,  0.32668835,  0.09142276,  0.        ,\n",
       "        0.07123871,  0.0032558 , -0.        , -0.        ,  0.00785016,\n",
       "        0.        ,  0.03822794,  0.        , -0.        ,  0.05193404,\n",
       "        0.04312678, -0.0078856 ,  0.02637546,  0.        , -0.00098932,\n",
       "        0.19966148,  0.07092618,  0.00615326,  0.03944205,  0.        ,\n",
       "        0.        , -0.00271124, -0.03326827,  0.03968752,  0.06895278,\n",
       "        0.        ,  0.09430569,  0.        ,  0.        ,  0.02397305,\n",
       "        0.00747912,  0.01773382,  0.00923918,  0.05400313, -0.04243372,\n",
       "       -0.0676309 ,  0.00258251, -0.        ,  0.00762555,  0.04921125,\n",
       "        0.        ,  0.        , -0.16515798,  0.        ])"
      ]
     },
     "execution_count": 26,
     "metadata": {},
     "output_type": "execute_result"
    }
   ],
   "source": [
    "lasso_cv.coef_"
   ]
  },
  {
   "cell_type": "code",
   "execution_count": 27,
   "id": "011bdfb9",
   "metadata": {},
   "outputs": [],
   "source": [
    "lasso_coefs = pd.Series(lasso_cv.coef_,X_train.columns)"
   ]
  },
  {
   "cell_type": "code",
   "execution_count": 28,
   "id": "ba855099",
   "metadata": {},
   "outputs": [
    {
     "data": {
      "text/plain": [
       "<AxesSubplot:xlabel=' Scaled Change in Sale Price', ylabel='Features'>"
      ]
     },
     "execution_count": 28,
     "metadata": {},
     "output_type": "execute_result"
    },
    {
     "data": {
      "image/png": "[encoded data removed]",
      "text/plain": [
       "<Figure size 720x576 with 1 Axes>"
      ]
     },
     "metadata": {
      "needs_background": "light"
     },
     "output_type": "display_data"
    }
   ],
   "source": [
    "plt.figure(figsize=(10,8))\n",
    "plt.xlabel(' Scaled Change in Sale Price')\n",
    "plt.ylabel('Features')\n",
    "lasso_coefs[lasso_coefs != 0].sort_values().plot.barh()"
   ]
  },
  {
   "cell_type": "markdown",
   "id": "d331dca4",
   "metadata": {},
   "source": [
    "The above depicted barchart shows the columns that affect the SalePrice and that will help correctlly predict Sale Price.These features would be used to create a new model and to predict Sale Price."
   ]
  },
  {
   "cell_type": "markdown",
   "id": "cacd3030",
   "metadata": {},
   "source": [
    "# Part II"
   ]
  },
  {
   "cell_type": "markdown",
   "id": "e6251e5c",
   "metadata": {},
   "source": [
    "## Model Prep"
   ]
  },
  {
   "cell_type": "code",
   "execution_count": 29,
   "id": "910e227b",
   "metadata": {
    "scrolled": true
   },
   "outputs": [
    {
     "data": {
      "text/plain": [
       "['MS SubClass',\n",
       " 'Lot Frontage',\n",
       " 'Lot Area',\n",
       " 'Street',\n",
       " 'Condition 2',\n",
       " 'Bldg Type',\n",
       " 'Overall Qual',\n",
       " 'Overall Cond',\n",
       " 'Year Remod/Add',\n",
       " 'Mas Vnr Area',\n",
       " 'Bsmt Exposure',\n",
       " 'BsmtFin SF 1',\n",
       " 'Total Bsmt SF',\n",
       " 'Central Air',\n",
       " 'Electrical',\n",
       " '1st Flr SF',\n",
       " 'Low Qual Fin SF',\n",
       " 'Gr Liv Area',\n",
       " 'Bsmt Full Bath',\n",
       " 'Bsmt Half Bath',\n",
       " 'Full Bath',\n",
       " 'Kitchen AbvGr',\n",
       " 'Kitchen Qual',\n",
       " 'TotRms AbvGrd',\n",
       " 'Fireplaces',\n",
       " 'Garage Cars',\n",
       " 'Wood Deck SF',\n",
       " 'Open Porch SF',\n",
       " 'Enclosed Porch',\n",
       " '3Ssn Porch',\n",
       " 'Screen Porch',\n",
       " 'Pool Area',\n",
       " 'Misc Val',\n",
       " 'Mo Sold',\n",
       " 'P',\n",
       " 'Y',\n",
       " 'Age']"
      ]
     },
     "execution_count": 29,
     "metadata": {},
     "output_type": "execute_result"
    }
   ],
   "source": [
    "features_from_lasso = list(lasso_coefs[lasso_coefs != 0].index)\n",
    "features_from_lasso"
   ]
  },
  {
   "cell_type": "code",
   "execution_count": 30,
   "id": "292fed95",
   "metadata": {},
   "outputs": [],
   "source": [
    "X = df_train[features_from_lasso]\n",
    "y = df_train['SalePrice']"
   ]
  },
  {
   "cell_type": "code",
   "execution_count": 31,
   "id": "74d22a44",
   "metadata": {},
   "outputs": [],
   "source": [
    "X_train, X_test, y_train, y_test = train_test_split(X,y,random_state=42)"
   ]
  },
  {
   "cell_type": "markdown",
   "id": "86a60e10",
   "metadata": {},
   "source": [
    "## Scaling Features"
   ]
  },
  {
   "cell_type": "code",
   "execution_count": 32,
   "id": "ed81d184",
   "metadata": {},
   "outputs": [],
   "source": [
    "ss = StandardScaler()"
   ]
  },
  {
   "cell_type": "code",
   "execution_count": 33,
   "id": "15e81a34",
   "metadata": {},
   "outputs": [],
   "source": [
    "X_train_sc = ss.fit_transform(X_train)\n",
    "X_test_sc = ss.transform(X_test)"
   ]
  },
  {
   "cell_type": "markdown",
   "id": "d11b0e7b",
   "metadata": {},
   "source": [
    "## Power Transforming the y"
   ]
  },
  {
   "cell_type": "code",
   "execution_count": 34,
   "id": "c9e9b4be",
   "metadata": {},
   "outputs": [],
   "source": [
    "pt = PowerTransformer()"
   ]
  },
  {
   "cell_type": "code",
   "execution_count": 35,
   "id": "2b3b82f6",
   "metadata": {},
   "outputs": [],
   "source": [
    "y_train_pt = pt.fit_transform(y_train.to_frame())\n",
    "y_test_pt = pt.transform(y_test.to_frame())"
   ]
  },
  {
   "cell_type": "markdown",
   "id": "86ef85c0",
   "metadata": {},
   "source": [
    "##  Model Instantiation"
   ]
  },
  {
   "cell_type": "code",
   "execution_count": 36,
   "id": "a03e61c9",
   "metadata": {},
   "outputs": [],
   "source": [
    "lr = LinearRegression()"
   ]
  },
  {
   "cell_type": "code",
   "execution_count": 37,
   "id": "1c558d4e",
   "metadata": {},
   "outputs": [],
   "source": [
    "l_alphas = np.logspace(-3,0,100)"
   ]
  },
  {
   "cell_type": "code",
   "execution_count": 38,
   "id": "efc3dfe8",
   "metadata": {},
   "outputs": [],
   "source": [
    "lasso_cv = LassoCV(alphas = l_alphas)"
   ]
  },
  {
   "cell_type": "code",
   "execution_count": 39,
   "id": "afb904c6",
   "metadata": {},
   "outputs": [],
   "source": [
    "alphas = np.logspace(0,5,100)"
   ]
  },
  {
   "cell_type": "code",
   "execution_count": 40,
   "id": "a880738a",
   "metadata": {},
   "outputs": [],
   "source": [
    "ridge_cv = RidgeCV(alphas=alphas, cv=5)"
   ]
  },
  {
   "cell_type": "markdown",
   "id": "10b4143b",
   "metadata": {},
   "source": [
    "## Model Validation"
   ]
  },
  {
   "cell_type": "code",
   "execution_count": 41,
   "id": "7f59b9a7",
   "metadata": {},
   "outputs": [
    {
     "data": {
      "text/plain": [
       "0.8374247890086487"
      ]
     },
     "execution_count": 41,
     "metadata": {},
     "output_type": "execute_result"
    }
   ],
   "source": [
    "cross_val_score(lr, X_train_sc,y_train_pt).mean()"
   ]
  },
  {
   "cell_type": "code",
   "execution_count": 42,
   "id": "22b9262a",
   "metadata": {},
   "outputs": [
    {
     "name": "stderr",
     "output_type": "stream",
     "text": [
      "/Users/ankitapatil/opt/anaconda3/lib/python3.8/site-packages/sklearn/utils/validation.py:63: DataConversionWarning: A column-vector y was passed when a 1d array was expected. Please change the shape of y to (n_samples, ), for example using ravel().\n",
      "  return f(*args, **kwargs)\n",
      "/Users/ankitapatil/opt/anaconda3/lib/python3.8/site-packages/sklearn/utils/validation.py:63: DataConversionWarning: A column-vector y was passed when a 1d array was expected. Please change the shape of y to (n_samples, ), for example using ravel().\n",
      "  return f(*args, **kwargs)\n",
      "/Users/ankitapatil/opt/anaconda3/lib/python3.8/site-packages/sklearn/utils/validation.py:63: DataConversionWarning: A column-vector y was passed when a 1d array was expected. Please change the shape of y to (n_samples, ), for example using ravel().\n",
      "  return f(*args, **kwargs)\n",
      "/Users/ankitapatil/opt/anaconda3/lib/python3.8/site-packages/sklearn/utils/validation.py:63: DataConversionWarning: A column-vector y was passed when a 1d array was expected. Please change the shape of y to (n_samples, ), for example using ravel().\n",
      "  return f(*args, **kwargs)\n",
      "/Users/ankitapatil/opt/anaconda3/lib/python3.8/site-packages/sklearn/utils/validation.py:63: DataConversionWarning: A column-vector y was passed when a 1d array was expected. Please change the shape of y to (n_samples, ), for example using ravel().\n",
      "  return f(*args, **kwargs)\n"
     ]
    },
    {
     "data": {
      "text/plain": [
       "0.8354512412825572"
      ]
     },
     "execution_count": 42,
     "metadata": {},
     "output_type": "execute_result"
    }
   ],
   "source": [
    "cross_val_score(lasso_cv,X_train_sc,y_train_pt).mean()"
   ]
  },
  {
   "cell_type": "code",
   "execution_count": 43,
   "id": "8a9b4cdd",
   "metadata": {},
   "outputs": [
    {
     "data": {
      "text/plain": [
       "0.8346236948570475"
      ]
     },
     "execution_count": 43,
     "metadata": {},
     "output_type": "execute_result"
    }
   ],
   "source": [
    "cross_val_score(ridge_cv,X_train_sc,y_train_pt).mean()"
   ]
  },
  {
   "cell_type": "code",
   "execution_count": null,
   "id": "00958c12",
   "metadata": {},
   "outputs": [],
   "source": []
  },
  {
   "cell_type": "markdown",
   "id": "eee380f9",
   "metadata": {},
   "source": [
    "## Model Fitting"
   ]
  },
  {
   "cell_type": "markdown",
   "id": "c36e5d9a",
   "metadata": {},
   "source": [
    "**Linear Regression**"
   ]
  },
  {
   "cell_type": "code",
   "execution_count": 44,
   "id": "b64c3cff",
   "metadata": {},
   "outputs": [
    {
     "data": {
      "text/plain": [
       "LinearRegression()"
      ]
     },
     "execution_count": 44,
     "metadata": {},
     "output_type": "execute_result"
    }
   ],
   "source": [
    "lr.fit(X_train_sc,y_train_pt)"
   ]
  },
  {
   "cell_type": "code",
   "execution_count": 45,
   "id": "18ac3c01",
   "metadata": {},
   "outputs": [
    {
     "data": {
      "text/plain": [
       "0.8761238690003077"
      ]
     },
     "execution_count": 45,
     "metadata": {},
     "output_type": "execute_result"
    }
   ],
   "source": [
    "lr.score(X_train_sc,y_train_pt)"
   ]
  },
  {
   "cell_type": "code",
   "execution_count": 46,
   "id": "8ec321b4",
   "metadata": {},
   "outputs": [
    {
     "data": {
      "text/plain": [
       "0.8743955203765517"
      ]
     },
     "execution_count": 46,
     "metadata": {},
     "output_type": "execute_result"
    }
   ],
   "source": [
    "lr.score(X_test_sc,y_test_pt)"
   ]
  },
  {
   "cell_type": "markdown",
   "id": "39d3d0fd",
   "metadata": {},
   "source": [
    "**Lasso Regression**"
   ]
  },
  {
   "cell_type": "code",
   "execution_count": 47,
   "id": "a685ab35",
   "metadata": {},
   "outputs": [
    {
     "name": "stderr",
     "output_type": "stream",
     "text": [
      "/Users/ankitapatil/opt/anaconda3/lib/python3.8/site-packages/sklearn/utils/validation.py:63: DataConversionWarning: A column-vector y was passed when a 1d array was expected. Please change the shape of y to (n_samples, ), for example using ravel().\n",
      "  return f(*args, **kwargs)\n"
     ]
    },
    {
     "data": {
      "text/plain": [
       "LassoCV(alphas=array([0.001     , 0.00107227, 0.00114976, 0.00123285, 0.00132194,\n",
       "       0.00141747, 0.00151991, 0.00162975, 0.00174753, 0.00187382,\n",
       "       0.00200923, 0.00215443, 0.00231013, 0.00247708, 0.00265609,\n",
       "       0.00284804, 0.00305386, 0.00327455, 0.00351119, 0.00376494,\n",
       "       0.00403702, 0.00432876, 0.00464159, 0.00497702, 0.0053367 ,\n",
       "       0.00572237, 0.00613591, 0.00657933, 0.0070548 , 0.00756463,\n",
       "       0.008...\n",
       "       0.09326033, 0.1       , 0.10722672, 0.1149757 , 0.12328467,\n",
       "       0.13219411, 0.14174742, 0.15199111, 0.16297508, 0.17475284,\n",
       "       0.18738174, 0.2009233 , 0.21544347, 0.23101297, 0.24770764,\n",
       "       0.26560878, 0.28480359, 0.30538555, 0.32745492, 0.35111917,\n",
       "       0.37649358, 0.40370173, 0.43287613, 0.46415888, 0.49770236,\n",
       "       0.53366992, 0.57223677, 0.61359073, 0.65793322, 0.70548023,\n",
       "       0.75646333, 0.81113083, 0.869749  , 0.93260335, 1.        ]))"
      ]
     },
     "execution_count": 47,
     "metadata": {},
     "output_type": "execute_result"
    }
   ],
   "source": [
    "lasso_cv.fit(X_train_sc,y_train_pt)"
   ]
  },
  {
   "cell_type": "code",
   "execution_count": 48,
   "id": "7aa3ea66",
   "metadata": {},
   "outputs": [
    {
     "data": {
      "text/plain": [
       "0.8757906263341043"
      ]
     },
     "execution_count": 48,
     "metadata": {},
     "output_type": "execute_result"
    }
   ],
   "source": [
    "lasso_cv.score(X_train_sc,y_train_pt)"
   ]
  },
  {
   "cell_type": "code",
   "execution_count": 49,
   "id": "442bda6b",
   "metadata": {},
   "outputs": [
    {
     "data": {
      "text/plain": [
       "0.8752759721742048"
      ]
     },
     "execution_count": 49,
     "metadata": {},
     "output_type": "execute_result"
    }
   ],
   "source": [
    "lasso_cv.score(X_test_sc,y_test_pt)"
   ]
  },
  {
   "cell_type": "markdown",
   "id": "97d55b01",
   "metadata": {},
   "source": [
    "**Ridge Regression**"
   ]
  },
  {
   "cell_type": "code",
   "execution_count": 50,
   "id": "2b51d008",
   "metadata": {},
   "outputs": [
    {
     "data": {
      "text/plain": [
       "RidgeCV(alphas=array([1.00000000e+00, 1.12332403e+00, 1.26185688e+00, 1.41747416e+00,\n",
       "       1.59228279e+00, 1.78864953e+00, 2.00923300e+00, 2.25701972e+00,\n",
       "       2.53536449e+00, 2.84803587e+00, 3.19926714e+00, 3.59381366e+00,\n",
       "       4.03701726e+00, 4.53487851e+00, 5.09413801e+00, 5.72236766e+00,\n",
       "       6.42807312e+00, 7.22080902e+00, 8.11130831e+00, 9.11162756e+00,\n",
       "       1.02353102e+01, 1.14975700e+0...\n",
       "       6.89261210e+03, 7.74263683e+03, 8.69749003e+03, 9.77009957e+03,\n",
       "       1.09749877e+04, 1.23284674e+04, 1.38488637e+04, 1.55567614e+04,\n",
       "       1.74752840e+04, 1.96304065e+04, 2.20513074e+04, 2.47707636e+04,\n",
       "       2.78255940e+04, 3.12571585e+04, 3.51119173e+04, 3.94420606e+04,\n",
       "       4.43062146e+04, 4.97702356e+04, 5.59081018e+04, 6.28029144e+04,\n",
       "       7.05480231e+04, 7.92482898e+04, 8.90215085e+04, 1.00000000e+05]),\n",
       "        cv=5)"
      ]
     },
     "execution_count": 50,
     "metadata": {},
     "output_type": "execute_result"
    }
   ],
   "source": [
    "ridge_cv.fit(X_train_sc,y_train_pt)"
   ]
  },
  {
   "cell_type": "code",
   "execution_count": 51,
   "id": "1bb4a4f2",
   "metadata": {},
   "outputs": [
    {
     "data": {
      "text/plain": [
       "0.8734354230727875"
      ]
     },
     "execution_count": 51,
     "metadata": {},
     "output_type": "execute_result"
    }
   ],
   "source": [
    "ridge_cv.score(X_train_sc,y_train_pt)"
   ]
  },
  {
   "cell_type": "code",
   "execution_count": 52,
   "id": "5286ae11",
   "metadata": {},
   "outputs": [
    {
     "data": {
      "text/plain": [
       "0.8700247897457902"
      ]
     },
     "execution_count": 52,
     "metadata": {},
     "output_type": "execute_result"
    }
   ],
   "source": [
    "ridge_cv.score(X_test_sc,y_test_pt)"
   ]
  },
  {
   "cell_type": "markdown",
   "id": "0bd2dbd0",
   "metadata": {},
   "source": [
    "Based on the cross_val_scores alone, the Lasso Regression model has performed better on the train data. The train and the test scores are within 5% of the cross_val_score. Absence of high variance also signifies that the model is not overfit to the train data, and will be able to make predictions on unseen data. \n",
    "\n",
    "Compared to other models, Lasso regression model fits the data best, and will be used for predicion. "
   ]
  },
  {
   "cell_type": "code",
   "execution_count": 53,
   "id": "da1c4e7c",
   "metadata": {},
   "outputs": [],
   "source": [
    "lasso_pred = lasso_cv.predict(X_test_sc)"
   ]
  },
  {
   "cell_type": "code",
   "execution_count": 54,
   "id": "4d90f7fb",
   "metadata": {},
   "outputs": [],
   "source": [
    "lasso_pred_inverse = pt.inverse_transform(lasso_pred.reshape(-1,1))"
   ]
  },
  {
   "cell_type": "code",
   "execution_count": 55,
   "id": "21fff505",
   "metadata": {},
   "outputs": [
    {
     "data": {
      "text/plain": [
       "array([ 7.23959389e+03,  4.54714927e+03, -1.82291321e+04,  1.13487616e+04,\n",
       "        4.09916863e+03,  5.55588904e+04, -1.70357367e+04,  6.00678937e+04,\n",
       "       -1.51390964e+03,  9.13720959e+03, -4.33554549e+03,  2.65353401e+04,\n",
       "        2.28986811e+01, -3.94637899e+03, -1.74338669e+04, -7.43645467e+02,\n",
       "       -1.33248943e+04,  1.64482327e+04,  9.11902903e+03, -1.08126119e+04,\n",
       "       -8.89701978e+03,  1.35652243e+04,  2.50715388e+03,  2.04468545e+04,\n",
       "       -8.33996686e+02,  2.72633382e+04, -6.33211549e+03,  1.41461000e+04,\n",
       "        1.92031075e+04,  1.06816663e+04,  2.50995009e+04, -6.33689665e+02,\n",
       "       -3.31269523e+02, -1.43263314e+04, -8.41026723e+03, -7.81194954e+03,\n",
       "       -3.69780965e+04, -1.49263540e+04,  1.29857235e+05, -3.25168653e+03,\n",
       "       -7.71898545e+03, -2.23683025e+04,  1.50092237e+04, -6.72051242e+03,\n",
       "       -4.17632587e+03,  4.97116154e+03,  4.47696287e+03,  4.64305582e+03,\n",
       "        2.69113243e+04,  1.24469180e+04,  7.61705332e+04, -3.84914365e+04,\n",
       "       -4.54596042e+03,  6.92821634e+04, -1.17592195e+04, -2.01778137e+04,\n",
       "        1.21067379e+04, -1.66064738e+04,  1.97500677e+03,  4.15829403e+03,\n",
       "       -7.73751797e+03,  3.53543194e+03, -2.24206442e+04,  5.48673813e+03,\n",
       "        1.96768267e+04, -1.83594885e+03,  8.97551485e+03,  7.21479688e+04,\n",
       "       -2.92401720e+03,  1.56786372e+04, -3.00007504e+04, -1.76166722e+04,\n",
       "        5.15058905e+04,  4.69811786e+04,  3.79620114e+04, -2.01567788e+04,\n",
       "       -1.96530333e+04,  1.44695156e+04, -2.93365078e+04, -7.78304906e+03,\n",
       "        1.12035038e+04, -1.75180399e+04,  1.08857209e+05, -2.31560518e+02,\n",
       "       -1.83671317e+03,  1.66385495e+03,  1.39826864e+04, -2.22072794e+04,\n",
       "       -1.67426817e+04, -4.28725712e+03, -2.13227658e+04, -1.99911522e+04,\n",
       "       -1.08053297e+04, -7.75997714e+03, -8.18001052e+03, -1.05947516e+04,\n",
       "       -9.50729389e+03,  2.21082917e+04, -2.00715209e+04, -4.41186487e+03,\n",
       "        1.03550678e+03,  5.43485362e+04,  5.84349025e+03,  2.29226808e+04,\n",
       "        3.34761459e+03,  1.37792069e+04,  1.35734966e+04, -3.92234373e+03,\n",
       "       -5.14463377e+03,  1.09845052e+04, -4.97948442e+04,  2.24864931e+02,\n",
       "       -3.12240170e+03,  4.06482575e+04,  1.31872107e+04, -2.18358412e+04,\n",
       "        1.77867348e+04,  6.79594813e+03, -5.82474180e+03, -1.69296025e+04,\n",
       "       -2.01881761e+04,  1.06414140e+04,  7.67953055e+02,  5.32526920e+03,\n",
       "       -1.14562360e+04, -8.06735401e+03,  2.83033842e+04,  2.97623608e+04,\n",
       "       -7.53101517e+03,  1.03952535e+03, -6.11846982e+03,  1.31672293e+04,\n",
       "        1.58776180e+04,  5.17270922e+04, -1.35685917e+04,  5.68645236e+03,\n",
       "        1.53831576e+04,  4.26589717e+04,  1.73103715e+04,  2.75441294e+04,\n",
       "        9.89489284e+03, -1.18360919e+04,  1.30285274e+04, -9.64243853e+03,\n",
       "       -6.31689271e+03,  3.14691957e+03,  2.45473664e+04, -2.82274690e+04,\n",
       "       -5.42653902e+03, -2.00590525e+04, -4.02416494e+02, -1.67777144e+02,\n",
       "        2.15808967e+04,  5.28960558e+04, -2.14470636e+04,  1.81281139e+03,\n",
       "       -4.73484436e+03, -1.62024475e+04, -4.34650749e+03, -4.32785828e+04,\n",
       "        6.34464701e+02,  1.15002592e+04,  8.31109890e+02, -1.34601374e+04,\n",
       "       -2.45823591e+04,  1.60924579e+04,  1.78805382e+04,  2.15263639e+03,\n",
       "       -2.90864803e+04, -2.19132289e+04,  3.37080052e+04,  1.23048282e+03,\n",
       "       -1.57849848e+04,  2.85734799e+03, -3.21155290e+04, -5.12268159e+03,\n",
       "        1.60934913e+04, -1.19672035e+04,  1.15386599e+03, -2.09796585e+04,\n",
       "       -3.72597124e+04, -1.26751522e+03,  3.16718257e+03, -2.40903939e+04,\n",
       "       -1.34997991e+04,  3.55708476e+03, -3.94541398e+03,  2.56066640e+04,\n",
       "       -5.37053582e+03, -4.29311492e+03,  1.73685972e+04, -9.72456231e+03,\n",
       "       -8.23339546e+03,  1.25984800e+04,  1.41183747e+04, -1.63750317e+04,\n",
       "       -4.09255887e+03,  5.01526632e+04,  1.29857173e+03,  2.18068730e+04,\n",
       "        4.95641354e+03,  3.91077099e+02, -1.32096333e+04,  1.46928268e+04,\n",
       "       -6.18789466e+03,  4.00908908e+03,  2.11802166e+04,  1.37110999e+04,\n",
       "        9.52453507e+03, -1.43930877e+04, -1.42362264e+03,  4.56174802e+04,\n",
       "        1.87684706e+03, -1.66423953e+04,  3.59559480e+04, -2.10115349e+04,\n",
       "       -1.00639330e+04,  8.35428898e+02, -9.41903985e+03, -9.52754431e+03,\n",
       "       -1.44715089e+04,  1.12522911e+04, -4.73183095e+03, -6.80210322e+03,\n",
       "        4.76658045e+02,  3.53299546e+04, -1.48734235e+04, -1.53680851e+03,\n",
       "       -7.13365489e+03, -8.78729133e+03, -7.46549410e+02,  5.63215408e+03,\n",
       "       -2.77061553e+03, -1.52001146e+04, -2.70167968e+03, -1.13505367e+04,\n",
       "        1.40214864e+03, -9.55352632e+03,  3.93686316e+03, -1.70506161e+04,\n",
       "        1.08805610e+04,  1.89623060e+04,  8.58412573e+03,  3.62488034e+03,\n",
       "       -9.92539211e+02, -3.62527443e+04, -3.54119294e+03, -3.21930917e+03,\n",
       "       -5.79465830e+03, -3.03062720e+04, -2.73683120e+04,  2.04582554e+04,\n",
       "        1.41957691e+04, -4.74049354e+03,  5.64953008e+04, -1.53897383e+03,\n",
       "        5.54302764e+03, -6.03664850e+03,  7.40878473e+03, -1.58380004e+04,\n",
       "        5.03213484e+04, -7.50919390e+03, -1.48701698e+04, -1.64544060e+04,\n",
       "       -1.12917469e+04,  2.17728359e+03, -4.63921679e+04, -2.56471103e+03,\n",
       "        1.28584528e+04,  5.02057090e+04,  2.38813695e+03, -5.39052186e+03,\n",
       "        4.27900974e+02, -5.57474645e+03,  8.65399786e+03,  7.55832340e+04,\n",
       "        5.68562437e+04, -1.04948594e+04, -3.00553050e+03, -1.98072345e+04,\n",
       "        1.76863730e+04, -1.24170310e+04, -3.92847806e+04,  3.68004343e+03,\n",
       "       -1.84289184e+04,  3.56643542e+04,  1.64416887e+04,  3.76294977e+04,\n",
       "       -2.28228969e+03, -2.38558424e+04, -3.17333461e+04, -2.22110953e+03,\n",
       "       -2.21929894e+04, -4.55073438e+03, -3.40198182e+03,  1.39899537e+04,\n",
       "        1.64672474e+04,  8.65306441e+03,  5.51429792e+03,  2.03797522e+03,\n",
       "        8.65095916e+03,  5.40131040e+04, -4.03897551e+03, -1.19794450e+04,\n",
       "       -2.47245365e+04,  3.50616688e+03, -2.52653341e+03, -1.66398949e+04,\n",
       "        4.53323428e+03, -8.84949680e+03,  1.14039364e+03, -3.94723816e+03,\n",
       "       -4.17874136e+04, -3.01648873e+04, -1.71733787e+04,  2.11922345e+04,\n",
       "        7.31357562e+03, -2.09559677e+04,  1.02681086e+04,  1.89954151e+04,\n",
       "        6.14399808e+04, -1.53548620e+04, -1.57959726e+04, -1.87939279e+04,\n",
       "       -8.01697996e+03,  1.06085660e+04, -7.02598225e+03, -1.88748126e+04,\n",
       "       -2.00467401e+03,  3.00706409e+03, -1.01235565e+04, -1.98666509e+04,\n",
       "       -2.30594592e+03, -3.44590988e+04,  2.39387964e+04, -6.05341327e+03,\n",
       "        7.16845865e+04, -2.16088029e+04,  5.18080171e+04,  1.93127406e+04,\n",
       "        1.34853664e+03,  5.85922335e+02, -8.87735112e+03, -2.86646640e+04,\n",
       "       -1.73390932e+04, -4.54383193e+04,  5.72482999e+03, -1.21921903e+03,\n",
       "       -6.93599792e+03, -3.61562230e+03, -2.37065225e+04,  1.44170999e+04,\n",
       "        4.48545474e+03,  4.19060146e+04, -1.79195718e+03, -1.43335836e+04,\n",
       "        5.64071937e+04, -2.57606593e+04,  3.52426337e+03, -3.86256622e+04,\n",
       "       -5.06975466e+03,  3.66435066e+03,  2.30902813e+04, -3.87165791e+04,\n",
       "        1.37550656e+04, -1.09204959e+04,  3.42635469e+04, -2.15663890e+04,\n",
       "       -3.39556379e+04,  6.44447335e+04, -1.31551576e+04, -2.59170289e+03,\n",
       "        1.87629424e+04,  1.26269407e+05,  1.23662050e+04,  3.91146067e+04,\n",
       "       -3.01944138e+03,  6.74008384e+03, -2.42447768e+03, -1.60672054e+04,\n",
       "        1.88226336e+04, -1.76242218e+04,  3.90871888e+04, -2.65396409e+04,\n",
       "       -1.70272181e+04, -1.18113714e+03, -4.91810183e+04, -1.84916596e+04,\n",
       "        1.46610984e+01, -8.79151040e+02, -2.56948940e+03,  4.41247085e+04,\n",
       "       -3.55316481e+04,  2.09358827e+04, -1.94866834e+02, -2.81947578e+03,\n",
       "       -2.06875368e+03,  2.34137198e+04,  2.77801562e+04,  2.73679551e+03,\n",
       "        1.11627979e+04, -1.55402851e+04, -6.20024591e+03,  4.28875037e+04,\n",
       "       -5.00187211e+04, -8.52308704e+03,  5.55706577e+03,  2.86895333e+04,\n",
       "        6.34689093e+04,  6.78973359e+03,  5.72707503e+04,  3.41699162e+04,\n",
       "        1.01222715e+05, -3.13245668e+04, -4.65380134e+03,  1.57238490e+03,\n",
       "       -2.24522317e+04,  4.53290000e+03,  2.39273997e+04,  1.99921593e+04,\n",
       "        6.72910268e+04, -1.60923954e+03,  1.59758365e+04, -4.19577454e+03,\n",
       "        3.13533333e+03,  1.78893968e+04,  1.16594581e+03, -1.74482260e+04,\n",
       "        1.26571545e+05, -2.00232845e+04, -2.30705967e+03,  1.56686779e+04,\n",
       "       -6.24919337e+03, -2.92609810e+04, -2.68886517e+03, -3.13227531e+04,\n",
       "       -7.05007303e+03,  7.32621434e+04,  6.68600826e+04,  7.20951941e+03,\n",
       "        2.80012576e+04, -1.22141519e+04,  4.63054867e+04, -1.41546062e+04,\n",
       "       -2.04079181e+04,  1.50892020e+04, -1.61733909e+04,  2.46471723e+04,\n",
       "       -1.23762364e+04,  2.18383683e+04,  4.12625688e+04,  1.03251091e+04,\n",
       "       -6.10017928e+03, -2.36345099e+04, -1.72086317e+04,  1.06556844e+04,\n",
       "       -8.61065707e+03, -3.87679779e+04, -1.26283073e+04, -2.77640010e+04,\n",
       "        7.10939936e+03,  1.88785433e+03,  1.73687461e+04, -1.83327656e+04,\n",
       "       -2.68954606e+04,  1.04035634e+04,  1.04685197e+04, -3.01885298e+03,\n",
       "       -2.17221853e+04, -1.91472043e+04,  7.19019692e+01, -9.31024894e+03,\n",
       "        8.11757571e+04, -1.13801134e+04,  2.61623690e+04,  5.32416103e+04,\n",
       "        6.88396515e+04,  1.72557351e+04,  5.29404338e+03, -7.44225941e+03,\n",
       "        2.26934639e+04,  1.20678741e+02, -3.82881396e+04, -6.26001673e+03,\n",
       "       -7.50253285e+03,  1.18592834e+04,  3.01054037e+04,  1.08622444e+04,\n",
       "        2.13547375e+04, -1.09751823e+04, -3.01305509e+04, -3.38114752e+03,\n",
       "        4.08076061e+03,  1.98924521e+03, -2.98532661e+03,  3.79649251e+03,\n",
       "       -7.58332173e+03, -3.93722911e+04, -1.24814999e+04,  5.48732635e+03,\n",
       "        7.38704718e+03, -3.13234899e+04,  1.09523075e+04, -2.48523486e+04,\n",
       "        3.29155030e+02,  9.89868101e+03, -5.31157795e+04, -1.78385932e+04,\n",
       "       -1.27969329e+04,  8.96311590e+03, -4.42044400e+03,  9.22224765e+03,\n",
       "       -4.27095123e+03])"
      ]
     },
     "execution_count": 55,
     "metadata": {},
     "output_type": "execute_result"
    }
   ],
   "source": [
    "residuals = y_test.values - pd.Series(list(lasso_pred_inverse)).map(lambda x: x[0]).values\n",
    "residuals"
   ]
  },
  {
   "cell_type": "code",
   "execution_count": 56,
   "id": "701efab6",
   "metadata": {},
   "outputs": [
    {
     "data": {
      "image/png": "[encoded data removed]",
      "text/plain": [
       "<Figure size 432x288 with 1 Axes>"
      ]
     },
     "metadata": {
      "needs_background": "light"
     },
     "output_type": "display_data"
    }
   ],
   "source": [
    "plt.xlabel('Predicted Sale Price')\n",
    "plt.ylabel('Residuals')\n",
    "plt.title('Relation between Residuals and Predicted Sale Price')\n",
    "plt.axhline(0,color='red')\n",
    "sns.scatterplot(x=pd.Series(list(lasso_pred_inverse)).map(lambda x: x[0]).values,y=residuals);"
   ]
  },
  {
   "cell_type": "code",
   "execution_count": 82,
   "id": "ede24494",
   "metadata": {},
   "outputs": [
    {
     "data": {
      "image/png": "[encoded data removed]",
      "text/plain": [
       "<Figure size 360x360 with 1 Axes>"
      ]
     },
     "metadata": {
      "needs_background": "light"
     },
     "output_type": "display_data"
    }
   ],
   "source": [
    "sns.displot(residuals);"
   ]
  },
  {
   "cell_type": "code",
   "execution_count": 58,
   "id": "89c843c6",
   "metadata": {},
   "outputs": [
    {
     "data": {
      "text/plain": [
       "<AxesSubplot:>"
      ]
     },
     "execution_count": 58,
     "metadata": {},
     "output_type": "execute_result"
    },
    {
     "data": {
      "image/png": "[encoded data removed]",
      "text/plain": [
       "<Figure size 432x288 with 1 Axes>"
      ]
     },
     "metadata": {
      "needs_background": "light"
     },
     "output_type": "display_data"
    }
   ],
   "source": [
    "sns.boxplot(x=residuals)"
   ]
  },
  {
   "cell_type": "code",
   "execution_count": 59,
   "id": "514eeb35",
   "metadata": {},
   "outputs": [],
   "source": [
    "lasso_coefs = pd.Series(lasso_cv.coef_,features_from_lasso)"
   ]
  },
  {
   "cell_type": "code",
   "execution_count": 60,
   "id": "a052a929",
   "metadata": {},
   "outputs": [
    {
     "data": {
      "text/plain": [
       "<AxesSubplot:xlabel='Percentage Change in Sale Price', ylabel='Features'>"
      ]
     },
     "execution_count": 60,
     "metadata": {},
     "output_type": "execute_result"
    },
    {
     "data": {
      "image/png": "[encoded data removed]",
      "text/plain": [
       "<Figure size 720x576 with 1 Axes>"
      ]
     },
     "metadata": {
      "needs_background": "light"
     },
     "output_type": "display_data"
    }
   ],
   "source": [
    "plt.figure(figsize=(10,8))\n",
    "plt.xlabel('Percentage Change in Sale Price')\n",
    "plt.ylabel('Features')\n",
    "lasso_coefs[lasso_coefs != 0].sort_values().plot.barh()"
   ]
  },
  {
   "cell_type": "code",
   "execution_count": 61,
   "id": "5485fe38",
   "metadata": {},
   "outputs": [
    {
     "data": {
      "text/plain": [
       "array([-0.02847071,  0.00314218,  0.03905773, -0.0345108 ,  0.0066997 ,\n",
       "        0.04087042,  0.32211072,  0.09653577,  0.07003335,  0.00563795,\n",
       "        0.01145022,  0.0380915 ,  0.05130049,  0.04299186, -0.01060626,\n",
       "        0.02543089, -0.00478266,  0.19604962,  0.0745879 ,  0.00994903,\n",
       "        0.04364775, -0.00586734, -0.03544559,  0.04587115,  0.06793881,\n",
       "        0.09174675,  0.02697433,  0.01100387,  0.02486066,  0.01317625,\n",
       "        0.05808779, -0.04736813, -0.07288732,  0.00558185,  0.01403915,\n",
       "        0.05322029, -0.17036146])"
      ]
     },
     "execution_count": 61,
     "metadata": {},
     "output_type": "execute_result"
    }
   ],
   "source": [
    "lasso_cv.coef_"
   ]
  },
  {
   "cell_type": "markdown",
   "id": "ecc0e52f",
   "metadata": {},
   "source": [
    "**Transforming the coefficients**"
   ]
  },
  {
   "cell_type": "markdown",
   "id": "0900b762",
   "metadata": {},
   "source": [
    "The model's target variable is logarithm of the actual target variable. This was done to turn target variable distribution into a more Guassian like curve. The actual coefficients of the features can be deduced by taking the exponent of each coefficient. ! is subtracted form each column \n"
   ]
  },
  {
   "cell_type": "code",
   "execution_count": 62,
   "id": "acb3671c",
   "metadata": {},
   "outputs": [
    {
     "data": {
      "text/plain": [
       "Overall Qual       0.380038\n",
       "Gr Liv Area        0.216587\n",
       "Overall Cond       0.101349\n",
       "Garage Cars        0.096087\n",
       "Bsmt Full Bath     0.077440\n",
       "Year Remod/Add     0.072544\n",
       "Fireplaces         0.070300\n",
       "Screen Porch       0.059808\n",
       "Y                  0.054662\n",
       "Total Bsmt SF      0.052639\n",
       "TotRms AbvGrd      0.046940\n",
       "Full Bath          0.044614\n",
       "Central Air        0.043929\n",
       "Bldg Type          0.041717\n",
       "Lot Area           0.039831\n",
       "BsmtFin SF 1       0.038826\n",
       "Wood Deck SF       0.027341\n",
       "1st Flr SF         0.025757\n",
       "Enclosed Porch     0.025172\n",
       "P                  0.014138\n",
       "3Ssn Porch         0.013263\n",
       "Bsmt Exposure      0.011516\n",
       "Open Porch SF      0.011065\n",
       "Bsmt Half Bath     0.009999\n",
       "Condition 2        0.006722\n",
       "Mas Vnr Area       0.005654\n",
       "Mo Sold            0.005597\n",
       "Lot Frontage       0.003147\n",
       "Low Qual Fin SF   -0.004771\n",
       "Kitchen AbvGr     -0.005850\n",
       "Electrical        -0.010550\n",
       "MS SubClass       -0.028069\n",
       "Street            -0.033922\n",
       "Kitchen Qual      -0.034825\n",
       "Pool Area         -0.046264\n",
       "Misc Val          -0.070294\n",
       "Age               -0.156640\n",
       "dtype: float64"
      ]
     },
     "execution_count": 62,
     "metadata": {},
     "output_type": "execute_result"
    }
   ],
   "source": [
    "actual_coefs = (np.exp(lasso_coefs) - 1).sort_values(ascending=False)\n",
    "actual_coefs"
   ]
  },
  {
   "cell_type": "code",
   "execution_count": 63,
   "id": "1ef2fd3e",
   "metadata": {},
   "outputs": [
    {
     "data": {
      "image/png": "[encoded data removed]",
      "text/plain": [
       "<Figure size 1080x576 with 1 Axes>"
      ]
     },
     "metadata": {
      "needs_background": "light"
     },
     "output_type": "display_data"
    }
   ],
   "source": [
    "plt.figure(figsize=(15,8))\n",
    "unscaled = pd.Series(actual_coefs,actual_coefs.index)\n",
    "plt.xlabel('Percentage Change in Sale Price')\n",
    "plt.ylabel('Features')\n",
    "plt.title('Relation Between Features and Corresponding Change in Sale Price')\n",
    "sns.barplot(x=actual_coefs.values,y=actual_coefs.index,ci=None,palette='coolwarm')\n",
    "plt.savefig('../Images/Coefficients');"
   ]
  },
  {
   "cell_type": "markdown",
   "id": "6d53abf6",
   "metadata": {},
   "source": [
    "The above plotted graph shows the weightage every feature carries. After converting, the coefficients represent percentage increase or decrease. For example, with all other variables held constant, with every 1 year increase in the Age of the house, the Sale Price goes down by close to 0.175%."
   ]
  },
  {
   "cell_type": "markdown",
   "id": "cdd40119",
   "metadata": {},
   "source": [
    "## Comparison to Baseline Model "
   ]
  },
  {
   "cell_type": "code",
   "execution_count": 64,
   "id": "bdaf8965",
   "metadata": {},
   "outputs": [],
   "source": [
    "dumb = DummyRegressor()"
   ]
  },
  {
   "cell_type": "code",
   "execution_count": 65,
   "id": "f9b4f350",
   "metadata": {},
   "outputs": [
    {
     "data": {
      "text/plain": [
       "-0.001423025406326417"
      ]
     },
     "execution_count": 65,
     "metadata": {},
     "output_type": "execute_result"
    }
   ],
   "source": [
    "cross_val_score(dumb,X_train_sc,y_train_pt).mean()"
   ]
  },
  {
   "cell_type": "code",
   "execution_count": 66,
   "id": "a22f8b15",
   "metadata": {},
   "outputs": [
    {
     "data": {
      "text/plain": [
       "DummyRegressor()"
      ]
     },
     "execution_count": 66,
     "metadata": {},
     "output_type": "execute_result"
    }
   ],
   "source": [
    "dumb.fit(X_train_sc,y_train_pt)"
   ]
  },
  {
   "cell_type": "code",
   "execution_count": 67,
   "id": "45398928",
   "metadata": {},
   "outputs": [
    {
     "data": {
      "text/plain": [
       "(0.0, -0.00022989736589007492)"
      ]
     },
     "execution_count": 67,
     "metadata": {},
     "output_type": "execute_result"
    }
   ],
   "source": [
    "dumb.score(X_train_sc,y_train_pt), dumb.score(X_test_sc,y_test_pt)"
   ]
  },
  {
   "cell_type": "markdown",
   "id": "91355347",
   "metadata": {},
   "source": [
    "As seen above, the model has performed better than the Baseline Model. The train and test scores are in fact comparison of model prediction to baseline model prediction. If the model had performed worse than Baseline model, the scores would have been negative. "
   ]
  },
  {
   "cell_type": "markdown",
   "id": "aeb6ed1f",
   "metadata": {},
   "source": [
    "## Kaggle Prediction"
   ]
  },
  {
   "cell_type": "markdown",
   "id": "6375f4be",
   "metadata": {},
   "source": [
    "The model built using train data is being used to test it on the Kaggel test data. "
   ]
  },
  {
   "cell_type": "markdown",
   "id": "6cbc891b",
   "metadata": {},
   "source": [
    "In order to predict Kaggle test data, entire train data is being used to train the model and predict 'SalePrice' from test data. "
   ]
  },
  {
   "cell_type": "code",
   "execution_count": 68,
   "id": "f6eb45ba",
   "metadata": {},
   "outputs": [],
   "source": [
    "model_lasso = LassoCV(alphas = l_alphas)"
   ]
  },
  {
   "cell_type": "code",
   "execution_count": 69,
   "id": "5d893402",
   "metadata": {},
   "outputs": [],
   "source": [
    "X_train = df_train[features_from_lasso]\n",
    "y_train = df_train['SalePrice']\n",
    "X_test = test[features_from_lasso]"
   ]
  },
  {
   "cell_type": "code",
   "execution_count": 70,
   "id": "98618ef6",
   "metadata": {},
   "outputs": [],
   "source": [
    "ss = StandardScaler()"
   ]
  },
  {
   "cell_type": "code",
   "execution_count": 71,
   "id": "9f0e6375",
   "metadata": {},
   "outputs": [],
   "source": [
    "X_train_sc = ss.fit_transform(X_train)\n",
    "X_test_sc = ss.transform(X_test)"
   ]
  },
  {
   "cell_type": "code",
   "execution_count": 72,
   "id": "ae0dbf33",
   "metadata": {},
   "outputs": [],
   "source": [
    "pt = PowerTransformer()\n",
    "y_train_pt = pt.fit_transform(y_train.to_frame())"
   ]
  },
  {
   "cell_type": "code",
   "execution_count": 73,
   "id": "efcfa25a",
   "metadata": {},
   "outputs": [
    {
     "name": "stderr",
     "output_type": "stream",
     "text": [
      "/Users/ankitapatil/opt/anaconda3/lib/python3.8/site-packages/sklearn/utils/validation.py:63: DataConversionWarning: A column-vector y was passed when a 1d array was expected. Please change the shape of y to (n_samples, ), for example using ravel().\n",
      "  return f(*args, **kwargs)\n"
     ]
    },
    {
     "data": {
      "text/plain": [
       "LassoCV(alphas=array([0.001     , 0.00107227, 0.00114976, 0.00123285, 0.00132194,\n",
       "       0.00141747, 0.00151991, 0.00162975, 0.00174753, 0.00187382,\n",
       "       0.00200923, 0.00215443, 0.00231013, 0.00247708, 0.00265609,\n",
       "       0.00284804, 0.00305386, 0.00327455, 0.00351119, 0.00376494,\n",
       "       0.00403702, 0.00432876, 0.00464159, 0.00497702, 0.0053367 ,\n",
       "       0.00572237, 0.00613591, 0.00657933, 0.0070548 , 0.00756463,\n",
       "       0.008...\n",
       "       0.09326033, 0.1       , 0.10722672, 0.1149757 , 0.12328467,\n",
       "       0.13219411, 0.14174742, 0.15199111, 0.16297508, 0.17475284,\n",
       "       0.18738174, 0.2009233 , 0.21544347, 0.23101297, 0.24770764,\n",
       "       0.26560878, 0.28480359, 0.30538555, 0.32745492, 0.35111917,\n",
       "       0.37649358, 0.40370173, 0.43287613, 0.46415888, 0.49770236,\n",
       "       0.53366992, 0.57223677, 0.61359073, 0.65793322, 0.70548023,\n",
       "       0.75646333, 0.81113083, 0.869749  , 0.93260335, 1.        ]))"
      ]
     },
     "execution_count": 73,
     "metadata": {},
     "output_type": "execute_result"
    }
   ],
   "source": [
    "model_lasso.fit(X_train_sc,y_train_pt)"
   ]
  },
  {
   "cell_type": "code",
   "execution_count": 74,
   "id": "6cd01999",
   "metadata": {},
   "outputs": [
    {
     "name": "stderr",
     "output_type": "stream",
     "text": [
      "/Users/ankitapatil/opt/anaconda3/lib/python3.8/site-packages/sklearn/utils/validation.py:63: DataConversionWarning: A column-vector y was passed when a 1d array was expected. Please change the shape of y to (n_samples, ), for example using ravel().\n",
      "  return f(*args, **kwargs)\n",
      "/Users/ankitapatil/opt/anaconda3/lib/python3.8/site-packages/sklearn/utils/validation.py:63: DataConversionWarning: A column-vector y was passed when a 1d array was expected. Please change the shape of y to (n_samples, ), for example using ravel().\n",
      "  return f(*args, **kwargs)\n",
      "/Users/ankitapatil/opt/anaconda3/lib/python3.8/site-packages/sklearn/utils/validation.py:63: DataConversionWarning: A column-vector y was passed when a 1d array was expected. Please change the shape of y to (n_samples, ), for example using ravel().\n",
      "  return f(*args, **kwargs)\n",
      "/Users/ankitapatil/opt/anaconda3/lib/python3.8/site-packages/sklearn/utils/validation.py:63: DataConversionWarning: A column-vector y was passed when a 1d array was expected. Please change the shape of y to (n_samples, ), for example using ravel().\n",
      "  return f(*args, **kwargs)\n",
      "/Users/ankitapatil/opt/anaconda3/lib/python3.8/site-packages/sklearn/utils/validation.py:63: DataConversionWarning: A column-vector y was passed when a 1d array was expected. Please change the shape of y to (n_samples, ), for example using ravel().\n",
      "  return f(*args, **kwargs)\n"
     ]
    },
    {
     "data": {
      "text/plain": [
       "0.8504705208402787"
      ]
     },
     "execution_count": 74,
     "metadata": {},
     "output_type": "execute_result"
    }
   ],
   "source": [
    "cross_val_score(model_lasso, X_train_sc,y_train_pt).mean()"
   ]
  },
  {
   "cell_type": "markdown",
   "id": "f4060e77",
   "metadata": {},
   "source": [
    "The cross_val_score indicates that 85% of the variance in the target variable, Sale Price, can be explained by the model variables. "
   ]
  },
  {
   "cell_type": "code",
   "execution_count": 75,
   "id": "5e70a65a",
   "metadata": {},
   "outputs": [],
   "source": [
    "kag_pred = lasso_cv.predict(X_test_sc)"
   ]
  },
  {
   "cell_type": "code",
   "execution_count": 76,
   "id": "8f8b14cf",
   "metadata": {},
   "outputs": [],
   "source": [
    "kag_pred_inverse =pt.inverse_transform(kag_pred.reshape(-1,1))"
   ]
  },
  {
   "cell_type": "code",
   "execution_count": 77,
   "id": "84c85a7d",
   "metadata": {},
   "outputs": [
    {
     "data": {
      "text/html": [
       "<div>\n",
       "<style scoped>\n",
       "    .dataframe tbody tr th:only-of-type {\n",
       "        vertical-align: middle;\n",
       "    }\n",
       "\n",
       "    .dataframe tbody tr th {\n",
       "        vertical-align: top;\n",
       "    }\n",
       "\n",
       "    .dataframe thead th {\n",
       "        text-align: right;\n",
       "    }\n",
       "</style>\n",
       "<table border=\"1\" class=\"dataframe\">\n",
       "  <thead>\n",
       "    <tr style=\"text-align: right;\">\n",
       "      <th></th>\n",
       "      <th>SalePrice</th>\n",
       "    </tr>\n",
       "    <tr>\n",
       "      <th>Id</th>\n",
       "      <th></th>\n",
       "    </tr>\n",
       "  </thead>\n",
       "  <tbody>\n",
       "    <tr>\n",
       "      <th>2658</th>\n",
       "      <td>137943.694223</td>\n",
       "    </tr>\n",
       "    <tr>\n",
       "      <th>2718</th>\n",
       "      <td>154568.710372</td>\n",
       "    </tr>\n",
       "    <tr>\n",
       "      <th>2414</th>\n",
       "      <td>222930.797561</td>\n",
       "    </tr>\n",
       "    <tr>\n",
       "      <th>1989</th>\n",
       "      <td>110343.091504</td>\n",
       "    </tr>\n",
       "    <tr>\n",
       "      <th>625</th>\n",
       "      <td>183005.159648</td>\n",
       "    </tr>\n",
       "    <tr>\n",
       "      <th>...</th>\n",
       "      <td>...</td>\n",
       "    </tr>\n",
       "    <tr>\n",
       "      <th>1662</th>\n",
       "      <td>196141.562393</td>\n",
       "    </tr>\n",
       "    <tr>\n",
       "      <th>1234</th>\n",
       "      <td>210463.987748</td>\n",
       "    </tr>\n",
       "    <tr>\n",
       "      <th>1373</th>\n",
       "      <td>123839.361877</td>\n",
       "    </tr>\n",
       "    <tr>\n",
       "      <th>1672</th>\n",
       "      <td>111896.319699</td>\n",
       "    </tr>\n",
       "    <tr>\n",
       "      <th>1939</th>\n",
       "      <td>126414.507483</td>\n",
       "    </tr>\n",
       "  </tbody>\n",
       "</table>\n",
       "<p>878 rows × 1 columns</p>\n",
       "</div>"
      ],
      "text/plain": [
       "          SalePrice\n",
       "Id                 \n",
       "2658  137943.694223\n",
       "2718  154568.710372\n",
       "2414  222930.797561\n",
       "1989  110343.091504\n",
       "625   183005.159648\n",
       "...             ...\n",
       "1662  196141.562393\n",
       "1234  210463.987748\n",
       "1373  123839.361877\n",
       "1672  111896.319699\n",
       "1939  126414.507483\n",
       "\n",
       "[878 rows x 1 columns]"
      ]
     },
     "execution_count": 77,
     "metadata": {},
     "output_type": "execute_result"
    }
   ],
   "source": [
    "kag_subm = pd.DataFrame(kag_pred_inverse,index=test['Id'],columns=['SalePrice'])\n",
    "kag_subm"
   ]
  },
  {
   "cell_type": "code",
   "execution_count": 78,
   "id": "fc10d482",
   "metadata": {},
   "outputs": [],
   "source": [
    "kag_subm.to_csv('../datasets/kaggle_submission_final.csv')"
   ]
  },
  {
   "cell_type": "markdown",
   "id": "45d88334",
   "metadata": {},
   "source": [
    "The Kaggle Score for this model came up to be 27281.91494. This score is the Root Mean Square Error."
   ]
  },
  {
   "cell_type": "markdown",
   "id": "e20de8b6",
   "metadata": {},
   "source": [
    "## Conclusion"
   ]
  },
  {
   "cell_type": "markdown",
   "id": "7f14ccdb",
   "metadata": {},
   "source": [
    "After cleaning the data, understanding correlation within different columns and with Sale Price, features that affect Sale Price of the house were determined. Amomgst these features were numerical features and ordinal & nominal features, turned in numerical features either using one hot encoding, or using exploratory data analysis. \n",
    "\n",
    "All these features were used to overfit the model, and regularize the model using the Lasso Regression. Based on results from initial lasso regression, features were selected and using these features, an improved lasso model modeled and compared to linear regression and ridge regression models. All the model evaluations were performed using train data, by splitting the data into train & test datasets and testing the models performance based on R2 scores and cross_val_scores. Amongst all the models, Lasso Regression model seemed to be the best fitting model for the datatset. The model exhibited .85 cross_val_score which means 85% of variance in the Sale PRice can be explained by the model. The model's performance was performed better than the Baseline model. \n",
    "\n",
    "Based on the model predictions, both structral and internal factors contribute to the Sale Price of the house. Overall Quality i.e. overall material and finish of the house has the highest positive impact on the price, followed by Total Living Area in sq ft of the house. These are followed by Garage Cars, which is essentially the garage space, and Overall Condition of the house. Remodeling a house brings up the price of teh house. Internal factors like number of baths, bedrooms, basement sq ft area have a strong positive effect on Sale Price. Finished Basement also has a positive effect but not as much as having a bigger basement. Having a fireplace certainly brings up the Sale Price of teh house. External factors that help increase the price of the house are Paved Driveway, Screen Porch, Wooden Deck and an Enclosed Porch. \n",
    "\n",
    "A strong deterring factor, and also an obvious one, to the Sale Price is Age of the house, number of years between the Year Built and the Year Sold. Value of Miscellaneous Features of the House are also a deterring factor tpo Sale Price. Pool area is a negative factor for Sale Price. This maybe because of the time and resources involved in maintaining it. An excellent kitchen is not so much a positive factor on the Sale Price as a typical/average quality is a negative factor. Gravel Street is not a positive choice. When it comes to Electrcail Systems of the House, most of the houses have Mixed wiring, which means there are some old and some new wires. This also contributes negatively towards the price of the house. "
   ]
  },
  {
   "cell_type": "markdown",
   "id": "2dc4f11d",
   "metadata": {},
   "source": [
    "## Recommendations"
   ]
  },
  {
   "cell_type": "markdown",
   "id": "3efc5d14",
   "metadata": {},
   "source": [
    "The model built to predict Sale Price still has room for improvement. More features and their correlation can be studied, and additional feature engineering can be included in the model. Missing data has been imuputed using mean, median or mode which are the basic ways of imputing data. Linear regression model can be used to understand predict the missing data. "
   ]
  },
  {
   "cell_type": "markdown",
   "id": "5b2406fd",
   "metadata": {},
   "source": [
    "Overall Condition and Overall Quality of the house are strong positive factors for Sale Price. Although, they have a metric from 1 - 10, but they are also vague. It would be worth looking into these metrics and identifying factors that contribute to bring these metrics up. "
   ]
  },
  {
   "cell_type": "markdown",
   "id": "aeeff182",
   "metadata": {},
   "source": [
    "A way of increasing Sale Price on an old house is Remodeling. With more information on remodeling time and cost required, a better prediction can be made on how to reduce price loss on old homes. "
   ]
  },
  {
   "cell_type": "code",
   "execution_count": null,
   "id": "9f2a01b7",
   "metadata": {},
   "outputs": [],
   "source": []
  }
 ],
 "metadata": {
  "kernelspec": {
   "display_name": "Python 3",
   "language": "python",
   "name": "python3"
  },
  "language_info": {
   "codemirror_mode": {
    "name": "ipython",
    "version": 3
   },
   "file_extension": ".py",
   "mimetype": "text/x-python",
   "name": "python",
   "nbconvert_exporter": "python",
   "pygments_lexer": "ipython3",
   "version": "3.8.8"
  }
 },
 "nbformat": 4,
 "nbformat_minor": 5
}
