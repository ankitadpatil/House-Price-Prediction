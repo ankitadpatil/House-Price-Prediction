{
 "cells": [
  {
   "cell_type": "markdown",
   "id": "8029a563",
   "metadata": {},
   "source": [
    "## Module Imports"
   ]
  },
  {
   "cell_type": "code",
   "execution_count": 1,
   "id": "d1d12764",
   "metadata": {},
   "outputs": [],
   "source": [
    "import pandas as pd\n",
    "import numpy as np\n",
    "import matplotlib.pyplot as plt\n",
    "import seaborn as sns\n",
    "import missingno as msno\n",
    "\n",
    "import seaborn as sns\n",
    "from sklearn.linear_model import LinearRegression\n",
    "from sklearn.model_selection import cross_val_score, train_test_split\n",
    "from sklearn.preprocessing import PolynomialFeatures"
   ]
  },
  {
   "cell_type": "markdown",
   "id": "7c194f14",
   "metadata": {},
   "source": [
    "## Data Import"
   ]
  },
  {
   "cell_type": "code",
   "execution_count": 2,
   "id": "5e25333d",
   "metadata": {},
   "outputs": [],
   "source": [
    "df_train = pd.read_csv('../datasets/train.csv')\n",
    "df_test = pd.read_csv('../datasets/complete_clean_test.csv')"
   ]
  },
  {
   "cell_type": "code",
   "execution_count": 3,
   "id": "ecd31d61",
   "metadata": {},
   "outputs": [
    {
     "data": {
      "text/html": [
       "<div>\n",
       "<style scoped>\n",
       "    .dataframe tbody tr th:only-of-type {\n",
       "        vertical-align: middle;\n",
       "    }\n",
       "\n",
       "    .dataframe tbody tr th {\n",
       "        vertical-align: top;\n",
       "    }\n",
       "\n",
       "    .dataframe thead th {\n",
       "        text-align: right;\n",
       "    }\n",
       "</style>\n",
       "<table border=\"1\" class=\"dataframe\">\n",
       "  <thead>\n",
       "    <tr style=\"text-align: right;\">\n",
       "      <th></th>\n",
       "      <th>Id</th>\n",
       "      <th>PID</th>\n",
       "      <th>MS SubClass</th>\n",
       "      <th>MS Zoning</th>\n",
       "      <th>Lot Frontage</th>\n",
       "      <th>Lot Area</th>\n",
       "      <th>Street</th>\n",
       "      <th>Alley</th>\n",
       "      <th>Lot Shape</th>\n",
       "      <th>Land Contour</th>\n",
       "      <th>...</th>\n",
       "      <th>Screen Porch</th>\n",
       "      <th>Pool Area</th>\n",
       "      <th>Pool QC</th>\n",
       "      <th>Fence</th>\n",
       "      <th>Misc Feature</th>\n",
       "      <th>Misc Val</th>\n",
       "      <th>Mo Sold</th>\n",
       "      <th>Yr Sold</th>\n",
       "      <th>Sale Type</th>\n",
       "      <th>SalePrice</th>\n",
       "    </tr>\n",
       "  </thead>\n",
       "  <tbody>\n",
       "    <tr>\n",
       "      <th>0</th>\n",
       "      <td>109</td>\n",
       "      <td>533352170</td>\n",
       "      <td>60</td>\n",
       "      <td>RL</td>\n",
       "      <td>NaN</td>\n",
       "      <td>13517</td>\n",
       "      <td>Pave</td>\n",
       "      <td>NaN</td>\n",
       "      <td>IR1</td>\n",
       "      <td>Lvl</td>\n",
       "      <td>...</td>\n",
       "      <td>0</td>\n",
       "      <td>0</td>\n",
       "      <td>NaN</td>\n",
       "      <td>NaN</td>\n",
       "      <td>NaN</td>\n",
       "      <td>0</td>\n",
       "      <td>3</td>\n",
       "      <td>2010</td>\n",
       "      <td>WD</td>\n",
       "      <td>130500</td>\n",
       "    </tr>\n",
       "    <tr>\n",
       "      <th>1</th>\n",
       "      <td>544</td>\n",
       "      <td>531379050</td>\n",
       "      <td>60</td>\n",
       "      <td>RL</td>\n",
       "      <td>43.0</td>\n",
       "      <td>11492</td>\n",
       "      <td>Pave</td>\n",
       "      <td>NaN</td>\n",
       "      <td>IR1</td>\n",
       "      <td>Lvl</td>\n",
       "      <td>...</td>\n",
       "      <td>0</td>\n",
       "      <td>0</td>\n",
       "      <td>NaN</td>\n",
       "      <td>NaN</td>\n",
       "      <td>NaN</td>\n",
       "      <td>0</td>\n",
       "      <td>4</td>\n",
       "      <td>2009</td>\n",
       "      <td>WD</td>\n",
       "      <td>220000</td>\n",
       "    </tr>\n",
       "    <tr>\n",
       "      <th>2</th>\n",
       "      <td>153</td>\n",
       "      <td>535304180</td>\n",
       "      <td>20</td>\n",
       "      <td>RL</td>\n",
       "      <td>68.0</td>\n",
       "      <td>7922</td>\n",
       "      <td>Pave</td>\n",
       "      <td>NaN</td>\n",
       "      <td>Reg</td>\n",
       "      <td>Lvl</td>\n",
       "      <td>...</td>\n",
       "      <td>0</td>\n",
       "      <td>0</td>\n",
       "      <td>NaN</td>\n",
       "      <td>NaN</td>\n",
       "      <td>NaN</td>\n",
       "      <td>0</td>\n",
       "      <td>1</td>\n",
       "      <td>2010</td>\n",
       "      <td>WD</td>\n",
       "      <td>109000</td>\n",
       "    </tr>\n",
       "    <tr>\n",
       "      <th>3</th>\n",
       "      <td>318</td>\n",
       "      <td>916386060</td>\n",
       "      <td>60</td>\n",
       "      <td>RL</td>\n",
       "      <td>73.0</td>\n",
       "      <td>9802</td>\n",
       "      <td>Pave</td>\n",
       "      <td>NaN</td>\n",
       "      <td>Reg</td>\n",
       "      <td>Lvl</td>\n",
       "      <td>...</td>\n",
       "      <td>0</td>\n",
       "      <td>0</td>\n",
       "      <td>NaN</td>\n",
       "      <td>NaN</td>\n",
       "      <td>NaN</td>\n",
       "      <td>0</td>\n",
       "      <td>4</td>\n",
       "      <td>2010</td>\n",
       "      <td>WD</td>\n",
       "      <td>174000</td>\n",
       "    </tr>\n",
       "    <tr>\n",
       "      <th>4</th>\n",
       "      <td>255</td>\n",
       "      <td>906425045</td>\n",
       "      <td>50</td>\n",
       "      <td>RL</td>\n",
       "      <td>82.0</td>\n",
       "      <td>14235</td>\n",
       "      <td>Pave</td>\n",
       "      <td>NaN</td>\n",
       "      <td>IR1</td>\n",
       "      <td>Lvl</td>\n",
       "      <td>...</td>\n",
       "      <td>0</td>\n",
       "      <td>0</td>\n",
       "      <td>NaN</td>\n",
       "      <td>NaN</td>\n",
       "      <td>NaN</td>\n",
       "      <td>0</td>\n",
       "      <td>3</td>\n",
       "      <td>2010</td>\n",
       "      <td>WD</td>\n",
       "      <td>138500</td>\n",
       "    </tr>\n",
       "  </tbody>\n",
       "</table>\n",
       "<p>5 rows × 81 columns</p>\n",
       "</div>"
      ],
      "text/plain": [
       "    Id        PID  MS SubClass MS Zoning  Lot Frontage  Lot Area Street Alley  \\\n",
       "0  109  533352170           60        RL           NaN     13517   Pave   NaN   \n",
       "1  544  531379050           60        RL          43.0     11492   Pave   NaN   \n",
       "2  153  535304180           20        RL          68.0      7922   Pave   NaN   \n",
       "3  318  916386060           60        RL          73.0      9802   Pave   NaN   \n",
       "4  255  906425045           50        RL          82.0     14235   Pave   NaN   \n",
       "\n",
       "  Lot Shape Land Contour  ... Screen Porch Pool Area Pool QC Fence  \\\n",
       "0       IR1          Lvl  ...            0         0     NaN   NaN   \n",
       "1       IR1          Lvl  ...            0         0     NaN   NaN   \n",
       "2       Reg          Lvl  ...            0         0     NaN   NaN   \n",
       "3       Reg          Lvl  ...            0         0     NaN   NaN   \n",
       "4       IR1          Lvl  ...            0         0     NaN   NaN   \n",
       "\n",
       "  Misc Feature Misc Val Mo Sold Yr Sold  Sale Type  SalePrice  \n",
       "0          NaN        0       3    2010        WD      130500  \n",
       "1          NaN        0       4    2009        WD      220000  \n",
       "2          NaN        0       1    2010        WD      109000  \n",
       "3          NaN        0       4    2010        WD      174000  \n",
       "4          NaN        0       3    2010        WD      138500  \n",
       "\n",
       "[5 rows x 81 columns]"
      ]
     },
     "execution_count": 3,
     "metadata": {},
     "output_type": "execute_result"
    }
   ],
   "source": [
    "df_train.head()"
   ]
  },
  {
   "cell_type": "code",
   "execution_count": 4,
   "id": "cd078789",
   "metadata": {},
   "outputs": [
    {
     "data": {
      "text/html": [
       "<div>\n",
       "<style scoped>\n",
       "    .dataframe tbody tr th:only-of-type {\n",
       "        vertical-align: middle;\n",
       "    }\n",
       "\n",
       "    .dataframe tbody tr th {\n",
       "        vertical-align: top;\n",
       "    }\n",
       "\n",
       "    .dataframe thead th {\n",
       "        text-align: right;\n",
       "    }\n",
       "</style>\n",
       "<table border=\"1\" class=\"dataframe\">\n",
       "  <thead>\n",
       "    <tr style=\"text-align: right;\">\n",
       "      <th></th>\n",
       "      <th>Id</th>\n",
       "      <th>PID</th>\n",
       "      <th>MS SubClass</th>\n",
       "      <th>MS Zoning</th>\n",
       "      <th>Lot Frontage</th>\n",
       "      <th>Lot Area</th>\n",
       "      <th>Street</th>\n",
       "      <th>Lot Shape</th>\n",
       "      <th>Land Contour</th>\n",
       "      <th>Utilities</th>\n",
       "      <th>...</th>\n",
       "      <th>Wood Deck SF</th>\n",
       "      <th>Open Porch SF</th>\n",
       "      <th>Enclosed Porch</th>\n",
       "      <th>3Ssn Porch</th>\n",
       "      <th>Screen Porch</th>\n",
       "      <th>Pool Area</th>\n",
       "      <th>Misc Val</th>\n",
       "      <th>Mo Sold</th>\n",
       "      <th>Yr Sold</th>\n",
       "      <th>Sale Type</th>\n",
       "    </tr>\n",
       "  </thead>\n",
       "  <tbody>\n",
       "    <tr>\n",
       "      <th>0</th>\n",
       "      <td>2658</td>\n",
       "      <td>902301120</td>\n",
       "      <td>190</td>\n",
       "      <td>RM</td>\n",
       "      <td>69.0</td>\n",
       "      <td>9142</td>\n",
       "      <td>Pave</td>\n",
       "      <td>Reg</td>\n",
       "      <td>Lvl</td>\n",
       "      <td>AllPub</td>\n",
       "      <td>...</td>\n",
       "      <td>0</td>\n",
       "      <td>60</td>\n",
       "      <td>112</td>\n",
       "      <td>0</td>\n",
       "      <td>0</td>\n",
       "      <td>0</td>\n",
       "      <td>0</td>\n",
       "      <td>4</td>\n",
       "      <td>2006</td>\n",
       "      <td>WD</td>\n",
       "    </tr>\n",
       "    <tr>\n",
       "      <th>1</th>\n",
       "      <td>2718</td>\n",
       "      <td>905108090</td>\n",
       "      <td>90</td>\n",
       "      <td>RL</td>\n",
       "      <td>68.0</td>\n",
       "      <td>9662</td>\n",
       "      <td>Pave</td>\n",
       "      <td>IR1</td>\n",
       "      <td>Lvl</td>\n",
       "      <td>AllPub</td>\n",
       "      <td>...</td>\n",
       "      <td>170</td>\n",
       "      <td>0</td>\n",
       "      <td>0</td>\n",
       "      <td>0</td>\n",
       "      <td>0</td>\n",
       "      <td>0</td>\n",
       "      <td>0</td>\n",
       "      <td>8</td>\n",
       "      <td>2006</td>\n",
       "      <td>WD</td>\n",
       "    </tr>\n",
       "    <tr>\n",
       "      <th>2</th>\n",
       "      <td>2414</td>\n",
       "      <td>528218130</td>\n",
       "      <td>60</td>\n",
       "      <td>RL</td>\n",
       "      <td>58.0</td>\n",
       "      <td>17104</td>\n",
       "      <td>Pave</td>\n",
       "      <td>IR1</td>\n",
       "      <td>Lvl</td>\n",
       "      <td>AllPub</td>\n",
       "      <td>...</td>\n",
       "      <td>100</td>\n",
       "      <td>24</td>\n",
       "      <td>0</td>\n",
       "      <td>0</td>\n",
       "      <td>0</td>\n",
       "      <td>0</td>\n",
       "      <td>0</td>\n",
       "      <td>9</td>\n",
       "      <td>2006</td>\n",
       "      <td>New</td>\n",
       "    </tr>\n",
       "    <tr>\n",
       "      <th>3</th>\n",
       "      <td>1989</td>\n",
       "      <td>902207150</td>\n",
       "      <td>30</td>\n",
       "      <td>RM</td>\n",
       "      <td>60.0</td>\n",
       "      <td>8520</td>\n",
       "      <td>Pave</td>\n",
       "      <td>Reg</td>\n",
       "      <td>Lvl</td>\n",
       "      <td>AllPub</td>\n",
       "      <td>...</td>\n",
       "      <td>0</td>\n",
       "      <td>0</td>\n",
       "      <td>184</td>\n",
       "      <td>0</td>\n",
       "      <td>0</td>\n",
       "      <td>0</td>\n",
       "      <td>0</td>\n",
       "      <td>7</td>\n",
       "      <td>2007</td>\n",
       "      <td>WD</td>\n",
       "    </tr>\n",
       "    <tr>\n",
       "      <th>4</th>\n",
       "      <td>625</td>\n",
       "      <td>535105100</td>\n",
       "      <td>20</td>\n",
       "      <td>RL</td>\n",
       "      <td>68.0</td>\n",
       "      <td>9500</td>\n",
       "      <td>Pave</td>\n",
       "      <td>IR1</td>\n",
       "      <td>Lvl</td>\n",
       "      <td>AllPub</td>\n",
       "      <td>...</td>\n",
       "      <td>0</td>\n",
       "      <td>76</td>\n",
       "      <td>0</td>\n",
       "      <td>0</td>\n",
       "      <td>185</td>\n",
       "      <td>0</td>\n",
       "      <td>0</td>\n",
       "      <td>7</td>\n",
       "      <td>2009</td>\n",
       "      <td>WD</td>\n",
       "    </tr>\n",
       "  </tbody>\n",
       "</table>\n",
       "<p>5 rows × 75 columns</p>\n",
       "</div>"
      ],
      "text/plain": [
       "     Id        PID  MS SubClass MS Zoning  Lot Frontage  Lot Area Street  \\\n",
       "0  2658  902301120          190        RM          69.0      9142   Pave   \n",
       "1  2718  905108090           90        RL          68.0      9662   Pave   \n",
       "2  2414  528218130           60        RL          58.0     17104   Pave   \n",
       "3  1989  902207150           30        RM          60.0      8520   Pave   \n",
       "4   625  535105100           20        RL          68.0      9500   Pave   \n",
       "\n",
       "  Lot Shape Land Contour Utilities  ... Wood Deck SF Open Porch SF  \\\n",
       "0       Reg          Lvl    AllPub  ...            0            60   \n",
       "1       IR1          Lvl    AllPub  ...          170             0   \n",
       "2       IR1          Lvl    AllPub  ...          100            24   \n",
       "3       Reg          Lvl    AllPub  ...            0             0   \n",
       "4       IR1          Lvl    AllPub  ...            0            76   \n",
       "\n",
       "  Enclosed Porch 3Ssn Porch Screen Porch Pool Area Misc Val  Mo Sold  Yr Sold  \\\n",
       "0            112          0            0         0        0        4     2006   \n",
       "1              0          0            0         0        0        8     2006   \n",
       "2              0          0            0         0        0        9     2006   \n",
       "3            184          0            0         0        0        7     2007   \n",
       "4              0          0          185         0        0        7     2009   \n",
       "\n",
       "   Sale Type  \n",
       "0        WD   \n",
       "1        WD   \n",
       "2        New  \n",
       "3        WD   \n",
       "4        WD   \n",
       "\n",
       "[5 rows x 75 columns]"
      ]
     },
     "execution_count": 4,
     "metadata": {},
     "output_type": "execute_result"
    }
   ],
   "source": [
    "df_test.head()"
   ]
  },
  {
   "cell_type": "markdown",
   "id": "592a9829",
   "metadata": {},
   "source": [
    "## Data Cleaning, Imputing & Analysis"
   ]
  },
  {
   "cell_type": "code",
   "execution_count": 5,
   "id": "8c52b6d1",
   "metadata": {},
   "outputs": [
    {
     "data": {
      "text/plain": [
       "(2051, 81)"
      ]
     },
     "execution_count": 5,
     "metadata": {},
     "output_type": "execute_result"
    }
   ],
   "source": [
    "df_train.shape"
   ]
  },
  {
   "cell_type": "code",
   "execution_count": 6,
   "id": "2ef7ea70",
   "metadata": {
    "scrolled": true
   },
   "outputs": [
    {
     "name": "stdout",
     "output_type": "stream",
     "text": [
      "<class 'pandas.core.frame.DataFrame'>\n",
      "RangeIndex: 2051 entries, 0 to 2050\n",
      "Data columns (total 81 columns):\n",
      " #   Column           Non-Null Count  Dtype  \n",
      "---  ------           --------------  -----  \n",
      " 0   Id               2051 non-null   int64  \n",
      " 1   PID              2051 non-null   int64  \n",
      " 2   MS SubClass      2051 non-null   int64  \n",
      " 3   MS Zoning        2051 non-null   object \n",
      " 4   Lot Frontage     1721 non-null   float64\n",
      " 5   Lot Area         2051 non-null   int64  \n",
      " 6   Street           2051 non-null   object \n",
      " 7   Alley            140 non-null    object \n",
      " 8   Lot Shape        2051 non-null   object \n",
      " 9   Land Contour     2051 non-null   object \n",
      " 10  Utilities        2051 non-null   object \n",
      " 11  Lot Config       2051 non-null   object \n",
      " 12  Land Slope       2051 non-null   object \n",
      " 13  Neighborhood     2051 non-null   object \n",
      " 14  Condition 1      2051 non-null   object \n",
      " 15  Condition 2      2051 non-null   object \n",
      " 16  Bldg Type        2051 non-null   object \n",
      " 17  House Style      2051 non-null   object \n",
      " 18  Overall Qual     2051 non-null   int64  \n",
      " 19  Overall Cond     2051 non-null   int64  \n",
      " 20  Year Built       2051 non-null   int64  \n",
      " 21  Year Remod/Add   2051 non-null   int64  \n",
      " 22  Roof Style       2051 non-null   object \n",
      " 23  Roof Matl        2051 non-null   object \n",
      " 24  Exterior 1st     2051 non-null   object \n",
      " 25  Exterior 2nd     2051 non-null   object \n",
      " 26  Mas Vnr Type     2029 non-null   object \n",
      " 27  Mas Vnr Area     2029 non-null   float64\n",
      " 28  Exter Qual       2051 non-null   object \n",
      " 29  Exter Cond       2051 non-null   object \n",
      " 30  Foundation       2051 non-null   object \n",
      " 31  Bsmt Qual        1996 non-null   object \n",
      " 32  Bsmt Cond        1996 non-null   object \n",
      " 33  Bsmt Exposure    1993 non-null   object \n",
      " 34  BsmtFin Type 1   1996 non-null   object \n",
      " 35  BsmtFin SF 1     2050 non-null   float64\n",
      " 36  BsmtFin Type 2   1995 non-null   object \n",
      " 37  BsmtFin SF 2     2050 non-null   float64\n",
      " 38  Bsmt Unf SF      2050 non-null   float64\n",
      " 39  Total Bsmt SF    2050 non-null   float64\n",
      " 40  Heating          2051 non-null   object \n",
      " 41  Heating QC       2051 non-null   object \n",
      " 42  Central Air      2051 non-null   object \n",
      " 43  Electrical       2051 non-null   object \n",
      " 44  1st Flr SF       2051 non-null   int64  \n",
      " 45  2nd Flr SF       2051 non-null   int64  \n",
      " 46  Low Qual Fin SF  2051 non-null   int64  \n",
      " 47  Gr Liv Area      2051 non-null   int64  \n",
      " 48  Bsmt Full Bath   2049 non-null   float64\n",
      " 49  Bsmt Half Bath   2049 non-null   float64\n",
      " 50  Full Bath        2051 non-null   int64  \n",
      " 51  Half Bath        2051 non-null   int64  \n",
      " 52  Bedroom AbvGr    2051 non-null   int64  \n",
      " 53  Kitchen AbvGr    2051 non-null   int64  \n",
      " 54  Kitchen Qual     2051 non-null   object \n",
      " 55  TotRms AbvGrd    2051 non-null   int64  \n",
      " 56  Functional       2051 non-null   object \n",
      " 57  Fireplaces       2051 non-null   int64  \n",
      " 58  Fireplace Qu     1051 non-null   object \n",
      " 59  Garage Type      1938 non-null   object \n",
      " 60  Garage Yr Blt    1937 non-null   float64\n",
      " 61  Garage Finish    1937 non-null   object \n",
      " 62  Garage Cars      2050 non-null   float64\n",
      " 63  Garage Area      2050 non-null   float64\n",
      " 64  Garage Qual      1937 non-null   object \n",
      " 65  Garage Cond      1937 non-null   object \n",
      " 66  Paved Drive      2051 non-null   object \n",
      " 67  Wood Deck SF     2051 non-null   int64  \n",
      " 68  Open Porch SF    2051 non-null   int64  \n",
      " 69  Enclosed Porch   2051 non-null   int64  \n",
      " 70  3Ssn Porch       2051 non-null   int64  \n",
      " 71  Screen Porch     2051 non-null   int64  \n",
      " 72  Pool Area        2051 non-null   int64  \n",
      " 73  Pool QC          9 non-null      object \n",
      " 74  Fence            400 non-null    object \n",
      " 75  Misc Feature     65 non-null     object \n",
      " 76  Misc Val         2051 non-null   int64  \n",
      " 77  Mo Sold          2051 non-null   int64  \n",
      " 78  Yr Sold          2051 non-null   int64  \n",
      " 79  Sale Type        2051 non-null   object \n",
      " 80  SalePrice        2051 non-null   int64  \n",
      "dtypes: float64(11), int64(28), object(42)\n",
      "memory usage: 1.3+ MB\n"
     ]
    }
   ],
   "source": [
    "df_train.info()"
   ]
  },
  {
   "cell_type": "code",
   "execution_count": 7,
   "id": "1957bb03",
   "metadata": {},
   "outputs": [
    {
     "data": {
      "text/plain": [
       "<AxesSubplot:>"
      ]
     },
     "execution_count": 7,
     "metadata": {},
     "output_type": "execute_result"
    },
    {
     "data": {
      "image/png": "[encoded data removed]",
      "text/plain": [
       "<Figure size 1800x2016 with 3 Axes>"
      ]
     },
     "metadata": {
      "needs_background": "light"
     },
     "output_type": "display_data"
    }
   ],
   "source": [
    "msno.bar(df_train)"
   ]
  },
  {
   "cell_type": "markdown",
   "id": "aeb7ee79",
   "metadata": {},
   "source": [
    "Dropping columns that have more than 50% rows missing. It will not be possible to impoute these missing values. "
   ]
  },
  {
   "cell_type": "code",
   "execution_count": 8,
   "id": "fade0752",
   "metadata": {},
   "outputs": [],
   "source": [
    "df_train.drop(['Misc Feature','Fence','Pool QC','Fireplace Qu','Alley'],axis=1,inplace=True)"
   ]
  },
  {
   "cell_type": "code",
   "execution_count": 9,
   "id": "57aa4067",
   "metadata": {
    "scrolled": false
   },
   "outputs": [],
   "source": [
    "df_null = pd.DataFrame(df_train.isnull().sum().sort_values(ascending=False).values,df_train.isnull().sum().sort_values(ascending=False).index,columns=['Null Values'])"
   ]
  },
  {
   "cell_type": "code",
   "execution_count": 10,
   "id": "e2636ff7",
   "metadata": {},
   "outputs": [
    {
     "data": {
      "text/plain": [
       "Index(['Lot Frontage', 'Garage Yr Blt', 'Garage Finish', 'Garage Qual',\n",
       "       'Garage Cond', 'Garage Type', 'Bsmt Exposure', 'BsmtFin Type 2',\n",
       "       'Bsmt Cond', 'Bsmt Qual', 'BsmtFin Type 1', 'Mas Vnr Area',\n",
       "       'Mas Vnr Type', 'Bsmt Half Bath', 'Bsmt Full Bath', 'BsmtFin SF 1',\n",
       "       'BsmtFin SF 2', 'Bsmt Unf SF', 'Garage Area', 'Garage Cars',\n",
       "       'Total Bsmt SF'],\n",
       "      dtype='object')"
      ]
     },
     "execution_count": 10,
     "metadata": {},
     "output_type": "execute_result"
    }
   ],
   "source": [
    "null_columns = df_null[df_null['Null Values']!= 0].index\n",
    "null_columns"
   ]
  },
  {
   "cell_type": "code",
   "execution_count": 11,
   "id": "eaeac2e4",
   "metadata": {},
   "outputs": [
    {
     "data": {
      "text/plain": [
       "Index(['Lot Frontage', 'Garage Yr Blt', 'Mas Vnr Area', 'Bsmt Half Bath',\n",
       "       'Bsmt Full Bath', 'BsmtFin SF 1', 'BsmtFin SF 2', 'Bsmt Unf SF',\n",
       "       'Garage Area', 'Garage Cars', 'Total Bsmt SF'],\n",
       "      dtype='object')"
      ]
     },
     "execution_count": 11,
     "metadata": {},
     "output_type": "execute_result"
    }
   ],
   "source": [
    "null_columns_num = df_train[null_columns].select_dtypes(include=['int64','float64']).columns\n",
    "null_columns_num"
   ]
  },
  {
   "cell_type": "code",
   "execution_count": 12,
   "id": "9cf3b052",
   "metadata": {},
   "outputs": [
    {
     "data": {
      "image/png": "[encoded data removed]",
      "text/plain": [
       "<Figure size 1080x720 with 12 Axes>"
      ]
     },
     "metadata": {
      "needs_background": "light"
     },
     "output_type": "display_data"
    }
   ],
   "source": [
    "df_train[null_columns_num].hist(figsize=(15,10))\n",
    "plt.tight_layout();"
   ]
  },
  {
   "cell_type": "code",
   "execution_count": 13,
   "id": "3ea10626",
   "metadata": {},
   "outputs": [
    {
     "data": {
      "text/html": [
       "<div>\n",
       "<style scoped>\n",
       "    .dataframe tbody tr th:only-of-type {\n",
       "        vertical-align: middle;\n",
       "    }\n",
       "\n",
       "    .dataframe tbody tr th {\n",
       "        vertical-align: top;\n",
       "    }\n",
       "\n",
       "    .dataframe thead th {\n",
       "        text-align: right;\n",
       "    }\n",
       "</style>\n",
       "<table border=\"1\" class=\"dataframe\">\n",
       "  <thead>\n",
       "    <tr style=\"text-align: right;\">\n",
       "      <th></th>\n",
       "      <th>Lot Frontage</th>\n",
       "      <th>Garage Yr Blt</th>\n",
       "      <th>Mas Vnr Area</th>\n",
       "      <th>Bsmt Half Bath</th>\n",
       "      <th>Bsmt Full Bath</th>\n",
       "      <th>BsmtFin SF 1</th>\n",
       "      <th>BsmtFin SF 2</th>\n",
       "      <th>Bsmt Unf SF</th>\n",
       "      <th>Garage Area</th>\n",
       "      <th>Garage Cars</th>\n",
       "      <th>Total Bsmt SF</th>\n",
       "    </tr>\n",
       "  </thead>\n",
       "  <tbody>\n",
       "    <tr>\n",
       "      <th>count</th>\n",
       "      <td>1721.000000</td>\n",
       "      <td>1937.000000</td>\n",
       "      <td>2029.000000</td>\n",
       "      <td>2049.000000</td>\n",
       "      <td>2049.000000</td>\n",
       "      <td>2050.000000</td>\n",
       "      <td>2050.000000</td>\n",
       "      <td>2050.000000</td>\n",
       "      <td>2050.000000</td>\n",
       "      <td>2050.000000</td>\n",
       "      <td>2050.000000</td>\n",
       "    </tr>\n",
       "    <tr>\n",
       "      <th>mean</th>\n",
       "      <td>69.055200</td>\n",
       "      <td>1978.707796</td>\n",
       "      <td>99.695909</td>\n",
       "      <td>0.063446</td>\n",
       "      <td>0.427526</td>\n",
       "      <td>442.300488</td>\n",
       "      <td>47.959024</td>\n",
       "      <td>567.728293</td>\n",
       "      <td>473.671707</td>\n",
       "      <td>1.776585</td>\n",
       "      <td>1057.987805</td>\n",
       "    </tr>\n",
       "    <tr>\n",
       "      <th>std</th>\n",
       "      <td>23.260653</td>\n",
       "      <td>25.441094</td>\n",
       "      <td>174.963129</td>\n",
       "      <td>0.251705</td>\n",
       "      <td>0.522673</td>\n",
       "      <td>461.204124</td>\n",
       "      <td>165.000901</td>\n",
       "      <td>444.954786</td>\n",
       "      <td>215.934561</td>\n",
       "      <td>0.764537</td>\n",
       "      <td>449.410704</td>\n",
       "    </tr>\n",
       "    <tr>\n",
       "      <th>min</th>\n",
       "      <td>21.000000</td>\n",
       "      <td>1895.000000</td>\n",
       "      <td>0.000000</td>\n",
       "      <td>0.000000</td>\n",
       "      <td>0.000000</td>\n",
       "      <td>0.000000</td>\n",
       "      <td>0.000000</td>\n",
       "      <td>0.000000</td>\n",
       "      <td>0.000000</td>\n",
       "      <td>0.000000</td>\n",
       "      <td>0.000000</td>\n",
       "    </tr>\n",
       "    <tr>\n",
       "      <th>25%</th>\n",
       "      <td>58.000000</td>\n",
       "      <td>1961.000000</td>\n",
       "      <td>0.000000</td>\n",
       "      <td>0.000000</td>\n",
       "      <td>0.000000</td>\n",
       "      <td>0.000000</td>\n",
       "      <td>0.000000</td>\n",
       "      <td>220.000000</td>\n",
       "      <td>319.000000</td>\n",
       "      <td>1.000000</td>\n",
       "      <td>793.000000</td>\n",
       "    </tr>\n",
       "    <tr>\n",
       "      <th>50%</th>\n",
       "      <td>68.000000</td>\n",
       "      <td>1980.000000</td>\n",
       "      <td>0.000000</td>\n",
       "      <td>0.000000</td>\n",
       "      <td>0.000000</td>\n",
       "      <td>368.000000</td>\n",
       "      <td>0.000000</td>\n",
       "      <td>474.500000</td>\n",
       "      <td>480.000000</td>\n",
       "      <td>2.000000</td>\n",
       "      <td>994.500000</td>\n",
       "    </tr>\n",
       "    <tr>\n",
       "      <th>75%</th>\n",
       "      <td>80.000000</td>\n",
       "      <td>2002.000000</td>\n",
       "      <td>161.000000</td>\n",
       "      <td>0.000000</td>\n",
       "      <td>1.000000</td>\n",
       "      <td>733.750000</td>\n",
       "      <td>0.000000</td>\n",
       "      <td>811.000000</td>\n",
       "      <td>576.000000</td>\n",
       "      <td>2.000000</td>\n",
       "      <td>1318.750000</td>\n",
       "    </tr>\n",
       "    <tr>\n",
       "      <th>max</th>\n",
       "      <td>313.000000</td>\n",
       "      <td>2207.000000</td>\n",
       "      <td>1600.000000</td>\n",
       "      <td>2.000000</td>\n",
       "      <td>3.000000</td>\n",
       "      <td>5644.000000</td>\n",
       "      <td>1474.000000</td>\n",
       "      <td>2336.000000</td>\n",
       "      <td>1418.000000</td>\n",
       "      <td>5.000000</td>\n",
       "      <td>6110.000000</td>\n",
       "    </tr>\n",
       "  </tbody>\n",
       "</table>\n",
       "</div>"
      ],
      "text/plain": [
       "       Lot Frontage  Garage Yr Blt  Mas Vnr Area  Bsmt Half Bath  \\\n",
       "count   1721.000000    1937.000000   2029.000000     2049.000000   \n",
       "mean      69.055200    1978.707796     99.695909        0.063446   \n",
       "std       23.260653      25.441094    174.963129        0.251705   \n",
       "min       21.000000    1895.000000      0.000000        0.000000   \n",
       "25%       58.000000    1961.000000      0.000000        0.000000   \n",
       "50%       68.000000    1980.000000      0.000000        0.000000   \n",
       "75%       80.000000    2002.000000    161.000000        0.000000   \n",
       "max      313.000000    2207.000000   1600.000000        2.000000   \n",
       "\n",
       "       Bsmt Full Bath  BsmtFin SF 1  BsmtFin SF 2  Bsmt Unf SF  Garage Area  \\\n",
       "count     2049.000000   2050.000000   2050.000000  2050.000000  2050.000000   \n",
       "mean         0.427526    442.300488     47.959024   567.728293   473.671707   \n",
       "std          0.522673    461.204124    165.000901   444.954786   215.934561   \n",
       "min          0.000000      0.000000      0.000000     0.000000     0.000000   \n",
       "25%          0.000000      0.000000      0.000000   220.000000   319.000000   \n",
       "50%          0.000000    368.000000      0.000000   474.500000   480.000000   \n",
       "75%          1.000000    733.750000      0.000000   811.000000   576.000000   \n",
       "max          3.000000   5644.000000   1474.000000  2336.000000  1418.000000   \n",
       "\n",
       "       Garage Cars  Total Bsmt SF  \n",
       "count  2050.000000    2050.000000  \n",
       "mean      1.776585    1057.987805  \n",
       "std       0.764537     449.410704  \n",
       "min       0.000000       0.000000  \n",
       "25%       1.000000     793.000000  \n",
       "50%       2.000000     994.500000  \n",
       "75%       2.000000    1318.750000  \n",
       "max       5.000000    6110.000000  "
      ]
     },
     "execution_count": 13,
     "metadata": {},
     "output_type": "execute_result"
    }
   ],
   "source": [
    "df_train[null_columns_num].describe()"
   ]
  },
  {
   "cell_type": "code",
   "execution_count": 14,
   "id": "743da568",
   "metadata": {},
   "outputs": [],
   "source": [
    "garage_columns = [columns for columns in df_train.columns if 'Garage' in columns]"
   ]
  },
  {
   "cell_type": "code",
   "execution_count": 15,
   "id": "fcfbd1c0",
   "metadata": {
    "scrolled": true
   },
   "outputs": [
    {
     "data": {
      "text/html": [
       "<div>\n",
       "<style scoped>\n",
       "    .dataframe tbody tr th:only-of-type {\n",
       "        vertical-align: middle;\n",
       "    }\n",
       "\n",
       "    .dataframe tbody tr th {\n",
       "        vertical-align: top;\n",
       "    }\n",
       "\n",
       "    .dataframe thead th {\n",
       "        text-align: right;\n",
       "    }\n",
       "</style>\n",
       "<table border=\"1\" class=\"dataframe\">\n",
       "  <thead>\n",
       "    <tr style=\"text-align: right;\">\n",
       "      <th></th>\n",
       "      <th>Garage Type</th>\n",
       "      <th>Garage Yr Blt</th>\n",
       "      <th>Garage Finish</th>\n",
       "      <th>Garage Cars</th>\n",
       "      <th>Garage Area</th>\n",
       "      <th>Garage Qual</th>\n",
       "      <th>Garage Cond</th>\n",
       "    </tr>\n",
       "  </thead>\n",
       "  <tbody>\n",
       "    <tr>\n",
       "      <th>28</th>\n",
       "      <td>NaN</td>\n",
       "      <td>NaN</td>\n",
       "      <td>NaN</td>\n",
       "      <td>0.0</td>\n",
       "      <td>0.0</td>\n",
       "      <td>NaN</td>\n",
       "      <td>NaN</td>\n",
       "    </tr>\n",
       "    <tr>\n",
       "      <th>53</th>\n",
       "      <td>NaN</td>\n",
       "      <td>NaN</td>\n",
       "      <td>NaN</td>\n",
       "      <td>0.0</td>\n",
       "      <td>0.0</td>\n",
       "      <td>NaN</td>\n",
       "      <td>NaN</td>\n",
       "    </tr>\n",
       "    <tr>\n",
       "      <th>65</th>\n",
       "      <td>NaN</td>\n",
       "      <td>NaN</td>\n",
       "      <td>NaN</td>\n",
       "      <td>0.0</td>\n",
       "      <td>0.0</td>\n",
       "      <td>NaN</td>\n",
       "      <td>NaN</td>\n",
       "    </tr>\n",
       "    <tr>\n",
       "      <th>79</th>\n",
       "      <td>NaN</td>\n",
       "      <td>NaN</td>\n",
       "      <td>NaN</td>\n",
       "      <td>0.0</td>\n",
       "      <td>0.0</td>\n",
       "      <td>NaN</td>\n",
       "      <td>NaN</td>\n",
       "    </tr>\n",
       "    <tr>\n",
       "      <th>101</th>\n",
       "      <td>NaN</td>\n",
       "      <td>NaN</td>\n",
       "      <td>NaN</td>\n",
       "      <td>0.0</td>\n",
       "      <td>0.0</td>\n",
       "      <td>NaN</td>\n",
       "      <td>NaN</td>\n",
       "    </tr>\n",
       "    <tr>\n",
       "      <th>...</th>\n",
       "      <td>...</td>\n",
       "      <td>...</td>\n",
       "      <td>...</td>\n",
       "      <td>...</td>\n",
       "      <td>...</td>\n",
       "      <td>...</td>\n",
       "      <td>...</td>\n",
       "    </tr>\n",
       "    <tr>\n",
       "      <th>1991</th>\n",
       "      <td>NaN</td>\n",
       "      <td>NaN</td>\n",
       "      <td>NaN</td>\n",
       "      <td>0.0</td>\n",
       "      <td>0.0</td>\n",
       "      <td>NaN</td>\n",
       "      <td>NaN</td>\n",
       "    </tr>\n",
       "    <tr>\n",
       "      <th>2010</th>\n",
       "      <td>NaN</td>\n",
       "      <td>NaN</td>\n",
       "      <td>NaN</td>\n",
       "      <td>0.0</td>\n",
       "      <td>0.0</td>\n",
       "      <td>NaN</td>\n",
       "      <td>NaN</td>\n",
       "    </tr>\n",
       "    <tr>\n",
       "      <th>2027</th>\n",
       "      <td>NaN</td>\n",
       "      <td>NaN</td>\n",
       "      <td>NaN</td>\n",
       "      <td>0.0</td>\n",
       "      <td>0.0</td>\n",
       "      <td>NaN</td>\n",
       "      <td>NaN</td>\n",
       "    </tr>\n",
       "    <tr>\n",
       "      <th>2039</th>\n",
       "      <td>NaN</td>\n",
       "      <td>NaN</td>\n",
       "      <td>NaN</td>\n",
       "      <td>0.0</td>\n",
       "      <td>0.0</td>\n",
       "      <td>NaN</td>\n",
       "      <td>NaN</td>\n",
       "    </tr>\n",
       "    <tr>\n",
       "      <th>2042</th>\n",
       "      <td>NaN</td>\n",
       "      <td>NaN</td>\n",
       "      <td>NaN</td>\n",
       "      <td>0.0</td>\n",
       "      <td>0.0</td>\n",
       "      <td>NaN</td>\n",
       "      <td>NaN</td>\n",
       "    </tr>\n",
       "  </tbody>\n",
       "</table>\n",
       "<p>114 rows × 7 columns</p>\n",
       "</div>"
      ],
      "text/plain": [
       "     Garage Type  Garage Yr Blt Garage Finish  Garage Cars  Garage Area  \\\n",
       "28           NaN            NaN           NaN          0.0          0.0   \n",
       "53           NaN            NaN           NaN          0.0          0.0   \n",
       "65           NaN            NaN           NaN          0.0          0.0   \n",
       "79           NaN            NaN           NaN          0.0          0.0   \n",
       "101          NaN            NaN           NaN          0.0          0.0   \n",
       "...          ...            ...           ...          ...          ...   \n",
       "1991         NaN            NaN           NaN          0.0          0.0   \n",
       "2010         NaN            NaN           NaN          0.0          0.0   \n",
       "2027         NaN            NaN           NaN          0.0          0.0   \n",
       "2039         NaN            NaN           NaN          0.0          0.0   \n",
       "2042         NaN            NaN           NaN          0.0          0.0   \n",
       "\n",
       "     Garage Qual Garage Cond  \n",
       "28           NaN         NaN  \n",
       "53           NaN         NaN  \n",
       "65           NaN         NaN  \n",
       "79           NaN         NaN  \n",
       "101          NaN         NaN  \n",
       "...          ...         ...  \n",
       "1991         NaN         NaN  \n",
       "2010         NaN         NaN  \n",
       "2027         NaN         NaN  \n",
       "2039         NaN         NaN  \n",
       "2042         NaN         NaN  \n",
       "\n",
       "[114 rows x 7 columns]"
      ]
     },
     "execution_count": 15,
     "metadata": {},
     "output_type": "execute_result"
    }
   ],
   "source": [
    "df_train[df_train['Garage Yr Blt'].isnull()][garage_columns]"
   ]
  },
  {
   "cell_type": "markdown",
   "id": "d54a9569",
   "metadata": {},
   "source": [
    "For the 114 rows where Garage Year Built is missing, related categorical information suggests that these houses do not have a garage. Hence, the missing values for these rows should be replaced by 0."
   ]
  },
  {
   "cell_type": "code",
   "execution_count": 16,
   "id": "7702cde0",
   "metadata": {},
   "outputs": [],
   "source": [
    "df_train['Garage Yr Blt'].fillna(0,inplace=True)\n",
    "df_train['Garage Area'].fillna(0,inplace=True)\n",
    "df_train['Garage Cars'].fillna(0,inplace=True)"
   ]
  },
  {
   "cell_type": "markdown",
   "id": "a23b44c8",
   "metadata": {},
   "source": [
    "For categorical Garage data, rows with missing information implies No Garage. Hence, the missing values for these rows should be replaced by 'NoG', which implies No Garage. "
   ]
  },
  {
   "cell_type": "code",
   "execution_count": 17,
   "id": "5ebd655a",
   "metadata": {},
   "outputs": [],
   "source": [
    "for column in df_train.select_dtypes(include=['object']).columns:\n",
    "    if 'Garage' in column:\n",
    "        df_train[column].fillna('NoG',inplace=True)"
   ]
  },
  {
   "cell_type": "code",
   "execution_count": 18,
   "id": "db64b100",
   "metadata": {},
   "outputs": [],
   "source": [
    "lot_columns = [columns for columns in df_train.columns if 'Lot' in columns]"
   ]
  },
  {
   "cell_type": "code",
   "execution_count": 19,
   "id": "036fac8e",
   "metadata": {},
   "outputs": [
    {
     "data": {
      "text/html": [
       "<div>\n",
       "<style scoped>\n",
       "    .dataframe tbody tr th:only-of-type {\n",
       "        vertical-align: middle;\n",
       "    }\n",
       "\n",
       "    .dataframe tbody tr th {\n",
       "        vertical-align: top;\n",
       "    }\n",
       "\n",
       "    .dataframe thead th {\n",
       "        text-align: right;\n",
       "    }\n",
       "</style>\n",
       "<table border=\"1\" class=\"dataframe\">\n",
       "  <thead>\n",
       "    <tr style=\"text-align: right;\">\n",
       "      <th></th>\n",
       "      <th>Lot Frontage</th>\n",
       "      <th>Lot Area</th>\n",
       "      <th>Lot Shape</th>\n",
       "      <th>Lot Config</th>\n",
       "    </tr>\n",
       "  </thead>\n",
       "  <tbody>\n",
       "    <tr>\n",
       "      <th>0</th>\n",
       "      <td>NaN</td>\n",
       "      <td>13517</td>\n",
       "      <td>IR1</td>\n",
       "      <td>CulDSac</td>\n",
       "    </tr>\n",
       "    <tr>\n",
       "      <th>7</th>\n",
       "      <td>NaN</td>\n",
       "      <td>12160</td>\n",
       "      <td>IR1</td>\n",
       "      <td>Inside</td>\n",
       "    </tr>\n",
       "    <tr>\n",
       "      <th>8</th>\n",
       "      <td>NaN</td>\n",
       "      <td>15783</td>\n",
       "      <td>Reg</td>\n",
       "      <td>Inside</td>\n",
       "    </tr>\n",
       "    <tr>\n",
       "      <th>23</th>\n",
       "      <td>NaN</td>\n",
       "      <td>7980</td>\n",
       "      <td>IR1</td>\n",
       "      <td>Inside</td>\n",
       "    </tr>\n",
       "    <tr>\n",
       "      <th>27</th>\n",
       "      <td>NaN</td>\n",
       "      <td>11700</td>\n",
       "      <td>IR1</td>\n",
       "      <td>Inside</td>\n",
       "    </tr>\n",
       "    <tr>\n",
       "      <th>...</th>\n",
       "      <td>...</td>\n",
       "      <td>...</td>\n",
       "      <td>...</td>\n",
       "      <td>...</td>\n",
       "    </tr>\n",
       "    <tr>\n",
       "      <th>2016</th>\n",
       "      <td>NaN</td>\n",
       "      <td>7791</td>\n",
       "      <td>IR1</td>\n",
       "      <td>Inside</td>\n",
       "    </tr>\n",
       "    <tr>\n",
       "      <th>2022</th>\n",
       "      <td>NaN</td>\n",
       "      <td>16381</td>\n",
       "      <td>IR1</td>\n",
       "      <td>Inside</td>\n",
       "    </tr>\n",
       "    <tr>\n",
       "      <th>2028</th>\n",
       "      <td>NaN</td>\n",
       "      <td>20781</td>\n",
       "      <td>IR2</td>\n",
       "      <td>CulDSac</td>\n",
       "    </tr>\n",
       "    <tr>\n",
       "      <th>2031</th>\n",
       "      <td>NaN</td>\n",
       "      <td>12537</td>\n",
       "      <td>IR1</td>\n",
       "      <td>CulDSac</td>\n",
       "    </tr>\n",
       "    <tr>\n",
       "      <th>2047</th>\n",
       "      <td>NaN</td>\n",
       "      <td>12342</td>\n",
       "      <td>IR1</td>\n",
       "      <td>Inside</td>\n",
       "    </tr>\n",
       "  </tbody>\n",
       "</table>\n",
       "<p>330 rows × 4 columns</p>\n",
       "</div>"
      ],
      "text/plain": [
       "      Lot Frontage  Lot Area Lot Shape Lot Config\n",
       "0              NaN     13517       IR1    CulDSac\n",
       "7              NaN     12160       IR1     Inside\n",
       "8              NaN     15783       Reg     Inside\n",
       "23             NaN      7980       IR1     Inside\n",
       "27             NaN     11700       IR1     Inside\n",
       "...            ...       ...       ...        ...\n",
       "2016           NaN      7791       IR1     Inside\n",
       "2022           NaN     16381       IR1     Inside\n",
       "2028           NaN     20781       IR2    CulDSac\n",
       "2031           NaN     12537       IR1    CulDSac\n",
       "2047           NaN     12342       IR1     Inside\n",
       "\n",
       "[330 rows x 4 columns]"
      ]
     },
     "execution_count": 19,
     "metadata": {},
     "output_type": "execute_result"
    }
   ],
   "source": [
    "df_train[df_train['Lot Frontage'].isnull()][lot_columns]"
   ]
  },
  {
   "cell_type": "markdown",
   "id": "316c1f10",
   "metadata": {},
   "source": [
    "The rows that have missing Lot Frontage values, do not have other related columns blank. Hence, the missing values must be imuted using median. Median is not as much affected by outliers as the mean. "
   ]
  },
  {
   "cell_type": "code",
   "execution_count": 20,
   "id": "568f2075",
   "metadata": {},
   "outputs": [],
   "source": [
    "df_train['Lot Frontage'].fillna(df_train['Lot Frontage'].median(),inplace=True)"
   ]
  },
  {
   "cell_type": "code",
   "execution_count": 21,
   "id": "fc5f4fb7",
   "metadata": {
    "scrolled": true
   },
   "outputs": [
    {
     "data": {
      "text/html": [
       "<div>\n",
       "<style scoped>\n",
       "    .dataframe tbody tr th:only-of-type {\n",
       "        vertical-align: middle;\n",
       "    }\n",
       "\n",
       "    .dataframe tbody tr th {\n",
       "        vertical-align: top;\n",
       "    }\n",
       "\n",
       "    .dataframe thead th {\n",
       "        text-align: right;\n",
       "    }\n",
       "</style>\n",
       "<table border=\"1\" class=\"dataframe\">\n",
       "  <thead>\n",
       "    <tr style=\"text-align: right;\">\n",
       "      <th></th>\n",
       "      <th>Mas Vnr Area</th>\n",
       "      <th>Mas Vnr Type</th>\n",
       "    </tr>\n",
       "  </thead>\n",
       "  <tbody>\n",
       "    <tr>\n",
       "      <th>22</th>\n",
       "      <td>NaN</td>\n",
       "      <td>NaN</td>\n",
       "    </tr>\n",
       "    <tr>\n",
       "      <th>41</th>\n",
       "      <td>NaN</td>\n",
       "      <td>NaN</td>\n",
       "    </tr>\n",
       "    <tr>\n",
       "      <th>86</th>\n",
       "      <td>NaN</td>\n",
       "      <td>NaN</td>\n",
       "    </tr>\n",
       "    <tr>\n",
       "      <th>212</th>\n",
       "      <td>NaN</td>\n",
       "      <td>NaN</td>\n",
       "    </tr>\n",
       "    <tr>\n",
       "      <th>276</th>\n",
       "      <td>NaN</td>\n",
       "      <td>NaN</td>\n",
       "    </tr>\n",
       "    <tr>\n",
       "      <th>338</th>\n",
       "      <td>NaN</td>\n",
       "      <td>NaN</td>\n",
       "    </tr>\n",
       "    <tr>\n",
       "      <th>431</th>\n",
       "      <td>NaN</td>\n",
       "      <td>NaN</td>\n",
       "    </tr>\n",
       "    <tr>\n",
       "      <th>451</th>\n",
       "      <td>NaN</td>\n",
       "      <td>NaN</td>\n",
       "    </tr>\n",
       "    <tr>\n",
       "      <th>591</th>\n",
       "      <td>NaN</td>\n",
       "      <td>NaN</td>\n",
       "    </tr>\n",
       "    <tr>\n",
       "      <th>844</th>\n",
       "      <td>NaN</td>\n",
       "      <td>NaN</td>\n",
       "    </tr>\n",
       "    <tr>\n",
       "      <th>913</th>\n",
       "      <td>NaN</td>\n",
       "      <td>NaN</td>\n",
       "    </tr>\n",
       "    <tr>\n",
       "      <th>939</th>\n",
       "      <td>NaN</td>\n",
       "      <td>NaN</td>\n",
       "    </tr>\n",
       "    <tr>\n",
       "      <th>1025</th>\n",
       "      <td>NaN</td>\n",
       "      <td>NaN</td>\n",
       "    </tr>\n",
       "    <tr>\n",
       "      <th>1244</th>\n",
       "      <td>NaN</td>\n",
       "      <td>NaN</td>\n",
       "    </tr>\n",
       "    <tr>\n",
       "      <th>1306</th>\n",
       "      <td>NaN</td>\n",
       "      <td>NaN</td>\n",
       "    </tr>\n",
       "    <tr>\n",
       "      <th>1430</th>\n",
       "      <td>NaN</td>\n",
       "      <td>NaN</td>\n",
       "    </tr>\n",
       "    <tr>\n",
       "      <th>1434</th>\n",
       "      <td>NaN</td>\n",
       "      <td>NaN</td>\n",
       "    </tr>\n",
       "    <tr>\n",
       "      <th>1606</th>\n",
       "      <td>NaN</td>\n",
       "      <td>NaN</td>\n",
       "    </tr>\n",
       "    <tr>\n",
       "      <th>1699</th>\n",
       "      <td>NaN</td>\n",
       "      <td>NaN</td>\n",
       "    </tr>\n",
       "    <tr>\n",
       "      <th>1815</th>\n",
       "      <td>NaN</td>\n",
       "      <td>NaN</td>\n",
       "    </tr>\n",
       "    <tr>\n",
       "      <th>1820</th>\n",
       "      <td>NaN</td>\n",
       "      <td>NaN</td>\n",
       "    </tr>\n",
       "    <tr>\n",
       "      <th>1941</th>\n",
       "      <td>NaN</td>\n",
       "      <td>NaN</td>\n",
       "    </tr>\n",
       "  </tbody>\n",
       "</table>\n",
       "</div>"
      ],
      "text/plain": [
       "      Mas Vnr Area Mas Vnr Type\n",
       "22             NaN          NaN\n",
       "41             NaN          NaN\n",
       "86             NaN          NaN\n",
       "212            NaN          NaN\n",
       "276            NaN          NaN\n",
       "338            NaN          NaN\n",
       "431            NaN          NaN\n",
       "451            NaN          NaN\n",
       "591            NaN          NaN\n",
       "844            NaN          NaN\n",
       "913            NaN          NaN\n",
       "939            NaN          NaN\n",
       "1025           NaN          NaN\n",
       "1244           NaN          NaN\n",
       "1306           NaN          NaN\n",
       "1430           NaN          NaN\n",
       "1434           NaN          NaN\n",
       "1606           NaN          NaN\n",
       "1699           NaN          NaN\n",
       "1815           NaN          NaN\n",
       "1820           NaN          NaN\n",
       "1941           NaN          NaN"
      ]
     },
     "execution_count": 21,
     "metadata": {},
     "output_type": "execute_result"
    }
   ],
   "source": [
    "df_train[df_train['Mas Vnr Area'].isnull()][['Mas Vnr Area','Mas Vnr Type']]"
   ]
  },
  {
   "cell_type": "markdown",
   "id": "75bebeed",
   "metadata": {},
   "source": [
    "The entries with Missing Masonry Veneer Area also have Masonry Veneer Type missing. But Mas Vnr Type column contains None type. So this is the case of missing data."
   ]
  },
  {
   "cell_type": "code",
   "execution_count": 22,
   "id": "2f675836",
   "metadata": {},
   "outputs": [],
   "source": [
    "df_train['Mas Vnr Area'].fillna(df_train['Mas Vnr Area'].median(),inplace=True)"
   ]
  },
  {
   "cell_type": "code",
   "execution_count": 23,
   "id": "8f4beb84",
   "metadata": {},
   "outputs": [],
   "source": [
    "df_train['Mas Vnr Type'].fillna(df_train['Mas Vnr Type'].mode()[0],inplace=True)"
   ]
  },
  {
   "cell_type": "code",
   "execution_count": 24,
   "id": "d8a41880",
   "metadata": {},
   "outputs": [
    {
     "data": {
      "text/plain": [
       "['Bsmt Qual',\n",
       " 'Bsmt Cond',\n",
       " 'Bsmt Exposure',\n",
       " 'BsmtFin Type 1',\n",
       " 'BsmtFin SF 1',\n",
       " 'BsmtFin Type 2',\n",
       " 'BsmtFin SF 2',\n",
       " 'Bsmt Unf SF',\n",
       " 'Total Bsmt SF',\n",
       " 'Bsmt Full Bath',\n",
       " 'Bsmt Half Bath']"
      ]
     },
     "execution_count": 24,
     "metadata": {},
     "output_type": "execute_result"
    }
   ],
   "source": [
    "bsmt_columns = [columns for columns in df_train.columns if 'Bsmt' in columns]\n",
    "bsmt_columns"
   ]
  },
  {
   "cell_type": "markdown",
   "id": "36ad0dea",
   "metadata": {},
   "source": [
    "Based on the data dictionary, NA for basement columns means No Basement. Hence the missing values must be replaced by 0."
   ]
  },
  {
   "cell_type": "code",
   "execution_count": 25,
   "id": "33932d4b",
   "metadata": {},
   "outputs": [],
   "source": [
    "for column in df_train.select_dtypes(include=['int64','float64']).columns:\n",
    "    if 'Bsmt' in column:\n",
    "        df_train[column].fillna(0,inplace=True)"
   ]
  },
  {
   "cell_type": "markdown",
   "id": "5f5a7d5c",
   "metadata": {},
   "source": [
    "Replacing missing categorical data with 'NoB' which means no basement. If in future we are required to use these columns for modeling, this category wil have its own dummy value."
   ]
  },
  {
   "cell_type": "code",
   "execution_count": 26,
   "id": "87142a8b",
   "metadata": {},
   "outputs": [],
   "source": [
    "for column in df_train.select_dtypes(include=['object']).columns:\n",
    "    if 'Bsmt' in column:\n",
    "        df_train[column].fillna('NoB',inplace=True)"
   ]
  },
  {
   "cell_type": "code",
   "execution_count": 27,
   "id": "f6d904e2",
   "metadata": {},
   "outputs": [
    {
     "data": {
      "text/plain": [
       "Bsmt Qual         0\n",
       "Bsmt Cond         0\n",
       "Bsmt Exposure     0\n",
       "BsmtFin Type 1    0\n",
       "BsmtFin SF 1      0\n",
       "BsmtFin Type 2    0\n",
       "BsmtFin SF 2      0\n",
       "Bsmt Unf SF       0\n",
       "Total Bsmt SF     0\n",
       "Bsmt Full Bath    0\n",
       "Bsmt Half Bath    0\n",
       "dtype: int64"
      ]
     },
     "execution_count": 27,
     "metadata": {},
     "output_type": "execute_result"
    }
   ],
   "source": [
    "df_train[bsmt_columns].isnull().sum()"
   ]
  },
  {
   "cell_type": "code",
   "execution_count": 28,
   "id": "e79a71b2",
   "metadata": {},
   "outputs": [
    {
     "data": {
      "text/plain": [
       "MS Zoning         0\n",
       "Street            0\n",
       "Lot Shape         0\n",
       "Land Contour      0\n",
       "Utilities         0\n",
       "Lot Config        0\n",
       "Land Slope        0\n",
       "Neighborhood      0\n",
       "Condition 1       0\n",
       "Condition 2       0\n",
       "Bldg Type         0\n",
       "House Style       0\n",
       "Roof Style        0\n",
       "Roof Matl         0\n",
       "Exterior 1st      0\n",
       "Exterior 2nd      0\n",
       "Mas Vnr Type      0\n",
       "Exter Qual        0\n",
       "Exter Cond        0\n",
       "Foundation        0\n",
       "Bsmt Qual         0\n",
       "Bsmt Cond         0\n",
       "Bsmt Exposure     0\n",
       "BsmtFin Type 1    0\n",
       "BsmtFin Type 2    0\n",
       "Heating           0\n",
       "Heating QC        0\n",
       "Central Air       0\n",
       "Electrical        0\n",
       "Kitchen Qual      0\n",
       "Functional        0\n",
       "Garage Type       0\n",
       "Garage Finish     0\n",
       "Garage Qual       0\n",
       "Garage Cond       0\n",
       "Paved Drive       0\n",
       "Sale Type         0\n",
       "dtype: int64"
      ]
     },
     "execution_count": 28,
     "metadata": {},
     "output_type": "execute_result"
    }
   ],
   "source": [
    "df_train.select_dtypes(include=['object']).isnull().sum()"
   ]
  },
  {
   "cell_type": "markdown",
   "id": "cc653648",
   "metadata": {},
   "source": [
    "Train data is clear of missing values. "
   ]
  },
  {
   "cell_type": "code",
   "execution_count": 29,
   "id": "b4a94a0b",
   "metadata": {},
   "outputs": [
    {
     "data": {
      "text/plain": [
       "count    2051.000000\n",
       "mean     1868.725987\n",
       "std       454.133654\n",
       "min         0.000000\n",
       "25%      1957.000000\n",
       "50%      1978.000000\n",
       "75%      2001.000000\n",
       "max      2207.000000\n",
       "Name: Garage Yr Blt, dtype: float64"
      ]
     },
     "execution_count": 29,
     "metadata": {},
     "output_type": "execute_result"
    }
   ],
   "source": [
    "df_train['Garage Yr Blt'].describe()"
   ]
  },
  {
   "cell_type": "markdown",
   "id": "fcbe6aac",
   "metadata": {},
   "source": [
    "The biggest Garage Year Built value is 2207 which is not right. "
   ]
  },
  {
   "cell_type": "code",
   "execution_count": 30,
   "id": "f5532994",
   "metadata": {},
   "outputs": [
    {
     "data": {
      "text/plain": [
       "1699    2207.0\n",
       "144     2010.0\n",
       "1241    2010.0\n",
       "1732    2009.0\n",
       "19      2009.0\n",
       "         ...  \n",
       "1788       0.0\n",
       "978        0.0\n",
       "787        0.0\n",
       "114        0.0\n",
       "1451       0.0\n",
       "Name: Garage Yr Blt, Length: 2051, dtype: float64"
      ]
     },
     "execution_count": 30,
     "metadata": {},
     "output_type": "execute_result"
    }
   ],
   "source": [
    "df_train['Garage Yr Blt'].sort_values(ascending=False)"
   ]
  },
  {
   "cell_type": "code",
   "execution_count": 31,
   "id": "9d21872d",
   "metadata": {},
   "outputs": [
    {
     "data": {
      "text/html": [
       "<div>\n",
       "<style scoped>\n",
       "    .dataframe tbody tr th:only-of-type {\n",
       "        vertical-align: middle;\n",
       "    }\n",
       "\n",
       "    .dataframe tbody tr th {\n",
       "        vertical-align: top;\n",
       "    }\n",
       "\n",
       "    .dataframe thead th {\n",
       "        text-align: right;\n",
       "    }\n",
       "</style>\n",
       "<table border=\"1\" class=\"dataframe\">\n",
       "  <thead>\n",
       "    <tr style=\"text-align: right;\">\n",
       "      <th></th>\n",
       "      <th>Garage Yr Blt</th>\n",
       "      <th>Year Built</th>\n",
       "      <th>Year Remod/Add</th>\n",
       "      <th>Yr Sold</th>\n",
       "    </tr>\n",
       "  </thead>\n",
       "  <tbody>\n",
       "    <tr>\n",
       "      <th>1699</th>\n",
       "      <td>2207.0</td>\n",
       "      <td>2006</td>\n",
       "      <td>2007</td>\n",
       "      <td>2007</td>\n",
       "    </tr>\n",
       "  </tbody>\n",
       "</table>\n",
       "</div>"
      ],
      "text/plain": [
       "      Garage Yr Blt  Year Built  Year Remod/Add  Yr Sold\n",
       "1699         2207.0        2006            2007     2007"
      ]
     },
     "execution_count": 31,
     "metadata": {},
     "output_type": "execute_result"
    }
   ],
   "source": [
    "df_train[df_train['Garage Yr Blt'] == 2207][['Garage Yr Blt','Year Built','Year Remod/Add','Yr Sold']]"
   ]
  },
  {
   "cell_type": "markdown",
   "id": "36465e7c",
   "metadata": {},
   "source": [
    "From above, the year 2207 seems to be a typographical error. The year must be 2007."
   ]
  },
  {
   "cell_type": "code",
   "execution_count": 32,
   "id": "42dbdc6f",
   "metadata": {},
   "outputs": [],
   "source": [
    "df_train.loc[1699, 'Garage Yr Blt'] = 2007"
   ]
  },
  {
   "cell_type": "code",
   "execution_count": 33,
   "id": "4e79ec2f",
   "metadata": {},
   "outputs": [
    {
     "data": {
      "text/plain": [
       "count    2051.000000\n",
       "mean     1868.628474\n",
       "std       454.082452\n",
       "min         0.000000\n",
       "25%      1957.000000\n",
       "50%      1978.000000\n",
       "75%      2001.000000\n",
       "max      2010.000000\n",
       "Name: Garage Yr Blt, dtype: float64"
      ]
     },
     "execution_count": 33,
     "metadata": {},
     "output_type": "execute_result"
    }
   ],
   "source": [
    "df_train['Garage Yr Blt'].describe()"
   ]
  },
  {
   "cell_type": "code",
   "execution_count": 34,
   "id": "16938a5b",
   "metadata": {},
   "outputs": [
    {
     "data": {
      "text/html": [
       "<div>\n",
       "<style scoped>\n",
       "    .dataframe tbody tr th:only-of-type {\n",
       "        vertical-align: middle;\n",
       "    }\n",
       "\n",
       "    .dataframe tbody tr th {\n",
       "        vertical-align: top;\n",
       "    }\n",
       "\n",
       "    .dataframe thead th {\n",
       "        text-align: right;\n",
       "    }\n",
       "</style>\n",
       "<table border=\"1\" class=\"dataframe\">\n",
       "  <thead>\n",
       "    <tr style=\"text-align: right;\">\n",
       "      <th></th>\n",
       "      <th>Garage Yr Blt</th>\n",
       "      <th>Year Built</th>\n",
       "      <th>Year Remod/Add</th>\n",
       "      <th>Yr Sold</th>\n",
       "    </tr>\n",
       "  </thead>\n",
       "  <tbody>\n",
       "    <tr>\n",
       "      <th>count</th>\n",
       "      <td>2051.000000</td>\n",
       "      <td>2051.000000</td>\n",
       "      <td>2051.000000</td>\n",
       "      <td>2051.000000</td>\n",
       "    </tr>\n",
       "    <tr>\n",
       "      <th>mean</th>\n",
       "      <td>1868.628474</td>\n",
       "      <td>1971.708922</td>\n",
       "      <td>1984.190151</td>\n",
       "      <td>2007.775719</td>\n",
       "    </tr>\n",
       "    <tr>\n",
       "      <th>std</th>\n",
       "      <td>454.082452</td>\n",
       "      <td>30.177889</td>\n",
       "      <td>21.036250</td>\n",
       "      <td>1.312014</td>\n",
       "    </tr>\n",
       "    <tr>\n",
       "      <th>min</th>\n",
       "      <td>0.000000</td>\n",
       "      <td>1872.000000</td>\n",
       "      <td>1950.000000</td>\n",
       "      <td>2006.000000</td>\n",
       "    </tr>\n",
       "    <tr>\n",
       "      <th>25%</th>\n",
       "      <td>1957.000000</td>\n",
       "      <td>1953.500000</td>\n",
       "      <td>1964.500000</td>\n",
       "      <td>2007.000000</td>\n",
       "    </tr>\n",
       "    <tr>\n",
       "      <th>50%</th>\n",
       "      <td>1978.000000</td>\n",
       "      <td>1974.000000</td>\n",
       "      <td>1993.000000</td>\n",
       "      <td>2008.000000</td>\n",
       "    </tr>\n",
       "    <tr>\n",
       "      <th>75%</th>\n",
       "      <td>2001.000000</td>\n",
       "      <td>2001.000000</td>\n",
       "      <td>2004.000000</td>\n",
       "      <td>2009.000000</td>\n",
       "    </tr>\n",
       "    <tr>\n",
       "      <th>max</th>\n",
       "      <td>2010.000000</td>\n",
       "      <td>2010.000000</td>\n",
       "      <td>2010.000000</td>\n",
       "      <td>2010.000000</td>\n",
       "    </tr>\n",
       "  </tbody>\n",
       "</table>\n",
       "</div>"
      ],
      "text/plain": [
       "       Garage Yr Blt   Year Built  Year Remod/Add      Yr Sold\n",
       "count    2051.000000  2051.000000     2051.000000  2051.000000\n",
       "mean     1868.628474  1971.708922     1984.190151  2007.775719\n",
       "std       454.082452    30.177889       21.036250     1.312014\n",
       "min         0.000000  1872.000000     1950.000000  2006.000000\n",
       "25%      1957.000000  1953.500000     1964.500000  2007.000000\n",
       "50%      1978.000000  1974.000000     1993.000000  2008.000000\n",
       "75%      2001.000000  2001.000000     2004.000000  2009.000000\n",
       "max      2010.000000  2010.000000     2010.000000  2010.000000"
      ]
     },
     "execution_count": 34,
     "metadata": {},
     "output_type": "execute_result"
    }
   ],
   "source": [
    "df_train[['Garage Yr Blt','Year Built','Year Remod/Add','Yr Sold']].describe()"
   ]
  },
  {
   "cell_type": "code",
   "execution_count": 35,
   "id": "7763cddd",
   "metadata": {},
   "outputs": [
    {
     "data": {
      "text/plain": [
       "<AxesSubplot:xlabel='Lot Area', ylabel='SalePrice'>"
      ]
     },
     "execution_count": 35,
     "metadata": {},
     "output_type": "execute_result"
    },
    {
     "data": {
      "image/png": "[encoded data removed]",
      "text/plain": [
       "<Figure size 432x288 with 1 Axes>"
      ]
     },
     "metadata": {
      "needs_background": "light"
     },
     "output_type": "display_data"
    }
   ],
   "source": [
    "sns.scatterplot(x='Lot Area',y='SalePrice',data=df_train)"
   ]
  },
  {
   "cell_type": "markdown",
   "id": "42d2de06",
   "metadata": {},
   "source": [
    "We have two outliers in this plot. For the two points on the extreme right, the lot size is the highest but the SalePrice is not not even close to the highest Sale Price. "
   ]
  },
  {
   "cell_type": "code",
   "execution_count": 36,
   "id": "cec23bbb",
   "metadata": {},
   "outputs": [
    {
     "data": {
      "text/plain": [
       "<AxesSubplot:xlabel='Lot Area'>"
      ]
     },
     "execution_count": 36,
     "metadata": {},
     "output_type": "execute_result"
    },
    {
     "data": {
      "image/png": "[encoded data removed]",
      "text/plain": [
       "<Figure size 432x288 with 1 Axes>"
      ]
     },
     "metadata": {
      "needs_background": "light"
     },
     "output_type": "display_data"
    }
   ],
   "source": [
    "sns.boxplot(x=df_train['Lot Area'])"
   ]
  },
  {
   "cell_type": "code",
   "execution_count": 37,
   "id": "9768e5a4",
   "metadata": {},
   "outputs": [
    {
     "data": {
      "text/plain": [
       "471     159000\n",
       "694     115149\n",
       "1854     70761\n",
       "960      63887\n",
       "745      57200\n",
       "         ...  \n",
       "1447      1484\n",
       "787       1477\n",
       "53        1476\n",
       "1544      1470\n",
       "1510      1300\n",
       "Name: Lot Area, Length: 2051, dtype: int64"
      ]
     },
     "execution_count": 37,
     "metadata": {},
     "output_type": "execute_result"
    }
   ],
   "source": [
    "df_train['Lot Area'].sort_values(ascending=False)"
   ]
  },
  {
   "cell_type": "code",
   "execution_count": 38,
   "id": "aacc1222",
   "metadata": {},
   "outputs": [
    {
     "data": {
      "text/plain": [
       "471    ClearCr\n",
       "Name: Neighborhood, dtype: object"
      ]
     },
     "execution_count": 38,
     "metadata": {},
     "output_type": "execute_result"
    }
   ],
   "source": [
    "df_train[df_train['Lot Area'] == 159000]['Neighborhood']"
   ]
  },
  {
   "cell_type": "code",
   "execution_count": 39,
   "id": "5cd25487",
   "metadata": {},
   "outputs": [
    {
     "data": {
      "text/plain": [
       "694    ClearCr\n",
       "Name: Neighborhood, dtype: object"
      ]
     },
     "execution_count": 39,
     "metadata": {},
     "output_type": "execute_result"
    }
   ],
   "source": [
    "df_train[df_train['Lot Area'] == 115149]['Neighborhood']"
   ]
  },
  {
   "cell_type": "code",
   "execution_count": 40,
   "id": "90f647d5",
   "metadata": {
    "scrolled": true
   },
   "outputs": [
    {
     "data": {
      "text/plain": [
       "Neighborhood\n",
       "Blmngtn     3189.0\n",
       "Blueste     1866.0\n",
       "BrDale      1680.0\n",
       "BrkSide     6240.0\n",
       "ClearCr    15593.0\n",
       "CollgCr     9746.0\n",
       "Crawfor    11435.0\n",
       "Edwards     9170.0\n",
       "Gilbert     9148.0\n",
       "Greens      3876.0\n",
       "GrnHill     9001.0\n",
       "IDOTRR      8250.0\n",
       "Landmrk     3612.0\n",
       "MeadowV     1936.0\n",
       "Mitchel    10062.0\n",
       "NAmes       9496.0\n",
       "NPkVill     2308.0\n",
       "NWAmes     11029.0\n",
       "NoRidge    11013.5\n",
       "NridgHt    12205.0\n",
       "OldTown     8100.0\n",
       "SWISU       6644.0\n",
       "Sawyer      9535.0\n",
       "SawyerW     9554.0\n",
       "Somerst     8126.0\n",
       "StoneBr     8103.5\n",
       "Timber     11506.0\n",
       "Veenker    14330.0\n",
       "Name: Lot Area, dtype: float64"
      ]
     },
     "execution_count": 40,
     "metadata": {},
     "output_type": "execute_result"
    }
   ],
   "source": [
    "df_train.groupby('Neighborhood').median()['Lot Area']"
   ]
  },
  {
   "cell_type": "code",
   "execution_count": 41,
   "id": "8185b54f",
   "metadata": {},
   "outputs": [
    {
     "data": {
      "text/plain": [
       "<AxesSubplot:>"
      ]
     },
     "execution_count": 41,
     "metadata": {},
     "output_type": "execute_result"
    },
    {
     "data": {
      "image/png": "[encoded data removed]",
      "text/plain": [
       "<Figure size 432x288 with 1 Axes>"
      ]
     },
     "metadata": {
      "needs_background": "light"
     },
     "output_type": "display_data"
    }
   ],
   "source": [
    "df_train[df_train['Neighborhood'] == 'ClearCr']['Lot Area'].hist()"
   ]
  },
  {
   "cell_type": "markdown",
   "id": "1e421952",
   "metadata": {},
   "source": [
    "These two entries have exceptionally high lot size and the Sale Price does not correlate properly. Hence these can be considered outliers, and must be replaced by median, as median is the less affected by outliers.  "
   ]
  },
  {
   "cell_type": "code",
   "execution_count": 42,
   "id": "d100983d",
   "metadata": {},
   "outputs": [
    {
     "data": {
      "text/html": [
       "<div>\n",
       "<style scoped>\n",
       "    .dataframe tbody tr th:only-of-type {\n",
       "        vertical-align: middle;\n",
       "    }\n",
       "\n",
       "    .dataframe tbody tr th {\n",
       "        vertical-align: top;\n",
       "    }\n",
       "\n",
       "    .dataframe thead th {\n",
       "        text-align: right;\n",
       "    }\n",
       "</style>\n",
       "<table border=\"1\" class=\"dataframe\">\n",
       "  <thead>\n",
       "    <tr style=\"text-align: right;\">\n",
       "      <th></th>\n",
       "      <th>Id</th>\n",
       "      <th>PID</th>\n",
       "      <th>MS SubClass</th>\n",
       "      <th>MS Zoning</th>\n",
       "      <th>Lot Frontage</th>\n",
       "      <th>Lot Area</th>\n",
       "      <th>Street</th>\n",
       "      <th>Lot Shape</th>\n",
       "      <th>Land Contour</th>\n",
       "      <th>Utilities</th>\n",
       "      <th>...</th>\n",
       "      <th>Open Porch SF</th>\n",
       "      <th>Enclosed Porch</th>\n",
       "      <th>3Ssn Porch</th>\n",
       "      <th>Screen Porch</th>\n",
       "      <th>Pool Area</th>\n",
       "      <th>Misc Val</th>\n",
       "      <th>Mo Sold</th>\n",
       "      <th>Yr Sold</th>\n",
       "      <th>Sale Type</th>\n",
       "      <th>SalePrice</th>\n",
       "    </tr>\n",
       "  </thead>\n",
       "  <tbody>\n",
       "    <tr>\n",
       "      <th>471</th>\n",
       "      <td>2116</td>\n",
       "      <td>906426060</td>\n",
       "      <td>50</td>\n",
       "      <td>RL</td>\n",
       "      <td>68.0</td>\n",
       "      <td>159000</td>\n",
       "      <td>Pave</td>\n",
       "      <td>IR2</td>\n",
       "      <td>Low</td>\n",
       "      <td>AllPub</td>\n",
       "      <td>...</td>\n",
       "      <td>98</td>\n",
       "      <td>0</td>\n",
       "      <td>0</td>\n",
       "      <td>0</td>\n",
       "      <td>0</td>\n",
       "      <td>500</td>\n",
       "      <td>6</td>\n",
       "      <td>2007</td>\n",
       "      <td>WD</td>\n",
       "      <td>277000</td>\n",
       "    </tr>\n",
       "  </tbody>\n",
       "</table>\n",
       "<p>1 rows × 76 columns</p>\n",
       "</div>"
      ],
      "text/plain": [
       "       Id        PID  MS SubClass MS Zoning  Lot Frontage  Lot Area Street  \\\n",
       "471  2116  906426060           50        RL          68.0    159000   Pave   \n",
       "\n",
       "    Lot Shape Land Contour Utilities  ... Open Porch SF Enclosed Porch  \\\n",
       "471       IR2          Low    AllPub  ...            98              0   \n",
       "\n",
       "    3Ssn Porch Screen Porch Pool Area Misc Val Mo Sold  Yr Sold  Sale Type  \\\n",
       "471          0            0         0      500       6     2007        WD    \n",
       "\n",
       "     SalePrice  \n",
       "471     277000  \n",
       "\n",
       "[1 rows x 76 columns]"
      ]
     },
     "execution_count": 42,
     "metadata": {},
     "output_type": "execute_result"
    }
   ],
   "source": [
    "df_train[df_train['Lot Area'] == 159000]"
   ]
  },
  {
   "cell_type": "code",
   "execution_count": 43,
   "id": "cea99ce4",
   "metadata": {},
   "outputs": [],
   "source": [
    "df_train.loc[471,'Lot Area'] = 15593 "
   ]
  },
  {
   "cell_type": "code",
   "execution_count": 44,
   "id": "99640067",
   "metadata": {},
   "outputs": [],
   "source": [
    "df_train.loc[694,'Lot Area'] = 15593"
   ]
  },
  {
   "cell_type": "code",
   "execution_count": 45,
   "id": "94d76f3a",
   "metadata": {},
   "outputs": [],
   "source": [
    "df_train.to_csv('../datasets/complete_clean_train.csv',index=False)"
   ]
  },
  {
   "cell_type": "markdown",
   "id": "cb2aef85",
   "metadata": {},
   "source": [
    "## Categorical Columns"
   ]
  },
  {
   "cell_type": "markdown",
   "id": "0393fabd",
   "metadata": {},
   "source": [
    "When it comes to categorical columns, we are dealing with over 30 of these, with each column containing multiple categories. Dummying all these columns would increase the complexity of the model and add high variance to the model. Instead, I have looked at these columns indivially and tried to categorize these columns based on mean sale price. By doing this, a pattern can be observed in these categories. Recognizing the categories that contribute the most to sale price, I have encoded these columns."
   ]
  },
  {
   "cell_type": "code",
   "execution_count": 46,
   "id": "a7168922",
   "metadata": {},
   "outputs": [
    {
     "data": {
      "text/plain": [
       "Index(['MS Zoning', 'Street', 'Lot Shape', 'Land Contour', 'Utilities',\n",
       "       'Lot Config', 'Land Slope', 'Neighborhood', 'Condition 1',\n",
       "       'Condition 2', 'Bldg Type', 'House Style', 'Roof Style', 'Roof Matl',\n",
       "       'Exterior 1st', 'Exterior 2nd', 'Mas Vnr Type', 'Exter Qual',\n",
       "       'Exter Cond', 'Foundation', 'Bsmt Qual', 'Bsmt Cond', 'Bsmt Exposure',\n",
       "       'BsmtFin Type 1', 'BsmtFin Type 2', 'Heating', 'Heating QC',\n",
       "       'Central Air', 'Electrical', 'Kitchen Qual', 'Functional',\n",
       "       'Garage Type', 'Garage Finish', 'Garage Qual', 'Garage Cond',\n",
       "       'Paved Drive', 'Sale Type'],\n",
       "      dtype='object')"
      ]
     },
     "execution_count": 46,
     "metadata": {},
     "output_type": "execute_result"
    }
   ],
   "source": [
    "categorical_columns = df_train.select_dtypes(include=['object']).columns\n",
    "categorical_columns"
   ]
  },
  {
   "cell_type": "code",
   "execution_count": 47,
   "id": "59f3031a",
   "metadata": {},
   "outputs": [
    {
     "data": {
      "text/plain": [
       "<BarContainer object of 9 artists>"
      ]
     },
     "execution_count": 47,
     "metadata": {},
     "output_type": "execute_result"
    },
    {
     "data": {
      "image/png": "[encoded data removed]",
      "text/plain": [
       "<Figure size 432x288 with 1 Axes>"
      ]
     },
     "metadata": {
      "needs_background": "light"
     },
     "output_type": "display_data"
    }
   ],
   "source": [
    "plt.bar(df_train['Condition 1'].value_counts().index, df_train.groupby('Condition 1').mean()['SalePrice'])"
   ]
  },
  {
   "cell_type": "code",
   "execution_count": 48,
   "id": "9919408c",
   "metadata": {},
   "outputs": [],
   "source": [
    "df_train['Condition 1'] = df_train['Condition 1'].map(lambda x: 1 if x in ['RRAn','PosN'] else 0)\n",
    "df_test['Condition 1'] = df_test['Condition 1'].map(lambda x: 1 if x in ['RRAn','PosN'] else 0)"
   ]
  },
  {
   "cell_type": "code",
   "execution_count": 49,
   "id": "986a6b5d",
   "metadata": {},
   "outputs": [
    {
     "data": {
      "text/plain": [
       "<BarContainer object of 8 artists>"
      ]
     },
     "execution_count": 49,
     "metadata": {},
     "output_type": "execute_result"
    },
    {
     "data": {
      "image/png": "[encoded data removed]",
      "text/plain": [
       "<Figure size 432x288 with 1 Axes>"
      ]
     },
     "metadata": {
      "needs_background": "light"
     },
     "output_type": "display_data"
    }
   ],
   "source": [
    "plt.bar(df_train['Condition 2'].value_counts().index, df_train.groupby('Condition 2').mean()['SalePrice'])"
   ]
  },
  {
   "cell_type": "code",
   "execution_count": 50,
   "id": "bf1217bb",
   "metadata": {},
   "outputs": [],
   "source": [
    "df_train['Condition 2'] = df_train['Condition 2'].map(lambda x: 1 if x in ['PosN','PosA'] else 0)\n",
    "df_test['Condition 2'] = df_test['Condition 2'].map(lambda x: 1 if x in ['PosN','PosA'] else 0)"
   ]
  },
  {
   "cell_type": "code",
   "execution_count": 51,
   "id": "0b5386bd",
   "metadata": {},
   "outputs": [
    {
     "data": {
      "text/plain": [
       "<BarContainer object of 5 artists>"
      ]
     },
     "execution_count": 51,
     "metadata": {},
     "output_type": "execute_result"
    },
    {
     "data": {
      "image/png": "[encoded data removed]",
      "text/plain": [
       "<Figure size 432x288 with 1 Axes>"
      ]
     },
     "metadata": {
      "needs_background": "light"
     },
     "output_type": "display_data"
    }
   ],
   "source": [
    "plt.bar(df_train['Bldg Type'].value_counts().index, df_train.groupby('Bldg Type').mean()['SalePrice'])"
   ]
  },
  {
   "cell_type": "code",
   "execution_count": 52,
   "id": "3e481fb5",
   "metadata": {},
   "outputs": [],
   "source": [
    "df_train['Bldg Type'] = df_train['Bldg Type'].map(lambda x : 1 if x in ['1Fam','2fmCon'] else 0)\n",
    "df_test['Bldg Type'] = df_test['Bldg Type'].map(lambda x : 1 if x in ['1Fam','2fmCon'] else 0)"
   ]
  },
  {
   "cell_type": "code",
   "execution_count": 53,
   "id": "07f1aaed",
   "metadata": {},
   "outputs": [
    {
     "data": {
      "text/plain": [
       "<BarContainer object of 2 artists>"
      ]
     },
     "execution_count": 53,
     "metadata": {},
     "output_type": "execute_result"
    },
    {
     "data": {
      "image/png": "[encoded data removed]",
      "text/plain": [
       "<Figure size 432x288 with 1 Axes>"
      ]
     },
     "metadata": {
      "needs_background": "light"
     },
     "output_type": "display_data"
    }
   ],
   "source": [
    "plt.bar(df_train['Street'].value_counts().index, df_train.groupby('Street').mean()['SalePrice'])"
   ]
  },
  {
   "cell_type": "code",
   "execution_count": 54,
   "id": "355db6a6",
   "metadata": {},
   "outputs": [],
   "source": [
    "df_train['Street'] = df_train['Street'].map({'Grvl':1,'Pave':0})\n",
    "df_test['Street'] = df_test['Street'].map({'Grvl':1,'Pave':0})"
   ]
  },
  {
   "cell_type": "code",
   "execution_count": 55,
   "id": "769cc3a3",
   "metadata": {},
   "outputs": [
    {
     "data": {
      "text/plain": [
       "<BarContainer object of 3 artists>"
      ]
     },
     "execution_count": 55,
     "metadata": {},
     "output_type": "execute_result"
    },
    {
     "data": {
      "image/png": "[encoded data removed]",
      "text/plain": [
       "<Figure size 432x288 with 1 Axes>"
      ]
     },
     "metadata": {
      "needs_background": "light"
     },
     "output_type": "display_data"
    }
   ],
   "source": [
    "plt.bar(df_train['Utilities'].value_counts().index, df_train.groupby('Utilities').mean()['SalePrice'])"
   ]
  },
  {
   "cell_type": "markdown",
   "id": "8816402a",
   "metadata": {},
   "source": [
    "There seems to be a discrepancy between the categories in the Utilities column for train data and test data. The test data does not have 'NoSeWa' category. while fitting training data and preciting it on test data, this will throw an error as there will be column mismatch. This can be solved by saving the dummied columns of train data in a list and use this list on dummyed test data by aligning it with  train dummy columns. \n",
    "\n",
    "Source: https://towardsdatascience.com/beware-of-the-dummy-variable-trap-in-pandas-727e8e6b8bde"
   ]
  },
  {
   "cell_type": "code",
   "execution_count": 56,
   "id": "01ae81f6",
   "metadata": {},
   "outputs": [],
   "source": [
    "df_train_utilities = pd.get_dummies(df_train['Utilities'],drop_first=True)"
   ]
  },
  {
   "cell_type": "code",
   "execution_count": 57,
   "id": "89bda70e",
   "metadata": {},
   "outputs": [
    {
     "data": {
      "text/plain": [
       "['NoSeWa', 'NoSewr']"
      ]
     },
     "execution_count": 57,
     "metadata": {},
     "output_type": "execute_result"
    }
   ],
   "source": [
    "utilities_col = list(df_train_utilities.columns)\n",
    "utilities_col"
   ]
  },
  {
   "cell_type": "code",
   "execution_count": 58,
   "id": "e4a81dc8",
   "metadata": {},
   "outputs": [],
   "source": [
    "df_test_utilities = pd.get_dummies(df_test['Utilities'],drop_first=True)"
   ]
  },
  {
   "cell_type": "code",
   "execution_count": 59,
   "id": "0590bd3f",
   "metadata": {},
   "outputs": [
    {
     "data": {
      "text/html": [
       "<div>\n",
       "<style scoped>\n",
       "    .dataframe tbody tr th:only-of-type {\n",
       "        vertical-align: middle;\n",
       "    }\n",
       "\n",
       "    .dataframe tbody tr th {\n",
       "        vertical-align: top;\n",
       "    }\n",
       "\n",
       "    .dataframe thead th {\n",
       "        text-align: right;\n",
       "    }\n",
       "</style>\n",
       "<table border=\"1\" class=\"dataframe\">\n",
       "  <thead>\n",
       "    <tr style=\"text-align: right;\">\n",
       "      <th></th>\n",
       "      <th>NoSewr</th>\n",
       "    </tr>\n",
       "  </thead>\n",
       "  <tbody>\n",
       "    <tr>\n",
       "      <th>0</th>\n",
       "      <td>0</td>\n",
       "    </tr>\n",
       "    <tr>\n",
       "      <th>1</th>\n",
       "      <td>0</td>\n",
       "    </tr>\n",
       "    <tr>\n",
       "      <th>2</th>\n",
       "      <td>0</td>\n",
       "    </tr>\n",
       "    <tr>\n",
       "      <th>3</th>\n",
       "      <td>0</td>\n",
       "    </tr>\n",
       "    <tr>\n",
       "      <th>4</th>\n",
       "      <td>0</td>\n",
       "    </tr>\n",
       "  </tbody>\n",
       "</table>\n",
       "</div>"
      ],
      "text/plain": [
       "   NoSewr\n",
       "0       0\n",
       "1       0\n",
       "2       0\n",
       "3       0\n",
       "4       0"
      ]
     },
     "execution_count": 59,
     "metadata": {},
     "output_type": "execute_result"
    }
   ],
   "source": [
    "df_test_utilities.head()   #NoSeWa column is missing in test data"
   ]
  },
  {
   "cell_type": "code",
   "execution_count": 60,
   "id": "bb90b41e",
   "metadata": {},
   "outputs": [],
   "source": [
    "df_test_utilities = df_test_utilities.reindex(columns=utilities_col).fillna(0)"
   ]
  },
  {
   "cell_type": "code",
   "execution_count": 61,
   "id": "8b1df55a",
   "metadata": {},
   "outputs": [
    {
     "data": {
      "text/html": [
       "<div>\n",
       "<style scoped>\n",
       "    .dataframe tbody tr th:only-of-type {\n",
       "        vertical-align: middle;\n",
       "    }\n",
       "\n",
       "    .dataframe tbody tr th {\n",
       "        vertical-align: top;\n",
       "    }\n",
       "\n",
       "    .dataframe thead th {\n",
       "        text-align: right;\n",
       "    }\n",
       "</style>\n",
       "<table border=\"1\" class=\"dataframe\">\n",
       "  <thead>\n",
       "    <tr style=\"text-align: right;\">\n",
       "      <th></th>\n",
       "      <th>NoSeWa</th>\n",
       "      <th>NoSewr</th>\n",
       "    </tr>\n",
       "  </thead>\n",
       "  <tbody>\n",
       "    <tr>\n",
       "      <th>0</th>\n",
       "      <td>0.0</td>\n",
       "      <td>0</td>\n",
       "    </tr>\n",
       "    <tr>\n",
       "      <th>1</th>\n",
       "      <td>0.0</td>\n",
       "      <td>0</td>\n",
       "    </tr>\n",
       "    <tr>\n",
       "      <th>2</th>\n",
       "      <td>0.0</td>\n",
       "      <td>0</td>\n",
       "    </tr>\n",
       "    <tr>\n",
       "      <th>3</th>\n",
       "      <td>0.0</td>\n",
       "      <td>0</td>\n",
       "    </tr>\n",
       "    <tr>\n",
       "      <th>4</th>\n",
       "      <td>0.0</td>\n",
       "      <td>0</td>\n",
       "    </tr>\n",
       "  </tbody>\n",
       "</table>\n",
       "</div>"
      ],
      "text/plain": [
       "   NoSeWa  NoSewr\n",
       "0     0.0       0\n",
       "1     0.0       0\n",
       "2     0.0       0\n",
       "3     0.0       0\n",
       "4     0.0       0"
      ]
     },
     "execution_count": 61,
     "metadata": {},
     "output_type": "execute_result"
    }
   ],
   "source": [
    "df_test_utilities.head() #Added NoSeWa column to match train data"
   ]
  },
  {
   "cell_type": "code",
   "execution_count": 62,
   "id": "2235d973",
   "metadata": {},
   "outputs": [
    {
     "data": {
      "text/plain": [
       "<BarContainer object of 6 artists>"
      ]
     },
     "execution_count": 62,
     "metadata": {},
     "output_type": "execute_result"
    },
    {
     "data": {
      "image/png": "[encoded data removed]",
      "text/plain": [
       "<Figure size 432x288 with 1 Axes>"
      ]
     },
     "metadata": {
      "needs_background": "light"
     },
     "output_type": "display_data"
    }
   ],
   "source": [
    "plt.bar(df_train['Garage Cond'].value_counts().index, df_train.groupby('Garage Cond').mean()['SalePrice'])"
   ]
  },
  {
   "cell_type": "code",
   "execution_count": 63,
   "id": "6599d5aa",
   "metadata": {},
   "outputs": [],
   "source": [
    "df_train['Garage Cond'] = df_train['Garage Cond'].map(lambda x: 1 if x in ['GD','Ex'] else 0)\n",
    "df_test['Garage Cond'] = df_test['Garage Cond'].map(lambda x: 1 if x in ['GD','Ex'] else 0)"
   ]
  },
  {
   "cell_type": "code",
   "execution_count": 64,
   "id": "251b8d3b",
   "metadata": {},
   "outputs": [
    {
     "data": {
      "text/plain": [
       "<BarContainer object of 4 artists>"
      ]
     },
     "execution_count": 64,
     "metadata": {},
     "output_type": "execute_result"
    },
    {
     "data": {
      "image/png": "[encoded data removed]",
      "text/plain": [
       "<Figure size 432x288 with 1 Axes>"
      ]
     },
     "metadata": {
      "needs_background": "light"
     },
     "output_type": "display_data"
    }
   ],
   "source": [
    "plt.bar(df_train['Kitchen Qual'].value_counts().index, df_train.groupby('Kitchen Qual').mean()['SalePrice'])"
   ]
  },
  {
   "cell_type": "code",
   "execution_count": 65,
   "id": "a564f4fc",
   "metadata": {},
   "outputs": [],
   "source": [
    "df_train['Kitchen Qual'] = df_train['Kitchen Qual'].map(lambda x: 1 if x in ['TA'] else 0)\n",
    "df_test['Kitchen Qual'] = df_test['Kitchen Qual'].map(lambda x: 1 if x in ['TA'] else 0)"
   ]
  },
  {
   "cell_type": "code",
   "execution_count": 66,
   "id": "a8c194ef",
   "metadata": {},
   "outputs": [
    {
     "data": {
      "text/plain": [
       "<BarContainer object of 5 artists>"
      ]
     },
     "execution_count": 66,
     "metadata": {},
     "output_type": "execute_result"
    },
    {
     "data": {
      "image/png": "[encoded data removed]",
      "text/plain": [
       "<Figure size 432x288 with 1 Axes>"
      ]
     },
     "metadata": {
      "needs_background": "light"
     },
     "output_type": "display_data"
    }
   ],
   "source": [
    "plt.bar(df_train['Electrical'].value_counts().index, df_train.groupby('Electrical').mean()['SalePrice'])"
   ]
  },
  {
   "cell_type": "code",
   "execution_count": 67,
   "id": "48fdba85",
   "metadata": {},
   "outputs": [],
   "source": [
    "df_train['Electrical'] = df_train['Electrical'].map(lambda x: 1 if x in ['Mix'] else 0)\n",
    "df_test['Electrical'] = df_test['Electrical'].map(lambda x: 1 if x in ['Mix'] else 0)"
   ]
  },
  {
   "cell_type": "code",
   "execution_count": 68,
   "id": "0ed9e01c",
   "metadata": {},
   "outputs": [
    {
     "data": {
      "text/plain": [
       "<BarContainer object of 3 artists>"
      ]
     },
     "execution_count": 68,
     "metadata": {},
     "output_type": "execute_result"
    },
    {
     "data": {
      "image/png": "[encoded data removed]",
      "text/plain": [
       "<Figure size 432x288 with 1 Axes>"
      ]
     },
     "metadata": {
      "needs_background": "light"
     },
     "output_type": "display_data"
    }
   ],
   "source": [
    "plt.bar(df_train['Paved Drive'].value_counts().index, df_train.groupby('Paved Drive').mean()['SalePrice'])"
   ]
  },
  {
   "cell_type": "code",
   "execution_count": 69,
   "id": "a47a97e6",
   "metadata": {},
   "outputs": [],
   "source": [
    "df_train_paved = pd.get_dummies(df_train['Paved Drive'],drop_first=True)"
   ]
  },
  {
   "cell_type": "code",
   "execution_count": 70,
   "id": "2955caff",
   "metadata": {},
   "outputs": [],
   "source": [
    "df_test_paved = pd.get_dummies(df_test['Paved Drive'],drop_first=True)"
   ]
  },
  {
   "cell_type": "code",
   "execution_count": 71,
   "id": "9a514371",
   "metadata": {},
   "outputs": [
    {
     "data": {
      "text/plain": [
       "<BarContainer object of 2 artists>"
      ]
     },
     "execution_count": 71,
     "metadata": {},
     "output_type": "execute_result"
    },
    {
     "data": {
      "image/png": "[encoded data removed]",
      "text/plain": [
       "<Figure size 432x288 with 1 Axes>"
      ]
     },
     "metadata": {
      "needs_background": "light"
     },
     "output_type": "display_data"
    }
   ],
   "source": [
    "plt.bar(df_train['Central Air'].value_counts().index, df_train.groupby('Central Air').mean()['SalePrice'])"
   ]
  },
  {
   "cell_type": "code",
   "execution_count": 72,
   "id": "7d2170a0",
   "metadata": {},
   "outputs": [],
   "source": [
    "df_train['Central Air'] = df_train['Central Air'].map({'Y':1,'N':0})"
   ]
  },
  {
   "cell_type": "code",
   "execution_count": 73,
   "id": "874d9cc5",
   "metadata": {},
   "outputs": [],
   "source": [
    "df_test['Central Air'] = df_test['Central Air'].map({'Y':1,'N':0})"
   ]
  },
  {
   "cell_type": "code",
   "execution_count": 74,
   "id": "f2621802",
   "metadata": {},
   "outputs": [
    {
     "data": {
      "text/plain": [
       "<BarContainer object of 7 artists>"
      ]
     },
     "execution_count": 74,
     "metadata": {},
     "output_type": "execute_result"
    },
    {
     "data": {
      "image/png": "[encoded data removed]",
      "text/plain": [
       "<Figure size 432x288 with 1 Axes>"
      ]
     },
     "metadata": {
      "needs_background": "light"
     },
     "output_type": "display_data"
    }
   ],
   "source": [
    "plt.bar(df_train['BsmtFin Type 1'].value_counts().index, df_train.groupby('BsmtFin Type 1').mean()['SalePrice'])"
   ]
  },
  {
   "cell_type": "code",
   "execution_count": 75,
   "id": "f4b9a778",
   "metadata": {},
   "outputs": [],
   "source": [
    "df_train['BsmtFin Type 1'] = df_train['BsmtFin Type 1'].map(lambda x: 1 if x in ['ALQ'] else 0)\n",
    "df_test['BsmtFin Type 1'] = df_test['BsmtFin Type 1'].map(lambda x: 1 if x in ['ALQ'] else 0)"
   ]
  },
  {
   "cell_type": "code",
   "execution_count": 76,
   "id": "41962912",
   "metadata": {},
   "outputs": [
    {
     "data": {
      "text/plain": [
       "<BarContainer object of 5 artists>"
      ]
     },
     "execution_count": 76,
     "metadata": {},
     "output_type": "execute_result"
    },
    {
     "data": {
      "image/png": "[encoded data removed]",
      "text/plain": [
       "<Figure size 432x288 with 1 Axes>"
      ]
     },
     "metadata": {
      "needs_background": "light"
     },
     "output_type": "display_data"
    }
   ],
   "source": [
    "plt.bar(df_train['Bsmt Exposure'].value_counts().index, df_train.groupby('Bsmt Exposure').mean()['SalePrice'])"
   ]
  },
  {
   "cell_type": "code",
   "execution_count": 77,
   "id": "0c6472bd",
   "metadata": {},
   "outputs": [],
   "source": [
    "df_train['Bsmt Exposure'] = df_train['Bsmt Exposure'].map(lambda x: 1 if x in ['Av'] else 0)\n",
    "df_test['Bsmt Exposure'] = df_test['Bsmt Exposure'].map(lambda x: 1 if x in ['Av'] else 0)"
   ]
  },
  {
   "cell_type": "code",
   "execution_count": 78,
   "id": "ed5cb9cc",
   "metadata": {},
   "outputs": [
    {
     "data": {
      "text/plain": [
       "<BarContainer object of 6 artists>"
      ]
     },
     "execution_count": 78,
     "metadata": {},
     "output_type": "execute_result"
    },
    {
     "data": {
      "image/png": "[encoded data removed]",
      "text/plain": [
       "<Figure size 432x288 with 1 Axes>"
      ]
     },
     "metadata": {
      "needs_background": "light"
     },
     "output_type": "display_data"
    }
   ],
   "source": [
    "plt.bar(df_train['Bsmt Cond'].value_counts().index, df_train.groupby('Bsmt Cond').mean()['SalePrice'])"
   ]
  },
  {
   "cell_type": "code",
   "execution_count": 79,
   "id": "3669c944",
   "metadata": {},
   "outputs": [],
   "source": [
    "df_train['Bsmt Cond'] = df_train['Bsmt Cond'].map(lambda x: 1 if x in ['TA','Fa','Ex'] else 0)\n",
    "df_test['Bsmt Cond'] = df_test['Bsmt Cond'].map(lambda x: 1 if x in ['TA','Fa','Ex'] else 0)"
   ]
  },
  {
   "cell_type": "code",
   "execution_count": 80,
   "id": "394461f0",
   "metadata": {},
   "outputs": [
    {
     "data": {
      "text/plain": [
       "<BarContainer object of 6 artists>"
      ]
     },
     "execution_count": 80,
     "metadata": {},
     "output_type": "execute_result"
    },
    {
     "data": {
      "image/png": "[encoded data removed]",
      "text/plain": [
       "<Figure size 432x288 with 1 Axes>"
      ]
     },
     "metadata": {
      "needs_background": "light"
     },
     "output_type": "display_data"
    }
   ],
   "source": [
    "plt.bar(df_train['Bsmt Qual'].value_counts().index, df_train.groupby('Bsmt Qual').mean()['SalePrice'])"
   ]
  },
  {
   "cell_type": "code",
   "execution_count": 81,
   "id": "43d82089",
   "metadata": {},
   "outputs": [],
   "source": [
    "df_train['Bsmt Qual'] = df_train['Bsmt Qual'].map(lambda x: 1 if x in ['TA'] else 0)\n",
    "df_test['Bsmt Qual'] = df_test['Bsmt Qual'].map(lambda x: 1 if x in ['TA'] else 0)"
   ]
  },
  {
   "cell_type": "code",
   "execution_count": 82,
   "id": "879103b0",
   "metadata": {},
   "outputs": [
    {
     "data": {
      "text/html": [
       "<div>\n",
       "<style scoped>\n",
       "    .dataframe tbody tr th:only-of-type {\n",
       "        vertical-align: middle;\n",
       "    }\n",
       "\n",
       "    .dataframe tbody tr th {\n",
       "        vertical-align: top;\n",
       "    }\n",
       "\n",
       "    .dataframe thead th {\n",
       "        text-align: right;\n",
       "    }\n",
       "</style>\n",
       "<table border=\"1\" class=\"dataframe\">\n",
       "  <thead>\n",
       "    <tr style=\"text-align: right;\">\n",
       "      <th></th>\n",
       "      <th>Id</th>\n",
       "      <th>PID</th>\n",
       "      <th>MS SubClass</th>\n",
       "      <th>MS Zoning</th>\n",
       "      <th>Lot Frontage</th>\n",
       "      <th>Lot Area</th>\n",
       "      <th>Street</th>\n",
       "      <th>Lot Shape</th>\n",
       "      <th>Land Contour</th>\n",
       "      <th>Utilities</th>\n",
       "      <th>...</th>\n",
       "      <th>Open Porch SF</th>\n",
       "      <th>Enclosed Porch</th>\n",
       "      <th>3Ssn Porch</th>\n",
       "      <th>Screen Porch</th>\n",
       "      <th>Pool Area</th>\n",
       "      <th>Misc Val</th>\n",
       "      <th>Mo Sold</th>\n",
       "      <th>Yr Sold</th>\n",
       "      <th>Sale Type</th>\n",
       "      <th>SalePrice</th>\n",
       "    </tr>\n",
       "  </thead>\n",
       "  <tbody>\n",
       "    <tr>\n",
       "      <th>0</th>\n",
       "      <td>109</td>\n",
       "      <td>533352170</td>\n",
       "      <td>60</td>\n",
       "      <td>RL</td>\n",
       "      <td>68.0</td>\n",
       "      <td>13517</td>\n",
       "      <td>0</td>\n",
       "      <td>IR1</td>\n",
       "      <td>Lvl</td>\n",
       "      <td>AllPub</td>\n",
       "      <td>...</td>\n",
       "      <td>44</td>\n",
       "      <td>0</td>\n",
       "      <td>0</td>\n",
       "      <td>0</td>\n",
       "      <td>0</td>\n",
       "      <td>0</td>\n",
       "      <td>3</td>\n",
       "      <td>2010</td>\n",
       "      <td>WD</td>\n",
       "      <td>130500</td>\n",
       "    </tr>\n",
       "    <tr>\n",
       "      <th>1</th>\n",
       "      <td>544</td>\n",
       "      <td>531379050</td>\n",
       "      <td>60</td>\n",
       "      <td>RL</td>\n",
       "      <td>43.0</td>\n",
       "      <td>11492</td>\n",
       "      <td>0</td>\n",
       "      <td>IR1</td>\n",
       "      <td>Lvl</td>\n",
       "      <td>AllPub</td>\n",
       "      <td>...</td>\n",
       "      <td>74</td>\n",
       "      <td>0</td>\n",
       "      <td>0</td>\n",
       "      <td>0</td>\n",
       "      <td>0</td>\n",
       "      <td>0</td>\n",
       "      <td>4</td>\n",
       "      <td>2009</td>\n",
       "      <td>WD</td>\n",
       "      <td>220000</td>\n",
       "    </tr>\n",
       "    <tr>\n",
       "      <th>2</th>\n",
       "      <td>153</td>\n",
       "      <td>535304180</td>\n",
       "      <td>20</td>\n",
       "      <td>RL</td>\n",
       "      <td>68.0</td>\n",
       "      <td>7922</td>\n",
       "      <td>0</td>\n",
       "      <td>Reg</td>\n",
       "      <td>Lvl</td>\n",
       "      <td>AllPub</td>\n",
       "      <td>...</td>\n",
       "      <td>52</td>\n",
       "      <td>0</td>\n",
       "      <td>0</td>\n",
       "      <td>0</td>\n",
       "      <td>0</td>\n",
       "      <td>0</td>\n",
       "      <td>1</td>\n",
       "      <td>2010</td>\n",
       "      <td>WD</td>\n",
       "      <td>109000</td>\n",
       "    </tr>\n",
       "    <tr>\n",
       "      <th>3</th>\n",
       "      <td>318</td>\n",
       "      <td>916386060</td>\n",
       "      <td>60</td>\n",
       "      <td>RL</td>\n",
       "      <td>73.0</td>\n",
       "      <td>9802</td>\n",
       "      <td>0</td>\n",
       "      <td>Reg</td>\n",
       "      <td>Lvl</td>\n",
       "      <td>AllPub</td>\n",
       "      <td>...</td>\n",
       "      <td>0</td>\n",
       "      <td>0</td>\n",
       "      <td>0</td>\n",
       "      <td>0</td>\n",
       "      <td>0</td>\n",
       "      <td>0</td>\n",
       "      <td>4</td>\n",
       "      <td>2010</td>\n",
       "      <td>WD</td>\n",
       "      <td>174000</td>\n",
       "    </tr>\n",
       "    <tr>\n",
       "      <th>4</th>\n",
       "      <td>255</td>\n",
       "      <td>906425045</td>\n",
       "      <td>50</td>\n",
       "      <td>RL</td>\n",
       "      <td>82.0</td>\n",
       "      <td>14235</td>\n",
       "      <td>0</td>\n",
       "      <td>IR1</td>\n",
       "      <td>Lvl</td>\n",
       "      <td>AllPub</td>\n",
       "      <td>...</td>\n",
       "      <td>59</td>\n",
       "      <td>0</td>\n",
       "      <td>0</td>\n",
       "      <td>0</td>\n",
       "      <td>0</td>\n",
       "      <td>0</td>\n",
       "      <td>3</td>\n",
       "      <td>2010</td>\n",
       "      <td>WD</td>\n",
       "      <td>138500</td>\n",
       "    </tr>\n",
       "  </tbody>\n",
       "</table>\n",
       "<p>5 rows × 76 columns</p>\n",
       "</div>"
      ],
      "text/plain": [
       "    Id        PID  MS SubClass MS Zoning  Lot Frontage  Lot Area  Street  \\\n",
       "0  109  533352170           60        RL          68.0     13517       0   \n",
       "1  544  531379050           60        RL          43.0     11492       0   \n",
       "2  153  535304180           20        RL          68.0      7922       0   \n",
       "3  318  916386060           60        RL          73.0      9802       0   \n",
       "4  255  906425045           50        RL          82.0     14235       0   \n",
       "\n",
       "  Lot Shape Land Contour Utilities  ... Open Porch SF Enclosed Porch  \\\n",
       "0       IR1          Lvl    AllPub  ...            44              0   \n",
       "1       IR1          Lvl    AllPub  ...            74              0   \n",
       "2       Reg          Lvl    AllPub  ...            52              0   \n",
       "3       Reg          Lvl    AllPub  ...             0              0   \n",
       "4       IR1          Lvl    AllPub  ...            59              0   \n",
       "\n",
       "  3Ssn Porch  Screen Porch  Pool Area  Misc Val Mo Sold  Yr Sold  Sale Type  \\\n",
       "0          0             0          0         0       3     2010        WD    \n",
       "1          0             0          0         0       4     2009        WD    \n",
       "2          0             0          0         0       1     2010        WD    \n",
       "3          0             0          0         0       4     2010        WD    \n",
       "4          0             0          0         0       3     2010        WD    \n",
       "\n",
       "   SalePrice  \n",
       "0     130500  \n",
       "1     220000  \n",
       "2     109000  \n",
       "3     174000  \n",
       "4     138500  \n",
       "\n",
       "[5 rows x 76 columns]"
      ]
     },
     "execution_count": 82,
     "metadata": {},
     "output_type": "execute_result"
    }
   ],
   "source": [
    "df_train.head()"
   ]
  },
  {
   "cell_type": "code",
   "execution_count": 83,
   "id": "43b77cd1",
   "metadata": {},
   "outputs": [],
   "source": [
    "df_train.drop('Utilities',axis=1,inplace=True)"
   ]
  },
  {
   "cell_type": "code",
   "execution_count": 84,
   "id": "71f6e429",
   "metadata": {},
   "outputs": [],
   "source": [
    "df_test.drop('Utilities',axis=1,inplace=True)"
   ]
  },
  {
   "cell_type": "code",
   "execution_count": 85,
   "id": "7eafe240",
   "metadata": {},
   "outputs": [],
   "source": [
    "df_train.drop('Paved Drive',axis=1,inplace=True)\n",
    "df_test.drop('Paved Drive',axis=1,inplace=True)"
   ]
  },
  {
   "cell_type": "code",
   "execution_count": 86,
   "id": "405e9676",
   "metadata": {},
   "outputs": [],
   "source": [
    "df_train = pd.concat([df_train,df_train_paved,df_train_utilities],axis=1)\n",
    "df_test = pd.concat([df_test,df_test_paved,df_test_utilities],axis=1)"
   ]
  },
  {
   "cell_type": "code",
   "execution_count": 87,
   "id": "aef0d3d9",
   "metadata": {},
   "outputs": [
    {
     "data": {
      "text/html": [
       "<div>\n",
       "<style scoped>\n",
       "    .dataframe tbody tr th:only-of-type {\n",
       "        vertical-align: middle;\n",
       "    }\n",
       "\n",
       "    .dataframe tbody tr th {\n",
       "        vertical-align: top;\n",
       "    }\n",
       "\n",
       "    .dataframe thead th {\n",
       "        text-align: right;\n",
       "    }\n",
       "</style>\n",
       "<table border=\"1\" class=\"dataframe\">\n",
       "  <thead>\n",
       "    <tr style=\"text-align: right;\">\n",
       "      <th></th>\n",
       "      <th>Id</th>\n",
       "      <th>PID</th>\n",
       "      <th>MS SubClass</th>\n",
       "      <th>MS Zoning</th>\n",
       "      <th>Lot Frontage</th>\n",
       "      <th>Lot Area</th>\n",
       "      <th>Street</th>\n",
       "      <th>Lot Shape</th>\n",
       "      <th>Land Contour</th>\n",
       "      <th>Lot Config</th>\n",
       "      <th>...</th>\n",
       "      <th>Pool Area</th>\n",
       "      <th>Misc Val</th>\n",
       "      <th>Mo Sold</th>\n",
       "      <th>Yr Sold</th>\n",
       "      <th>Sale Type</th>\n",
       "      <th>SalePrice</th>\n",
       "      <th>P</th>\n",
       "      <th>Y</th>\n",
       "      <th>NoSeWa</th>\n",
       "      <th>NoSewr</th>\n",
       "    </tr>\n",
       "  </thead>\n",
       "  <tbody>\n",
       "    <tr>\n",
       "      <th>0</th>\n",
       "      <td>109</td>\n",
       "      <td>533352170</td>\n",
       "      <td>60</td>\n",
       "      <td>RL</td>\n",
       "      <td>68.0</td>\n",
       "      <td>13517</td>\n",
       "      <td>0</td>\n",
       "      <td>IR1</td>\n",
       "      <td>Lvl</td>\n",
       "      <td>CulDSac</td>\n",
       "      <td>...</td>\n",
       "      <td>0</td>\n",
       "      <td>0</td>\n",
       "      <td>3</td>\n",
       "      <td>2010</td>\n",
       "      <td>WD</td>\n",
       "      <td>130500</td>\n",
       "      <td>0</td>\n",
       "      <td>1</td>\n",
       "      <td>0</td>\n",
       "      <td>0</td>\n",
       "    </tr>\n",
       "    <tr>\n",
       "      <th>1</th>\n",
       "      <td>544</td>\n",
       "      <td>531379050</td>\n",
       "      <td>60</td>\n",
       "      <td>RL</td>\n",
       "      <td>43.0</td>\n",
       "      <td>11492</td>\n",
       "      <td>0</td>\n",
       "      <td>IR1</td>\n",
       "      <td>Lvl</td>\n",
       "      <td>CulDSac</td>\n",
       "      <td>...</td>\n",
       "      <td>0</td>\n",
       "      <td>0</td>\n",
       "      <td>4</td>\n",
       "      <td>2009</td>\n",
       "      <td>WD</td>\n",
       "      <td>220000</td>\n",
       "      <td>0</td>\n",
       "      <td>1</td>\n",
       "      <td>0</td>\n",
       "      <td>0</td>\n",
       "    </tr>\n",
       "    <tr>\n",
       "      <th>2</th>\n",
       "      <td>153</td>\n",
       "      <td>535304180</td>\n",
       "      <td>20</td>\n",
       "      <td>RL</td>\n",
       "      <td>68.0</td>\n",
       "      <td>7922</td>\n",
       "      <td>0</td>\n",
       "      <td>Reg</td>\n",
       "      <td>Lvl</td>\n",
       "      <td>Inside</td>\n",
       "      <td>...</td>\n",
       "      <td>0</td>\n",
       "      <td>0</td>\n",
       "      <td>1</td>\n",
       "      <td>2010</td>\n",
       "      <td>WD</td>\n",
       "      <td>109000</td>\n",
       "      <td>0</td>\n",
       "      <td>1</td>\n",
       "      <td>0</td>\n",
       "      <td>0</td>\n",
       "    </tr>\n",
       "    <tr>\n",
       "      <th>3</th>\n",
       "      <td>318</td>\n",
       "      <td>916386060</td>\n",
       "      <td>60</td>\n",
       "      <td>RL</td>\n",
       "      <td>73.0</td>\n",
       "      <td>9802</td>\n",
       "      <td>0</td>\n",
       "      <td>Reg</td>\n",
       "      <td>Lvl</td>\n",
       "      <td>Inside</td>\n",
       "      <td>...</td>\n",
       "      <td>0</td>\n",
       "      <td>0</td>\n",
       "      <td>4</td>\n",
       "      <td>2010</td>\n",
       "      <td>WD</td>\n",
       "      <td>174000</td>\n",
       "      <td>0</td>\n",
       "      <td>1</td>\n",
       "      <td>0</td>\n",
       "      <td>0</td>\n",
       "    </tr>\n",
       "    <tr>\n",
       "      <th>4</th>\n",
       "      <td>255</td>\n",
       "      <td>906425045</td>\n",
       "      <td>50</td>\n",
       "      <td>RL</td>\n",
       "      <td>82.0</td>\n",
       "      <td>14235</td>\n",
       "      <td>0</td>\n",
       "      <td>IR1</td>\n",
       "      <td>Lvl</td>\n",
       "      <td>Inside</td>\n",
       "      <td>...</td>\n",
       "      <td>0</td>\n",
       "      <td>0</td>\n",
       "      <td>3</td>\n",
       "      <td>2010</td>\n",
       "      <td>WD</td>\n",
       "      <td>138500</td>\n",
       "      <td>0</td>\n",
       "      <td>0</td>\n",
       "      <td>0</td>\n",
       "      <td>0</td>\n",
       "    </tr>\n",
       "  </tbody>\n",
       "</table>\n",
       "<p>5 rows × 78 columns</p>\n",
       "</div>"
      ],
      "text/plain": [
       "    Id        PID  MS SubClass MS Zoning  Lot Frontage  Lot Area  Street  \\\n",
       "0  109  533352170           60        RL          68.0     13517       0   \n",
       "1  544  531379050           60        RL          43.0     11492       0   \n",
       "2  153  535304180           20        RL          68.0      7922       0   \n",
       "3  318  916386060           60        RL          73.0      9802       0   \n",
       "4  255  906425045           50        RL          82.0     14235       0   \n",
       "\n",
       "  Lot Shape Land Contour Lot Config  ... Pool Area Misc Val  Mo Sold  Yr Sold  \\\n",
       "0       IR1          Lvl    CulDSac  ...         0        0        3     2010   \n",
       "1       IR1          Lvl    CulDSac  ...         0        0        4     2009   \n",
       "2       Reg          Lvl     Inside  ...         0        0        1     2010   \n",
       "3       Reg          Lvl     Inside  ...         0        0        4     2010   \n",
       "4       IR1          Lvl     Inside  ...         0        0        3     2010   \n",
       "\n",
       "   Sale Type SalePrice  P  Y  NoSeWa  NoSewr  \n",
       "0        WD     130500  0  1       0       0  \n",
       "1        WD     220000  0  1       0       0  \n",
       "2        WD     109000  0  1       0       0  \n",
       "3        WD     174000  0  1       0       0  \n",
       "4        WD     138500  0  0       0       0  \n",
       "\n",
       "[5 rows x 78 columns]"
      ]
     },
     "execution_count": 87,
     "metadata": {},
     "output_type": "execute_result"
    }
   ],
   "source": [
    "df_train.head()"
   ]
  },
  {
   "cell_type": "code",
   "execution_count": 88,
   "id": "bfb6e136",
   "metadata": {},
   "outputs": [
    {
     "data": {
      "text/html": [
       "<div>\n",
       "<style scoped>\n",
       "    .dataframe tbody tr th:only-of-type {\n",
       "        vertical-align: middle;\n",
       "    }\n",
       "\n",
       "    .dataframe tbody tr th {\n",
       "        vertical-align: top;\n",
       "    }\n",
       "\n",
       "    .dataframe thead th {\n",
       "        text-align: right;\n",
       "    }\n",
       "</style>\n",
       "<table border=\"1\" class=\"dataframe\">\n",
       "  <thead>\n",
       "    <tr style=\"text-align: right;\">\n",
       "      <th></th>\n",
       "      <th>Id</th>\n",
       "      <th>PID</th>\n",
       "      <th>MS SubClass</th>\n",
       "      <th>MS Zoning</th>\n",
       "      <th>Lot Frontage</th>\n",
       "      <th>Lot Area</th>\n",
       "      <th>Street</th>\n",
       "      <th>Lot Shape</th>\n",
       "      <th>Land Contour</th>\n",
       "      <th>Lot Config</th>\n",
       "      <th>...</th>\n",
       "      <th>Screen Porch</th>\n",
       "      <th>Pool Area</th>\n",
       "      <th>Misc Val</th>\n",
       "      <th>Mo Sold</th>\n",
       "      <th>Yr Sold</th>\n",
       "      <th>Sale Type</th>\n",
       "      <th>P</th>\n",
       "      <th>Y</th>\n",
       "      <th>NoSeWa</th>\n",
       "      <th>NoSewr</th>\n",
       "    </tr>\n",
       "  </thead>\n",
       "  <tbody>\n",
       "    <tr>\n",
       "      <th>0</th>\n",
       "      <td>2658</td>\n",
       "      <td>902301120</td>\n",
       "      <td>190</td>\n",
       "      <td>RM</td>\n",
       "      <td>69.0</td>\n",
       "      <td>9142</td>\n",
       "      <td>0</td>\n",
       "      <td>Reg</td>\n",
       "      <td>Lvl</td>\n",
       "      <td>Inside</td>\n",
       "      <td>...</td>\n",
       "      <td>0</td>\n",
       "      <td>0</td>\n",
       "      <td>0</td>\n",
       "      <td>4</td>\n",
       "      <td>2006</td>\n",
       "      <td>WD</td>\n",
       "      <td>0</td>\n",
       "      <td>1</td>\n",
       "      <td>0.0</td>\n",
       "      <td>0</td>\n",
       "    </tr>\n",
       "    <tr>\n",
       "      <th>1</th>\n",
       "      <td>2718</td>\n",
       "      <td>905108090</td>\n",
       "      <td>90</td>\n",
       "      <td>RL</td>\n",
       "      <td>68.0</td>\n",
       "      <td>9662</td>\n",
       "      <td>0</td>\n",
       "      <td>IR1</td>\n",
       "      <td>Lvl</td>\n",
       "      <td>Inside</td>\n",
       "      <td>...</td>\n",
       "      <td>0</td>\n",
       "      <td>0</td>\n",
       "      <td>0</td>\n",
       "      <td>8</td>\n",
       "      <td>2006</td>\n",
       "      <td>WD</td>\n",
       "      <td>0</td>\n",
       "      <td>1</td>\n",
       "      <td>0.0</td>\n",
       "      <td>0</td>\n",
       "    </tr>\n",
       "    <tr>\n",
       "      <th>2</th>\n",
       "      <td>2414</td>\n",
       "      <td>528218130</td>\n",
       "      <td>60</td>\n",
       "      <td>RL</td>\n",
       "      <td>58.0</td>\n",
       "      <td>17104</td>\n",
       "      <td>0</td>\n",
       "      <td>IR1</td>\n",
       "      <td>Lvl</td>\n",
       "      <td>Inside</td>\n",
       "      <td>...</td>\n",
       "      <td>0</td>\n",
       "      <td>0</td>\n",
       "      <td>0</td>\n",
       "      <td>9</td>\n",
       "      <td>2006</td>\n",
       "      <td>New</td>\n",
       "      <td>0</td>\n",
       "      <td>1</td>\n",
       "      <td>0.0</td>\n",
       "      <td>0</td>\n",
       "    </tr>\n",
       "    <tr>\n",
       "      <th>3</th>\n",
       "      <td>1989</td>\n",
       "      <td>902207150</td>\n",
       "      <td>30</td>\n",
       "      <td>RM</td>\n",
       "      <td>60.0</td>\n",
       "      <td>8520</td>\n",
       "      <td>0</td>\n",
       "      <td>Reg</td>\n",
       "      <td>Lvl</td>\n",
       "      <td>Inside</td>\n",
       "      <td>...</td>\n",
       "      <td>0</td>\n",
       "      <td>0</td>\n",
       "      <td>0</td>\n",
       "      <td>7</td>\n",
       "      <td>2007</td>\n",
       "      <td>WD</td>\n",
       "      <td>0</td>\n",
       "      <td>0</td>\n",
       "      <td>0.0</td>\n",
       "      <td>0</td>\n",
       "    </tr>\n",
       "    <tr>\n",
       "      <th>4</th>\n",
       "      <td>625</td>\n",
       "      <td>535105100</td>\n",
       "      <td>20</td>\n",
       "      <td>RL</td>\n",
       "      <td>68.0</td>\n",
       "      <td>9500</td>\n",
       "      <td>0</td>\n",
       "      <td>IR1</td>\n",
       "      <td>Lvl</td>\n",
       "      <td>Inside</td>\n",
       "      <td>...</td>\n",
       "      <td>185</td>\n",
       "      <td>0</td>\n",
       "      <td>0</td>\n",
       "      <td>7</td>\n",
       "      <td>2009</td>\n",
       "      <td>WD</td>\n",
       "      <td>0</td>\n",
       "      <td>1</td>\n",
       "      <td>0.0</td>\n",
       "      <td>0</td>\n",
       "    </tr>\n",
       "  </tbody>\n",
       "</table>\n",
       "<p>5 rows × 77 columns</p>\n",
       "</div>"
      ],
      "text/plain": [
       "     Id        PID  MS SubClass MS Zoning  Lot Frontage  Lot Area  Street  \\\n",
       "0  2658  902301120          190        RM          69.0      9142       0   \n",
       "1  2718  905108090           90        RL          68.0      9662       0   \n",
       "2  2414  528218130           60        RL          58.0     17104       0   \n",
       "3  1989  902207150           30        RM          60.0      8520       0   \n",
       "4   625  535105100           20        RL          68.0      9500       0   \n",
       "\n",
       "  Lot Shape Land Contour Lot Config  ... Screen Porch Pool Area  Misc Val  \\\n",
       "0       Reg          Lvl     Inside  ...            0         0         0   \n",
       "1       IR1          Lvl     Inside  ...            0         0         0   \n",
       "2       IR1          Lvl     Inside  ...            0         0         0   \n",
       "3       Reg          Lvl     Inside  ...            0         0         0   \n",
       "4       IR1          Lvl     Inside  ...          185         0         0   \n",
       "\n",
       "   Mo Sold  Yr Sold Sale Type  P  Y  NoSeWa  NoSewr  \n",
       "0        4     2006       WD   0  1     0.0       0  \n",
       "1        8     2006       WD   0  1     0.0       0  \n",
       "2        9     2006       New  0  1     0.0       0  \n",
       "3        7     2007       WD   0  0     0.0       0  \n",
       "4        7     2009       WD   0  1     0.0       0  \n",
       "\n",
       "[5 rows x 77 columns]"
      ]
     },
     "execution_count": 88,
     "metadata": {},
     "output_type": "execute_result"
    }
   ],
   "source": [
    "df_test.head()"
   ]
  },
  {
   "cell_type": "code",
   "execution_count": 89,
   "id": "b530b237",
   "metadata": {},
   "outputs": [
    {
     "data": {
      "text/plain": [
       "1    1910\n",
       "0     141\n",
       "Name: Central Air, dtype: int64"
      ]
     },
     "execution_count": 89,
     "metadata": {},
     "output_type": "execute_result"
    }
   ],
   "source": [
    "df_train['Central Air'].value_counts()"
   ]
  },
  {
   "cell_type": "code",
   "execution_count": 90,
   "id": "2f0f1084",
   "metadata": {},
   "outputs": [
    {
     "data": {
      "text/plain": [
       "1    823\n",
       "0     55\n",
       "Name: Central Air, dtype: int64"
      ]
     },
     "execution_count": 90,
     "metadata": {},
     "output_type": "execute_result"
    }
   ],
   "source": [
    "df_test['Central Air'].value_counts()"
   ]
  },
  {
   "cell_type": "code",
   "execution_count": 91,
   "id": "86cd573d",
   "metadata": {},
   "outputs": [],
   "source": [
    "df_train.to_csv('../datasets/complete_clean_train_extra.csv',index=False)"
   ]
  },
  {
   "cell_type": "code",
   "execution_count": 92,
   "id": "51a62a05",
   "metadata": {},
   "outputs": [],
   "source": [
    "df_test.to_csv('../datasets/complete_clean_test_extra.csv',index=False)"
   ]
  },
  {
   "cell_type": "code",
   "execution_count": null,
   "id": "072fb2cd",
   "metadata": {},
   "outputs": [],
   "source": []
  }
 ],
 "metadata": {
  "kernelspec": {
   "display_name": "Python 3",
   "language": "python",
   "name": "python3"
  },
  "language_info": {
   "codemirror_mode": {
    "name": "ipython",
    "version": 3
   },
   "file_extension": ".py",
   "mimetype": "text/x-python",
   "name": "python",
   "nbconvert_exporter": "python",
   "pygments_lexer": "ipython3",
   "version": "3.8.8"
  }
 },
 "nbformat": 4,
 "nbformat_minor": 5
}
