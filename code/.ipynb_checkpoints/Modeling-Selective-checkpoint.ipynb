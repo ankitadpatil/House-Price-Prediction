{
 "cells": [
  {
   "cell_type": "code",
   "execution_count": 1,
   "id": "54b25647",
   "metadata": {},
   "outputs": [],
   "source": [
    "import numpy as np\n",
    "import pandas as pd\n",
    "import matplotlib.pyplot as plt\n",
    "import seaborn as sns\n",
    "import missingno as msno"
   ]
  },
  {
   "cell_type": "code",
   "execution_count": 2,
   "id": "af16eeed",
   "metadata": {},
   "outputs": [],
   "source": [
    "from sklearn.linear_model import LinearRegression, RidgeCV, Lasso, LassoCV\n",
    "from sklearn.model_selection import train_test_split,cross_val_score\n",
    "from sklearn.preprocessing import PolynomialFeatures, PowerTransformer, StandardScaler"
   ]
  },
  {
   "cell_type": "code",
   "execution_count": 3,
   "id": "5277fe2d",
   "metadata": {},
   "outputs": [],
   "source": [
    "df_train = pd.read_csv('../datasets/super_clean_train_final.csv')\n",
    "test = pd.read_csv('../datasets/super_clean_test_final.csv')"
   ]
  },
  {
   "cell_type": "code",
   "execution_count": 4,
   "id": "47b86e90",
   "metadata": {},
   "outputs": [
    {
     "data": {
      "text/plain": [
       "Id                      0\n",
       "Mas Vnr Type_Stone      0\n",
       "Exter Qual_Fa           0\n",
       "Exter Qual_Gd           0\n",
       "Exter Qual_TA           0\n",
       "                       ..\n",
       "Condition 1_Norm        0\n",
       "Condition 1_PosA        0\n",
       "Condition 1_PosN        0\n",
       "Neighborhood_NoRidge    0\n",
       "Sale Type_WD            0\n",
       "Length: 255, dtype: int64"
      ]
     },
     "execution_count": 4,
     "metadata": {},
     "output_type": "execute_result"
    }
   ],
   "source": [
    "df_train.isnull().sum().sort_values()"
   ]
  },
  {
   "cell_type": "code",
   "execution_count": 5,
   "id": "f667c9d4",
   "metadata": {},
   "outputs": [
    {
     "data": {
      "text/html": [
       "<div>\n",
       "<style scoped>\n",
       "    .dataframe tbody tr th:only-of-type {\n",
       "        vertical-align: middle;\n",
       "    }\n",
       "\n",
       "    .dataframe tbody tr th {\n",
       "        vertical-align: top;\n",
       "    }\n",
       "\n",
       "    .dataframe thead th {\n",
       "        text-align: right;\n",
       "    }\n",
       "</style>\n",
       "<table border=\"1\" class=\"dataframe\">\n",
       "  <thead>\n",
       "    <tr style=\"text-align: right;\">\n",
       "      <th></th>\n",
       "      <th>SalePrice</th>\n",
       "    </tr>\n",
       "  </thead>\n",
       "  <tbody>\n",
       "    <tr>\n",
       "      <th>Id</th>\n",
       "      <td>-0.051398</td>\n",
       "    </tr>\n",
       "    <tr>\n",
       "      <th>PID</th>\n",
       "      <td>-0.255052</td>\n",
       "    </tr>\n",
       "    <tr>\n",
       "      <th>MS SubClass</th>\n",
       "      <td>-0.087335</td>\n",
       "    </tr>\n",
       "    <tr>\n",
       "      <th>Lot Frontage</th>\n",
       "      <td>0.325129</td>\n",
       "    </tr>\n",
       "    <tr>\n",
       "      <th>Lot Area</th>\n",
       "      <td>0.340363</td>\n",
       "    </tr>\n",
       "    <tr>\n",
       "      <th>...</th>\n",
       "      <td>...</td>\n",
       "    </tr>\n",
       "    <tr>\n",
       "      <th>Sale Type_ConLw</th>\n",
       "      <td>-0.035479</td>\n",
       "    </tr>\n",
       "    <tr>\n",
       "      <th>Sale Type_New</th>\n",
       "      <td>0.358102</td>\n",
       "    </tr>\n",
       "    <tr>\n",
       "      <th>Sale Type_Oth</th>\n",
       "      <td>-0.030109</td>\n",
       "    </tr>\n",
       "    <tr>\n",
       "      <th>Sale Type_VWD</th>\n",
       "      <td>NaN</td>\n",
       "    </tr>\n",
       "    <tr>\n",
       "      <th>Sale Type_WD</th>\n",
       "      <td>-0.212542</td>\n",
       "    </tr>\n",
       "  </tbody>\n",
       "</table>\n",
       "<p>255 rows × 1 columns</p>\n",
       "</div>"
      ],
      "text/plain": [
       "                 SalePrice\n",
       "Id               -0.051398\n",
       "PID              -0.255052\n",
       "MS SubClass      -0.087335\n",
       "Lot Frontage      0.325129\n",
       "Lot Area          0.340363\n",
       "...                    ...\n",
       "Sale Type_ConLw  -0.035479\n",
       "Sale Type_New     0.358102\n",
       "Sale Type_Oth    -0.030109\n",
       "Sale Type_VWD          NaN\n",
       "Sale Type_WD     -0.212542\n",
       "\n",
       "[255 rows x 1 columns]"
      ]
     },
     "execution_count": 5,
     "metadata": {},
     "output_type": "execute_result"
    }
   ],
   "source": [
    "df_train.corr()[['SalePrice']]"
   ]
  },
  {
   "cell_type": "markdown",
   "id": "f61aa5a4",
   "metadata": {},
   "source": [
    "Some of the columns are dummy columns made from categorical features.  And some of these columns just contain zeros. When you have a column full of zeros, it is not possible to calculate correlation with other columns. That's why, 8 of columns from above have NaNs. "
   ]
  },
  {
   "cell_type": "code",
   "execution_count": 6,
   "id": "3599de90",
   "metadata": {},
   "outputs": [],
   "source": [
    "df_corr_train = pd.DataFrame(df_train.corr()[['SalePrice']].values,df_train.corr()[['SalePrice']].index, columns=['CorrCoefs'])"
   ]
  },
  {
   "cell_type": "code",
   "execution_count": 8,
   "id": "d24a9463",
   "metadata": {},
   "outputs": [],
   "source": [
    "df_corr_train.dropna(inplace=True)"
   ]
  },
  {
   "cell_type": "code",
   "execution_count": 9,
   "id": "3989305f",
   "metadata": {},
   "outputs": [
    {
     "data": {
      "text/html": [
       "<div>\n",
       "<style scoped>\n",
       "    .dataframe tbody tr th:only-of-type {\n",
       "        vertical-align: middle;\n",
       "    }\n",
       "\n",
       "    .dataframe tbody tr th {\n",
       "        vertical-align: top;\n",
       "    }\n",
       "\n",
       "    .dataframe thead th {\n",
       "        text-align: right;\n",
       "    }\n",
       "</style>\n",
       "<table border=\"1\" class=\"dataframe\">\n",
       "  <thead>\n",
       "    <tr style=\"text-align: right;\">\n",
       "      <th></th>\n",
       "      <th>CorrCoefs</th>\n",
       "    </tr>\n",
       "  </thead>\n",
       "  <tbody>\n",
       "    <tr>\n",
       "      <th>Id</th>\n",
       "      <td>-0.051398</td>\n",
       "    </tr>\n",
       "    <tr>\n",
       "      <th>PID</th>\n",
       "      <td>-0.255052</td>\n",
       "    </tr>\n",
       "    <tr>\n",
       "      <th>MS SubClass</th>\n",
       "      <td>-0.087335</td>\n",
       "    </tr>\n",
       "    <tr>\n",
       "      <th>Lot Frontage</th>\n",
       "      <td>0.325129</td>\n",
       "    </tr>\n",
       "    <tr>\n",
       "      <th>Lot Area</th>\n",
       "      <td>0.340363</td>\n",
       "    </tr>\n",
       "    <tr>\n",
       "      <th>...</th>\n",
       "      <td>...</td>\n",
       "    </tr>\n",
       "    <tr>\n",
       "      <th>Sale Type_ConLI</th>\n",
       "      <td>0.019588</td>\n",
       "    </tr>\n",
       "    <tr>\n",
       "      <th>Sale Type_ConLw</th>\n",
       "      <td>-0.035479</td>\n",
       "    </tr>\n",
       "    <tr>\n",
       "      <th>Sale Type_New</th>\n",
       "      <td>0.358102</td>\n",
       "    </tr>\n",
       "    <tr>\n",
       "      <th>Sale Type_Oth</th>\n",
       "      <td>-0.030109</td>\n",
       "    </tr>\n",
       "    <tr>\n",
       "      <th>Sale Type_WD</th>\n",
       "      <td>-0.212542</td>\n",
       "    </tr>\n",
       "  </tbody>\n",
       "</table>\n",
       "<p>247 rows × 1 columns</p>\n",
       "</div>"
      ],
      "text/plain": [
       "                 CorrCoefs\n",
       "Id               -0.051398\n",
       "PID              -0.255052\n",
       "MS SubClass      -0.087335\n",
       "Lot Frontage      0.325129\n",
       "Lot Area          0.340363\n",
       "...                    ...\n",
       "Sale Type_ConLI   0.019588\n",
       "Sale Type_ConLw  -0.035479\n",
       "Sale Type_New     0.358102\n",
       "Sale Type_Oth    -0.030109\n",
       "Sale Type_WD     -0.212542\n",
       "\n",
       "[247 rows x 1 columns]"
      ]
     },
     "execution_count": 9,
     "metadata": {},
     "output_type": "execute_result"
    }
   ],
   "source": [
    "df_corr_train"
   ]
  },
  {
   "cell_type": "code",
   "execution_count": 10,
   "id": "3e5cf870",
   "metadata": {},
   "outputs": [
    {
     "data": {
      "text/plain": [
       "['PID',\n",
       " 'MS SubClass',\n",
       " 'Lot Frontage',\n",
       " 'Lot Area',\n",
       " 'Overall Qual',\n",
       " 'Overall Cond',\n",
       " 'Year Built',\n",
       " 'Year Remod/Add',\n",
       " 'Mas Vnr Area',\n",
       " 'BsmtFin SF 1',\n",
       " 'BsmtFin SF 2',\n",
       " 'Bsmt Unf SF',\n",
       " 'Total Bsmt SF',\n",
       " '1st Flr SF',\n",
       " '2nd Flr SF',\n",
       " 'Low Qual Fin SF',\n",
       " 'Gr Liv Area',\n",
       " 'Bsmt Full Bath',\n",
       " 'Bsmt Half Bath',\n",
       " 'Full Bath',\n",
       " 'Half Bath',\n",
       " 'Bedroom AbvGr',\n",
       " 'Kitchen AbvGr',\n",
       " 'TotRms AbvGrd',\n",
       " 'Fireplaces',\n",
       " 'Garage Yr Blt',\n",
       " 'Garage Cars',\n",
       " 'Garage Area',\n",
       " 'Wood Deck SF',\n",
       " 'Open Porch SF',\n",
       " 'Enclosed Porch',\n",
       " '3Ssn Porch',\n",
       " 'Screen Porch',\n",
       " 'Pool Area',\n",
       " 'Misc Val',\n",
       " 'Mo Sold',\n",
       " 'Yr Sold',\n",
       " 'Age',\n",
       " 'Remodel',\n",
       " 'MS Zoning_C (all)',\n",
       " 'MS Zoning_FV',\n",
       " 'MS Zoning_I (all)',\n",
       " 'MS Zoning_RH',\n",
       " 'MS Zoning_RL',\n",
       " 'MS Zoning_RM',\n",
       " 'Street_Pave',\n",
       " 'Lot Shape_IR2',\n",
       " 'Lot Shape_IR3',\n",
       " 'Lot Shape_Reg',\n",
       " 'Land Contour_HLS',\n",
       " 'Land Contour_Low',\n",
       " 'Land Contour_Lvl',\n",
       " 'Utilities_NoSeWa',\n",
       " 'Utilities_NoSewr',\n",
       " 'Lot Config_CulDSac',\n",
       " 'Lot Config_FR2',\n",
       " 'Lot Config_FR3',\n",
       " 'Lot Config_Inside',\n",
       " 'Land Slope_Mod',\n",
       " 'Land Slope_Sev',\n",
       " 'Neighborhood_Blueste',\n",
       " 'Neighborhood_BrDale',\n",
       " 'Neighborhood_BrkSide',\n",
       " 'Neighborhood_ClearCr',\n",
       " 'Neighborhood_CollgCr',\n",
       " 'Neighborhood_Crawfor',\n",
       " 'Neighborhood_Edwards',\n",
       " 'Neighborhood_Gilbert',\n",
       " 'Neighborhood_Greens',\n",
       " 'Neighborhood_GrnHill',\n",
       " 'Neighborhood_IDOTRR',\n",
       " 'Neighborhood_Landmrk',\n",
       " 'Neighborhood_MeadowV',\n",
       " 'Neighborhood_Mitchel',\n",
       " 'Neighborhood_NAmes',\n",
       " 'Neighborhood_NPkVill',\n",
       " 'Neighborhood_NWAmes',\n",
       " 'Neighborhood_NoRidge',\n",
       " 'Neighborhood_NridgHt',\n",
       " 'Neighborhood_OldTown',\n",
       " 'Neighborhood_SWISU',\n",
       " 'Neighborhood_Sawyer',\n",
       " 'Neighborhood_SawyerW',\n",
       " 'Neighborhood_Somerst',\n",
       " 'Neighborhood_StoneBr',\n",
       " 'Neighborhood_Timber',\n",
       " 'Neighborhood_Veenker',\n",
       " 'Condition 1_Feedr',\n",
       " 'Condition 1_Norm',\n",
       " 'Condition 1_PosA',\n",
       " 'Condition 1_PosN',\n",
       " 'Condition 1_RRAe',\n",
       " 'Condition 1_RRAn',\n",
       " 'Condition 1_RRNe',\n",
       " 'Condition 1_RRNn',\n",
       " 'Condition 2_Feedr',\n",
       " 'Condition 2_Norm',\n",
       " 'Condition 2_PosA',\n",
       " 'Condition 2_PosN',\n",
       " 'Condition 2_RRAe',\n",
       " 'Condition 2_RRAn',\n",
       " 'Condition 2_RRNn',\n",
       " 'Bldg Type_2fmCon',\n",
       " 'Bldg Type_Duplex',\n",
       " 'Bldg Type_Twnhs',\n",
       " 'Bldg Type_TwnhsE',\n",
       " 'House Style_1.5Unf',\n",
       " 'House Style_1Story',\n",
       " 'House Style_2.5Fin',\n",
       " 'House Style_2.5Unf',\n",
       " 'House Style_2Story',\n",
       " 'House Style_SFoyer',\n",
       " 'House Style_SLvl',\n",
       " 'Roof Style_Gable',\n",
       " 'Roof Style_Gambrel',\n",
       " 'Roof Style_Hip',\n",
       " 'Roof Style_Mansard',\n",
       " 'Roof Style_Shed',\n",
       " 'Roof Matl_CompShg',\n",
       " 'Roof Matl_Membran',\n",
       " 'Roof Matl_Tar&Grv',\n",
       " 'Roof Matl_WdShake',\n",
       " 'Roof Matl_WdShngl',\n",
       " 'Exterior 1st_AsphShn',\n",
       " 'Exterior 1st_BrkComm',\n",
       " 'Exterior 1st_BrkFace',\n",
       " 'Exterior 1st_CBlock',\n",
       " 'Exterior 1st_CemntBd',\n",
       " 'Exterior 1st_HdBoard',\n",
       " 'Exterior 1st_ImStucc',\n",
       " 'Exterior 1st_MetalSd',\n",
       " 'Exterior 1st_Plywood',\n",
       " 'Exterior 1st_Stone',\n",
       " 'Exterior 1st_Stucco',\n",
       " 'Exterior 1st_VinylSd',\n",
       " 'Exterior 1st_Wd Sdng',\n",
       " 'Exterior 1st_WdShing',\n",
       " 'Exterior 2nd_AsphShn',\n",
       " 'Exterior 2nd_Brk Cmn',\n",
       " 'Exterior 2nd_BrkFace',\n",
       " 'Exterior 2nd_CBlock',\n",
       " 'Exterior 2nd_CmentBd',\n",
       " 'Exterior 2nd_HdBoard',\n",
       " 'Exterior 2nd_ImStucc',\n",
       " 'Exterior 2nd_MetalSd',\n",
       " 'Exterior 2nd_Plywood',\n",
       " 'Exterior 2nd_Stone',\n",
       " 'Exterior 2nd_Stucco',\n",
       " 'Exterior 2nd_VinylSd',\n",
       " 'Exterior 2nd_Wd Sdng',\n",
       " 'Exterior 2nd_Wd Shng',\n",
       " 'Mas Vnr Type_BrkFace',\n",
       " 'Mas Vnr Type_None',\n",
       " 'Mas Vnr Type_Stone',\n",
       " 'Exter Qual_Fa',\n",
       " 'Exter Qual_Gd',\n",
       " 'Exter Qual_TA',\n",
       " 'Exter Cond_Fa',\n",
       " 'Exter Cond_Gd',\n",
       " 'Exter Cond_Po',\n",
       " 'Exter Cond_TA',\n",
       " 'Foundation_CBlock',\n",
       " 'Foundation_PConc',\n",
       " 'Foundation_Slab',\n",
       " 'Foundation_Stone',\n",
       " 'Foundation_Wood',\n",
       " 'Bsmt Qual_Fa',\n",
       " 'Bsmt Qual_Gd',\n",
       " 'Bsmt Qual_NoB',\n",
       " 'Bsmt Qual_Po',\n",
       " 'Bsmt Qual_TA',\n",
       " 'Bsmt Cond_Fa',\n",
       " 'Bsmt Cond_Gd',\n",
       " 'Bsmt Cond_NoB',\n",
       " 'Bsmt Cond_Po',\n",
       " 'Bsmt Cond_TA',\n",
       " 'Bsmt Exposure_Gd',\n",
       " 'Bsmt Exposure_Mn',\n",
       " 'Bsmt Exposure_No',\n",
       " 'Bsmt Exposure_NoB',\n",
       " 'BsmtFin Type 1_BLQ',\n",
       " 'BsmtFin Type 1_GLQ',\n",
       " 'BsmtFin Type 1_LwQ',\n",
       " 'BsmtFin Type 1_NoB',\n",
       " 'BsmtFin Type 1_Rec',\n",
       " 'BsmtFin Type 1_Unf',\n",
       " 'BsmtFin Type 2_BLQ',\n",
       " 'BsmtFin Type 2_GLQ',\n",
       " 'BsmtFin Type 2_LwQ',\n",
       " 'BsmtFin Type 2_NoB',\n",
       " 'BsmtFin Type 2_Rec',\n",
       " 'BsmtFin Type 2_Unf',\n",
       " 'Heating_GasA',\n",
       " 'Heating_GasW',\n",
       " 'Heating_Grav',\n",
       " 'Heating_OthW',\n",
       " 'Heating_Wall',\n",
       " 'Heating QC_Fa',\n",
       " 'Heating QC_Gd',\n",
       " 'Heating QC_Po',\n",
       " 'Heating QC_TA',\n",
       " 'Central Air_Y',\n",
       " 'Electrical_FuseF',\n",
       " 'Electrical_FuseP',\n",
       " 'Electrical_Mix',\n",
       " 'Electrical_SBrkr',\n",
       " 'Kitchen Qual_Fa',\n",
       " 'Kitchen Qual_Gd',\n",
       " 'Kitchen Qual_TA',\n",
       " 'Functional_Maj2',\n",
       " 'Functional_Min1',\n",
       " 'Functional_Min2',\n",
       " 'Functional_Mod',\n",
       " 'Functional_Sal',\n",
       " 'Functional_Sev',\n",
       " 'Functional_Typ',\n",
       " 'Garage Type_Attchd',\n",
       " 'Garage Type_Basment',\n",
       " 'Garage Type_BuiltIn',\n",
       " 'Garage Type_CarPort',\n",
       " 'Garage Type_Detchd',\n",
       " 'Garage Type_NoG',\n",
       " 'Garage Finish_NoG',\n",
       " 'Garage Finish_RFn',\n",
       " 'Garage Finish_Unf',\n",
       " 'Garage Qual_Fa',\n",
       " 'Garage Qual_Gd',\n",
       " 'Garage Qual_NoG',\n",
       " 'Garage Qual_Po',\n",
       " 'Garage Qual_TA',\n",
       " 'Garage Cond_Fa',\n",
       " 'Garage Cond_Gd',\n",
       " 'Garage Cond_NoG',\n",
       " 'Garage Cond_Po',\n",
       " 'Garage Cond_TA',\n",
       " 'Paved Drive_P',\n",
       " 'Paved Drive_Y',\n",
       " 'Sale Type_CWD',\n",
       " 'Sale Type_Con',\n",
       " 'Sale Type_ConLD',\n",
       " 'Sale Type_ConLI',\n",
       " 'Sale Type_ConLw',\n",
       " 'Sale Type_New',\n",
       " 'Sale Type_Oth',\n",
       " 'Sale Type_WD ']"
      ]
     },
     "execution_count": 10,
     "metadata": {},
     "output_type": "execute_result"
    }
   ],
   "source": [
    "features = list(df_corr_train.drop(['SalePrice','Id']).index)\n",
    "features"
   ]
  },
  {
   "cell_type": "markdown",
   "id": "975d3b70",
   "metadata": {},
   "source": [
    "## Model Prep"
   ]
  },
  {
   "cell_type": "code",
   "execution_count": 11,
   "id": "fe05429b",
   "metadata": {},
   "outputs": [],
   "source": [
    "X = df_train[features]\n",
    "y = df_train['SalePrice']"
   ]
  },
  {
   "cell_type": "code",
   "execution_count": 12,
   "id": "e31e4e0c",
   "metadata": {},
   "outputs": [],
   "source": [
    "X_train, X_test, y_train, y_test = train_test_split(X,y,random_state=42)"
   ]
  },
  {
   "cell_type": "markdown",
   "id": "92a0e587",
   "metadata": {},
   "source": [
    "## Scaling the Data"
   ]
  },
  {
   "cell_type": "code",
   "execution_count": 13,
   "id": "b0b39af1",
   "metadata": {},
   "outputs": [],
   "source": [
    "ss = StandardScaler()"
   ]
  },
  {
   "cell_type": "code",
   "execution_count": 14,
   "id": "84b56203",
   "metadata": {},
   "outputs": [],
   "source": [
    "X_train_sc = ss.fit_transform(X_train)"
   ]
  },
  {
   "cell_type": "code",
   "execution_count": 15,
   "id": "1c790906",
   "metadata": {},
   "outputs": [],
   "source": [
    "X_test_sc = ss.transform(X_test)"
   ]
  },
  {
   "cell_type": "markdown",
   "id": "f62a7f23",
   "metadata": {},
   "source": [
    "## Power Transforming the y"
   ]
  },
  {
   "cell_type": "code",
   "execution_count": 16,
   "id": "172ea6a5",
   "metadata": {},
   "outputs": [],
   "source": [
    "pt = PowerTransformer()"
   ]
  },
  {
   "cell_type": "code",
   "execution_count": 17,
   "id": "cb2f2411",
   "metadata": {},
   "outputs": [],
   "source": [
    "y_train_pt = pt.fit_transform(y_train.to_frame())"
   ]
  },
  {
   "cell_type": "code",
   "execution_count": 28,
   "id": "80e98c87",
   "metadata": {},
   "outputs": [],
   "source": [
    "y_test_pt = pt.transform(y_test.to_frame())"
   ]
  },
  {
   "cell_type": "markdown",
   "id": "26d02070",
   "metadata": {},
   "source": [
    "## Instantiating the Model"
   ]
  },
  {
   "cell_type": "code",
   "execution_count": 18,
   "id": "f7639240",
   "metadata": {},
   "outputs": [],
   "source": [
    "lr = LinearRegression()"
   ]
  },
  {
   "cell_type": "code",
   "execution_count": 19,
   "id": "5045d3ab",
   "metadata": {},
   "outputs": [],
   "source": [
    "l_alphas = np.logspace(-3,0,100)"
   ]
  },
  {
   "cell_type": "code",
   "execution_count": 20,
   "id": "c5712759",
   "metadata": {},
   "outputs": [],
   "source": [
    "lasso_cv = LassoCV(alphas = l_alphas)"
   ]
  },
  {
   "cell_type": "code",
   "execution_count": 21,
   "id": "a95249be",
   "metadata": {},
   "outputs": [],
   "source": [
    "alphas = np.logspace(0,5,100)"
   ]
  },
  {
   "cell_type": "code",
   "execution_count": 22,
   "id": "521b0fb3",
   "metadata": {},
   "outputs": [],
   "source": [
    "ridge_cv = RidgeCV(alphas = alphas, cv=5)"
   ]
  },
  {
   "cell_type": "markdown",
   "id": "a820872e",
   "metadata": {},
   "source": [
    "## Model Validation"
   ]
  },
  {
   "cell_type": "code",
   "execution_count": 24,
   "id": "b57647b7",
   "metadata": {},
   "outputs": [
    {
     "data": {
      "text/plain": [
       "-9.717298264064689e+23"
      ]
     },
     "execution_count": 24,
     "metadata": {},
     "output_type": "execute_result"
    }
   ],
   "source": [
    "cross_val_score(lr,X_train_sc,y_train_pt).mean()"
   ]
  },
  {
   "cell_type": "code",
   "execution_count": 25,
   "id": "6bb75513",
   "metadata": {},
   "outputs": [
    {
     "name": "stderr",
     "output_type": "stream",
     "text": [
      "/Users/ankitapatil/opt/anaconda3/lib/python3.8/site-packages/sklearn/utils/validation.py:63: DataConversionWarning: A column-vector y was passed when a 1d array was expected. Please change the shape of y to (n_samples, ), for example using ravel().\n",
      "  return f(*args, **kwargs)\n",
      "/Users/ankitapatil/opt/anaconda3/lib/python3.8/site-packages/sklearn/utils/validation.py:63: DataConversionWarning: A column-vector y was passed when a 1d array was expected. Please change the shape of y to (n_samples, ), for example using ravel().\n",
      "  return f(*args, **kwargs)\n",
      "/Users/ankitapatil/opt/anaconda3/lib/python3.8/site-packages/sklearn/utils/validation.py:63: DataConversionWarning: A column-vector y was passed when a 1d array was expected. Please change the shape of y to (n_samples, ), for example using ravel().\n",
      "  return f(*args, **kwargs)\n",
      "/Users/ankitapatil/opt/anaconda3/lib/python3.8/site-packages/sklearn/utils/validation.py:63: DataConversionWarning: A column-vector y was passed when a 1d array was expected. Please change the shape of y to (n_samples, ), for example using ravel().\n",
      "  return f(*args, **kwargs)\n",
      "/Users/ankitapatil/opt/anaconda3/lib/python3.8/site-packages/sklearn/utils/validation.py:63: DataConversionWarning: A column-vector y was passed when a 1d array was expected. Please change the shape of y to (n_samples, ), for example using ravel().\n",
      "  return f(*args, **kwargs)\n"
     ]
    },
    {
     "data": {
      "text/plain": [
       "0.8595342827704613"
      ]
     },
     "execution_count": 25,
     "metadata": {},
     "output_type": "execute_result"
    }
   ],
   "source": [
    "cross_val_score(lasso_cv,X_train_sc,y_train_pt).mean()"
   ]
  },
  {
   "cell_type": "code",
   "execution_count": 27,
   "id": "2844fdb6",
   "metadata": {},
   "outputs": [
    {
     "data": {
      "text/plain": [
       "0.8654245398995457"
      ]
     },
     "execution_count": 27,
     "metadata": {},
     "output_type": "execute_result"
    }
   ],
   "source": [
    "cross_val_score(ridge_cv,X_train_sc,y_train_pt).mean()"
   ]
  },
  {
   "cell_type": "markdown",
   "id": "9c9a1f57",
   "metadata": {},
   "source": [
    "## Fitting the Model"
   ]
  },
  {
   "cell_type": "code",
   "execution_count": 29,
   "id": "929382c2",
   "metadata": {},
   "outputs": [
    {
     "data": {
      "text/plain": [
       "LinearRegression()"
      ]
     },
     "execution_count": 29,
     "metadata": {},
     "output_type": "execute_result"
    }
   ],
   "source": [
    "lr.fit(X_train_sc,y_train_pt)"
   ]
  },
  {
   "cell_type": "code",
   "execution_count": 30,
   "id": "6911ba63",
   "metadata": {},
   "outputs": [
    {
     "data": {
      "text/plain": [
       "0.9444935728629484"
      ]
     },
     "execution_count": 30,
     "metadata": {},
     "output_type": "execute_result"
    }
   ],
   "source": [
    "lr.score(X_train_sc,y_train_pt)"
   ]
  },
  {
   "cell_type": "code",
   "execution_count": 31,
   "id": "f7002d8c",
   "metadata": {},
   "outputs": [
    {
     "data": {
      "text/plain": [
       "-4.877035819592346e+18"
      ]
     },
     "execution_count": 31,
     "metadata": {},
     "output_type": "execute_result"
    }
   ],
   "source": [
    "lr.score(X_test_sc,y_test_pt)"
   ]
  },
  {
   "cell_type": "code",
   "execution_count": 32,
   "id": "328db13e",
   "metadata": {},
   "outputs": [
    {
     "name": "stderr",
     "output_type": "stream",
     "text": [
      "/Users/ankitapatil/opt/anaconda3/lib/python3.8/site-packages/sklearn/utils/validation.py:63: DataConversionWarning: A column-vector y was passed when a 1d array was expected. Please change the shape of y to (n_samples, ), for example using ravel().\n",
      "  return f(*args, **kwargs)\n",
      "/Users/ankitapatil/opt/anaconda3/lib/python3.8/site-packages/sklearn/linear_model/_coordinate_descent.py:526: ConvergenceWarning: Objective did not converge. You might want to increase the number of iterations. Duality gap: 0.16682814633493592, tolerance: 0.11829175741198815\n",
      "  model = cd_fast.enet_coordinate_descent_gram(\n"
     ]
    },
    {
     "data": {
      "text/plain": [
       "LassoCV(alphas=array([0.001     , 0.00107227, 0.00114976, 0.00123285, 0.00132194,\n",
       "       0.00141747, 0.00151991, 0.00162975, 0.00174753, 0.00187382,\n",
       "       0.00200923, 0.00215443, 0.00231013, 0.00247708, 0.00265609,\n",
       "       0.00284804, 0.00305386, 0.00327455, 0.00351119, 0.00376494,\n",
       "       0.00403702, 0.00432876, 0.00464159, 0.00497702, 0.0053367 ,\n",
       "       0.00572237, 0.00613591, 0.00657933, 0.0070548 , 0.00756463,\n",
       "       0.008...\n",
       "       0.09326033, 0.1       , 0.10722672, 0.1149757 , 0.12328467,\n",
       "       0.13219411, 0.14174742, 0.15199111, 0.16297508, 0.17475284,\n",
       "       0.18738174, 0.2009233 , 0.21544347, 0.23101297, 0.24770764,\n",
       "       0.26560878, 0.28480359, 0.30538555, 0.32745492, 0.35111917,\n",
       "       0.37649358, 0.40370173, 0.43287613, 0.46415888, 0.49770236,\n",
       "       0.53366992, 0.57223677, 0.61359073, 0.65793322, 0.70548023,\n",
       "       0.75646333, 0.81113083, 0.869749  , 0.93260335, 1.        ]))"
      ]
     },
     "execution_count": 32,
     "metadata": {},
     "output_type": "execute_result"
    }
   ],
   "source": [
    "lasso_cv.fit(X_train_sc,y_train_pt)"
   ]
  },
  {
   "cell_type": "code",
   "execution_count": 33,
   "id": "3788a171",
   "metadata": {},
   "outputs": [
    {
     "data": {
      "text/plain": [
       "0.9189172429929644"
      ]
     },
     "execution_count": 33,
     "metadata": {},
     "output_type": "execute_result"
    }
   ],
   "source": [
    "lasso_cv.score(X_train_sc,y_train_pt)"
   ]
  },
  {
   "cell_type": "code",
   "execution_count": 34,
   "id": "dfd3986d",
   "metadata": {},
   "outputs": [
    {
     "data": {
      "text/plain": [
       "0.8889793397403011"
      ]
     },
     "execution_count": 34,
     "metadata": {},
     "output_type": "execute_result"
    }
   ],
   "source": [
    "lasso_cv.score(X_test_sc,y_test_pt)"
   ]
  },
  {
   "cell_type": "code",
   "execution_count": 35,
   "id": "f039b7d5",
   "metadata": {},
   "outputs": [
    {
     "data": {
      "text/plain": [
       "RidgeCV(alphas=array([1.00000000e+00, 1.12332403e+00, 1.26185688e+00, 1.41747416e+00,\n",
       "       1.59228279e+00, 1.78864953e+00, 2.00923300e+00, 2.25701972e+00,\n",
       "       2.53536449e+00, 2.84803587e+00, 3.19926714e+00, 3.59381366e+00,\n",
       "       4.03701726e+00, 4.53487851e+00, 5.09413801e+00, 5.72236766e+00,\n",
       "       6.42807312e+00, 7.22080902e+00, 8.11130831e+00, 9.11162756e+00,\n",
       "       1.02353102e+01, 1.14975700e+0...\n",
       "       6.89261210e+03, 7.74263683e+03, 8.69749003e+03, 9.77009957e+03,\n",
       "       1.09749877e+04, 1.23284674e+04, 1.38488637e+04, 1.55567614e+04,\n",
       "       1.74752840e+04, 1.96304065e+04, 2.20513074e+04, 2.47707636e+04,\n",
       "       2.78255940e+04, 3.12571585e+04, 3.51119173e+04, 3.94420606e+04,\n",
       "       4.43062146e+04, 4.97702356e+04, 5.59081018e+04, 6.28029144e+04,\n",
       "       7.05480231e+04, 7.92482898e+04, 8.90215085e+04, 1.00000000e+05]),\n",
       "        cv=5)"
      ]
     },
     "execution_count": 35,
     "metadata": {},
     "output_type": "execute_result"
    }
   ],
   "source": [
    "ridge_cv.fit(X_train_sc,y_train_pt)"
   ]
  },
  {
   "cell_type": "code",
   "execution_count": 36,
   "id": "45d5ebae",
   "metadata": {},
   "outputs": [
    {
     "data": {
      "text/plain": [
       "0.9229891071793331"
      ]
     },
     "execution_count": 36,
     "metadata": {},
     "output_type": "execute_result"
    }
   ],
   "source": [
    "ridge_cv.score(X_train_sc,y_train_pt)"
   ]
  },
  {
   "cell_type": "code",
   "execution_count": 37,
   "id": "44e21f5e",
   "metadata": {},
   "outputs": [
    {
     "data": {
      "text/plain": [
       "0.8769837961158382"
      ]
     },
     "execution_count": 37,
     "metadata": {},
     "output_type": "execute_result"
    }
   ],
   "source": [
    "ridge_cv.score(X_test_sc,y_test_pt)"
   ]
  },
  {
   "cell_type": "code",
   "execution_count": null,
   "id": "b41a7817",
   "metadata": {},
   "outputs": [],
   "source": []
  },
  {
   "cell_type": "markdown",
   "id": "cacd3030",
   "metadata": {},
   "source": [
    "## Predicting from the Model"
   ]
  },
  {
   "cell_type": "code",
   "execution_count": 38,
   "id": "910e227b",
   "metadata": {},
   "outputs": [],
   "source": [
    "X_kaggle = test[features]"
   ]
  },
  {
   "cell_type": "code",
   "execution_count": 39,
   "id": "74d22a44",
   "metadata": {},
   "outputs": [],
   "source": [
    "X_kaggle_sc = ss.transform(X_kaggle)"
   ]
  },
  {
   "cell_type": "code",
   "execution_count": 40,
   "id": "ed81d184",
   "metadata": {},
   "outputs": [],
   "source": [
    "pred_lr = lr.predict(X_kaggle_sc)"
   ]
  },
  {
   "cell_type": "code",
   "execution_count": 41,
   "id": "15e81a34",
   "metadata": {},
   "outputs": [
    {
     "name": "stderr",
     "output_type": "stream",
     "text": [
      "/Users/ankitapatil/opt/anaconda3/lib/python3.8/site-packages/sklearn/preprocessing/_data.py:3179: RuntimeWarning: overflow encountered in power\n",
      "  x_inv[pos] = np.power(x[pos] * lmbda + 1, 1 / lmbda) - 1\n"
     ]
    }
   ],
   "source": [
    "pred_lr_inverse = pt.inverse_transform(pred_lr.reshape(-1,1))"
   ]
  },
  {
   "cell_type": "code",
   "execution_count": 43,
   "id": "9f0954ac",
   "metadata": {},
   "outputs": [
    {
     "data": {
      "text/html": [
       "<div>\n",
       "<style scoped>\n",
       "    .dataframe tbody tr th:only-of-type {\n",
       "        vertical-align: middle;\n",
       "    }\n",
       "\n",
       "    .dataframe tbody tr th {\n",
       "        vertical-align: top;\n",
       "    }\n",
       "\n",
       "    .dataframe thead th {\n",
       "        text-align: right;\n",
       "    }\n",
       "</style>\n",
       "<table border=\"1\" class=\"dataframe\">\n",
       "  <thead>\n",
       "    <tr style=\"text-align: right;\">\n",
       "      <th></th>\n",
       "      <th>SalePrice</th>\n",
       "    </tr>\n",
       "    <tr>\n",
       "      <th>Id</th>\n",
       "      <th></th>\n",
       "    </tr>\n",
       "  </thead>\n",
       "  <tbody>\n",
       "    <tr>\n",
       "      <th>2658</th>\n",
       "      <td>93313.377718</td>\n",
       "    </tr>\n",
       "    <tr>\n",
       "      <th>2718</th>\n",
       "      <td>153220.961424</td>\n",
       "    </tr>\n",
       "    <tr>\n",
       "      <th>2414</th>\n",
       "      <td>217368.014582</td>\n",
       "    </tr>\n",
       "    <tr>\n",
       "      <th>1989</th>\n",
       "      <td>103265.945642</td>\n",
       "    </tr>\n",
       "    <tr>\n",
       "      <th>625</th>\n",
       "      <td>170831.463750</td>\n",
       "    </tr>\n",
       "    <tr>\n",
       "      <th>...</th>\n",
       "      <td>...</td>\n",
       "    </tr>\n",
       "    <tr>\n",
       "      <th>1662</th>\n",
       "      <td>196014.510484</td>\n",
       "    </tr>\n",
       "    <tr>\n",
       "      <th>1234</th>\n",
       "      <td>209864.144057</td>\n",
       "    </tr>\n",
       "    <tr>\n",
       "      <th>1373</th>\n",
       "      <td>130351.136540</td>\n",
       "    </tr>\n",
       "    <tr>\n",
       "      <th>1672</th>\n",
       "      <td>118368.474278</td>\n",
       "    </tr>\n",
       "    <tr>\n",
       "      <th>1939</th>\n",
       "      <td>130588.564211</td>\n",
       "    </tr>\n",
       "  </tbody>\n",
       "</table>\n",
       "<p>878 rows × 1 columns</p>\n",
       "</div>"
      ],
      "text/plain": [
       "          SalePrice\n",
       "Id                 \n",
       "2658   93313.377718\n",
       "2718  153220.961424\n",
       "2414  217368.014582\n",
       "1989  103265.945642\n",
       "625   170831.463750\n",
       "...             ...\n",
       "1662  196014.510484\n",
       "1234  209864.144057\n",
       "1373  130351.136540\n",
       "1672  118368.474278\n",
       "1939  130588.564211\n",
       "\n",
       "[878 rows x 1 columns]"
      ]
     },
     "execution_count": 43,
     "metadata": {},
     "output_type": "execute_result"
    }
   ],
   "source": [
    "df_lr = pd.DataFrame(pred_lr_inverse,index=test['Id'],columns=['SalePrice'])\n",
    "df_lr"
   ]
  },
  {
   "cell_type": "code",
   "execution_count": 54,
   "id": "061b7630",
   "metadata": {},
   "outputs": [],
   "source": [
    "df_lr.to_csv('../datasets/modeling_linear.csv')"
   ]
  },
  {
   "cell_type": "code",
   "execution_count": 44,
   "id": "c9e9b4be",
   "metadata": {},
   "outputs": [],
   "source": [
    "pred_lasso = lasso_cv.predict(X_kaggle_sc)"
   ]
  },
  {
   "cell_type": "code",
   "execution_count": 45,
   "id": "2b3b82f6",
   "metadata": {},
   "outputs": [],
   "source": [
    "pred_lasso_inverse = pt.inverse_transform(pred_lasso.reshape(-1,1))"
   ]
  },
  {
   "cell_type": "code",
   "execution_count": 46,
   "id": "b454dac6",
   "metadata": {},
   "outputs": [
    {
     "data": {
      "text/html": [
       "<div>\n",
       "<style scoped>\n",
       "    .dataframe tbody tr th:only-of-type {\n",
       "        vertical-align: middle;\n",
       "    }\n",
       "\n",
       "    .dataframe tbody tr th {\n",
       "        vertical-align: top;\n",
       "    }\n",
       "\n",
       "    .dataframe thead th {\n",
       "        text-align: right;\n",
       "    }\n",
       "</style>\n",
       "<table border=\"1\" class=\"dataframe\">\n",
       "  <thead>\n",
       "    <tr style=\"text-align: right;\">\n",
       "      <th></th>\n",
       "      <th>SalePrice</th>\n",
       "    </tr>\n",
       "    <tr>\n",
       "      <th>Id</th>\n",
       "      <th></th>\n",
       "    </tr>\n",
       "  </thead>\n",
       "  <tbody>\n",
       "    <tr>\n",
       "      <th>2658</th>\n",
       "      <td>111072.783769</td>\n",
       "    </tr>\n",
       "    <tr>\n",
       "      <th>2718</th>\n",
       "      <td>154746.050613</td>\n",
       "    </tr>\n",
       "    <tr>\n",
       "      <th>2414</th>\n",
       "      <td>221739.781683</td>\n",
       "    </tr>\n",
       "    <tr>\n",
       "      <th>1989</th>\n",
       "      <td>107304.719986</td>\n",
       "    </tr>\n",
       "    <tr>\n",
       "      <th>625</th>\n",
       "      <td>176892.207828</td>\n",
       "    </tr>\n",
       "    <tr>\n",
       "      <th>...</th>\n",
       "      <td>...</td>\n",
       "    </tr>\n",
       "    <tr>\n",
       "      <th>1662</th>\n",
       "      <td>194715.913539</td>\n",
       "    </tr>\n",
       "    <tr>\n",
       "      <th>1234</th>\n",
       "      <td>208288.225539</td>\n",
       "    </tr>\n",
       "    <tr>\n",
       "      <th>1373</th>\n",
       "      <td>130675.933237</td>\n",
       "    </tr>\n",
       "    <tr>\n",
       "      <th>1672</th>\n",
       "      <td>117273.756814</td>\n",
       "    </tr>\n",
       "    <tr>\n",
       "      <th>1939</th>\n",
       "      <td>128209.171042</td>\n",
       "    </tr>\n",
       "  </tbody>\n",
       "</table>\n",
       "<p>878 rows × 1 columns</p>\n",
       "</div>"
      ],
      "text/plain": [
       "          SalePrice\n",
       "Id                 \n",
       "2658  111072.783769\n",
       "2718  154746.050613\n",
       "2414  221739.781683\n",
       "1989  107304.719986\n",
       "625   176892.207828\n",
       "...             ...\n",
       "1662  194715.913539\n",
       "1234  208288.225539\n",
       "1373  130675.933237\n",
       "1672  117273.756814\n",
       "1939  128209.171042\n",
       "\n",
       "[878 rows x 1 columns]"
      ]
     },
     "execution_count": 46,
     "metadata": {},
     "output_type": "execute_result"
    }
   ],
   "source": [
    "df_lasso = pd.DataFrame(pred_lasso_inverse,index=test['Id'],columns=['SalePrice'])\n",
    "df_lasso"
   ]
  },
  {
   "cell_type": "code",
   "execution_count": 48,
   "id": "2810eb0f",
   "metadata": {},
   "outputs": [],
   "source": [
    "df_lasso.to_csv('../datasets/modeling_lasso.csv')"
   ]
  },
  {
   "cell_type": "code",
   "execution_count": 49,
   "id": "b64c3cff",
   "metadata": {},
   "outputs": [],
   "source": [
    "pred_ridge = ridge_cv.predict(X_kaggle_sc)"
   ]
  },
  {
   "cell_type": "code",
   "execution_count": 50,
   "id": "18ac3c01",
   "metadata": {},
   "outputs": [],
   "source": [
    "pred_ridge_inverse = pt.inverse_transform(pred_ridge.reshape(-1,1))"
   ]
  },
  {
   "cell_type": "code",
   "execution_count": 51,
   "id": "8ec321b4",
   "metadata": {},
   "outputs": [
    {
     "data": {
      "text/html": [
       "<div>\n",
       "<style scoped>\n",
       "    .dataframe tbody tr th:only-of-type {\n",
       "        vertical-align: middle;\n",
       "    }\n",
       "\n",
       "    .dataframe tbody tr th {\n",
       "        vertical-align: top;\n",
       "    }\n",
       "\n",
       "    .dataframe thead th {\n",
       "        text-align: right;\n",
       "    }\n",
       "</style>\n",
       "<table border=\"1\" class=\"dataframe\">\n",
       "  <thead>\n",
       "    <tr style=\"text-align: right;\">\n",
       "      <th></th>\n",
       "      <th>SalePrice</th>\n",
       "    </tr>\n",
       "    <tr>\n",
       "      <th>Id</th>\n",
       "      <th></th>\n",
       "    </tr>\n",
       "  </thead>\n",
       "  <tbody>\n",
       "    <tr>\n",
       "      <th>2658</th>\n",
       "      <td>91607.573982</td>\n",
       "    </tr>\n",
       "    <tr>\n",
       "      <th>2718</th>\n",
       "      <td>161390.124796</td>\n",
       "    </tr>\n",
       "    <tr>\n",
       "      <th>2414</th>\n",
       "      <td>224267.548214</td>\n",
       "    </tr>\n",
       "    <tr>\n",
       "      <th>1989</th>\n",
       "      <td>107403.446361</td>\n",
       "    </tr>\n",
       "    <tr>\n",
       "      <th>625</th>\n",
       "      <td>177370.957200</td>\n",
       "    </tr>\n",
       "    <tr>\n",
       "      <th>...</th>\n",
       "      <td>...</td>\n",
       "    </tr>\n",
       "    <tr>\n",
       "      <th>1662</th>\n",
       "      <td>188764.641151</td>\n",
       "    </tr>\n",
       "    <tr>\n",
       "      <th>1234</th>\n",
       "      <td>214935.513809</td>\n",
       "    </tr>\n",
       "    <tr>\n",
       "      <th>1373</th>\n",
       "      <td>129438.612793</td>\n",
       "    </tr>\n",
       "    <tr>\n",
       "      <th>1672</th>\n",
       "      <td>117464.010051</td>\n",
       "    </tr>\n",
       "    <tr>\n",
       "      <th>1939</th>\n",
       "      <td>132915.225439</td>\n",
       "    </tr>\n",
       "  </tbody>\n",
       "</table>\n",
       "<p>878 rows × 1 columns</p>\n",
       "</div>"
      ],
      "text/plain": [
       "          SalePrice\n",
       "Id                 \n",
       "2658   91607.573982\n",
       "2718  161390.124796\n",
       "2414  224267.548214\n",
       "1989  107403.446361\n",
       "625   177370.957200\n",
       "...             ...\n",
       "1662  188764.641151\n",
       "1234  214935.513809\n",
       "1373  129438.612793\n",
       "1672  117464.010051\n",
       "1939  132915.225439\n",
       "\n",
       "[878 rows x 1 columns]"
      ]
     },
     "execution_count": 51,
     "metadata": {},
     "output_type": "execute_result"
    }
   ],
   "source": [
    "df_ridge = pd.DataFrame(pred_ridge_inverse,index=test['Id'],columns=['SalePrice'])\n",
    "df_ridge"
   ]
  },
  {
   "cell_type": "code",
   "execution_count": 53,
   "id": "5eb4a7f3",
   "metadata": {},
   "outputs": [],
   "source": [
    "df_ridge.to_csv('../datasets/modeling_ridge.csv')"
   ]
  },
  {
   "cell_type": "code",
   "execution_count": 55,
   "id": "83cd441e",
   "metadata": {},
   "outputs": [
    {
     "data": {
      "text/plain": [
       "array([ 0.00000000e+00, -3.48395305e-02,  0.00000000e+00,  3.04635266e-02,\n",
       "        2.40682830e-01,  7.36020627e-02,  6.25850983e-02,  5.54634357e-02,\n",
       "        0.00000000e+00,  8.02623453e-03, -0.00000000e+00, -0.00000000e+00,\n",
       "        2.36774763e-02,  5.61741920e-03,  0.00000000e+00, -0.00000000e+00,\n",
       "        2.57095259e-01,  4.92287579e-02,  0.00000000e+00,  3.32403791e-02,\n",
       "        0.00000000e+00,  3.22310221e-03, -1.17496314e-02,  2.48887211e-02,\n",
       "        5.41788038e-02,  0.00000000e+00,  8.09446221e-02,  7.64509668e-03,\n",
       "        1.68737288e-02,  7.14483137e-03,  2.57255860e-03,  3.87462190e-03,\n",
       "        4.50598440e-02, -2.44293665e-02, -5.13924312e-02,  0.00000000e+00,\n",
       "        0.00000000e+00, -5.11127834e-02,  0.00000000e+00, -3.72269344e-02,\n",
       "        0.00000000e+00,  0.00000000e+00,  0.00000000e+00,  0.00000000e+00,\n",
       "       -3.17432899e-02,  1.65583032e-02,  0.00000000e+00, -3.78829142e-02,\n",
       "       -0.00000000e+00,  1.26846179e-02,  0.00000000e+00,  0.00000000e+00,\n",
       "        0.00000000e+00,  0.00000000e+00,  5.68077651e-03, -0.00000000e+00,\n",
       "       -0.00000000e+00, -0.00000000e+00,  1.28507169e-03,  0.00000000e+00,\n",
       "       -0.00000000e+00, -5.45468868e-03,  0.00000000e+00,  3.91439250e-03,\n",
       "        0.00000000e+00,  4.29091943e-02, -3.78534312e-02, -0.00000000e+00,\n",
       "       -0.00000000e+00,  3.63699343e-02, -0.00000000e+00, -0.00000000e+00,\n",
       "       -1.51317159e-02,  0.00000000e+00, -0.00000000e+00, -0.00000000e+00,\n",
       "       -0.00000000e+00,  1.35703880e-02,  6.89974591e-02, -5.83166636e-03,\n",
       "       -0.00000000e+00, -6.30407377e-04, -4.92569118e-03,  2.19188397e-02,\n",
       "        3.38916509e-02,  8.22136981e-03,  0.00000000e+00, -0.00000000e+00,\n",
       "        2.29440652e-02,  2.40147980e-03,  1.75298075e-02, -2.35002212e-03,\n",
       "       -0.00000000e+00, -0.00000000e+00, -0.00000000e+00, -0.00000000e+00,\n",
       "        0.00000000e+00,  3.69429147e-03,  0.00000000e+00,  0.00000000e+00,\n",
       "       -0.00000000e+00, -0.00000000e+00,  0.00000000e+00, -0.00000000e+00,\n",
       "       -3.43756654e-02, -1.36445534e-02,  0.00000000e+00,  0.00000000e+00,\n",
       "        0.00000000e+00,  0.00000000e+00, -2.76280922e-03,  0.00000000e+00,\n",
       "        0.00000000e+00, -0.00000000e+00,  0.00000000e+00,  1.35644460e-02,\n",
       "       -2.39032923e-02, -0.00000000e+00,  5.96737933e-03,  0.00000000e+00,\n",
       "       -0.00000000e+00,  0.00000000e+00,  8.55906929e-03,  0.00000000e+00,\n",
       "       -1.15078247e-02,  2.46860949e-02, -0.00000000e+00,  0.00000000e+00,\n",
       "       -0.00000000e+00,  0.00000000e+00,  0.00000000e+00,  0.00000000e+00,\n",
       "        0.00000000e+00, -7.36096385e-03,  0.00000000e+00, -1.56102038e-03,\n",
       "       -0.00000000e+00,  0.00000000e+00, -0.00000000e+00,  0.00000000e+00,\n",
       "       -0.00000000e+00,  0.00000000e+00, -0.00000000e+00,  0.00000000e+00,\n",
       "        5.34319379e-03, -0.00000000e+00, -0.00000000e+00, -7.24262428e-03,\n",
       "        0.00000000e+00, -0.00000000e+00, -0.00000000e+00,  0.00000000e+00,\n",
       "       -0.00000000e+00,  8.31189011e-04, -1.58529588e-02,  0.00000000e+00,\n",
       "       -1.74249903e-02, -0.00000000e+00, -0.00000000e+00, -2.36680413e-02,\n",
       "        0.00000000e+00, -0.00000000e+00,  1.89073945e-02, -1.85000049e-02,\n",
       "        1.74936850e-03,  0.00000000e+00, -0.00000000e+00, -0.00000000e+00,\n",
       "       -1.36529012e-02,  0.00000000e+00, -0.00000000e+00, -4.65111113e-03,\n",
       "        2.53767825e-03, -1.55729826e-04,  0.00000000e+00,  0.00000000e+00,\n",
       "        3.86477285e-02, -0.00000000e+00, -1.24808977e-02, -0.00000000e+00,\n",
       "        0.00000000e+00,  1.15720607e-02, -0.00000000e+00, -8.01178100e-04,\n",
       "       -0.00000000e+00, -4.08995194e-02, -0.00000000e+00,  0.00000000e+00,\n",
       "       -0.00000000e+00, -5.11939859e-03, -0.00000000e+00,  0.00000000e+00,\n",
       "        0.00000000e+00,  5.66315916e-03, -3.66896218e-02, -1.56696364e-03,\n",
       "       -9.40120095e-03, -5.53076872e-03, -6.11547317e-03, -1.87002438e-02,\n",
       "       -2.69289532e-02,  2.44091788e-02, -0.00000000e+00, -0.00000000e+00,\n",
       "        0.00000000e+00,  0.00000000e+00, -9.86265028e-03, -0.00000000e+00,\n",
       "       -1.65748267e-02, -2.32680657e-02,  0.00000000e+00,  0.00000000e+00,\n",
       "       -6.29482543e-04, -5.86001278e-02, -1.33892251e-02,  5.95683826e-03,\n",
       "        1.79751289e-02, -1.74668415e-03,  0.00000000e+00, -8.26003193e-04,\n",
       "       -2.95959559e-03,  0.00000000e+00,  0.00000000e+00, -0.00000000e+00,\n",
       "       -1.90807039e-03, -9.65576922e-03,  2.83561490e-03,  0.00000000e+00,\n",
       "       -1.42186334e-02,  0.00000000e+00, -0.00000000e+00,  0.00000000e+00,\n",
       "        0.00000000e+00, -0.00000000e+00,  0.00000000e+00, -0.00000000e+00,\n",
       "        2.38088646e-02, -0.00000000e+00,  3.36136387e-04,  4.80080516e-05,\n",
       "       -0.00000000e+00,  0.00000000e+00,  1.68716790e-02,  9.81603974e-03,\n",
       "       -0.00000000e+00])"
      ]
     },
     "execution_count": 55,
     "metadata": {},
     "output_type": "execute_result"
    }
   ],
   "source": [
    "lasso_cv.coef_"
   ]
  },
  {
   "cell_type": "code",
   "execution_count": 56,
   "id": "7aa3ea66",
   "metadata": {},
   "outputs": [
    {
     "data": {
      "text/plain": [
       "PID                0.000000\n",
       "MS SubClass       -0.034840\n",
       "Lot Frontage       0.000000\n",
       "Lot Area           0.030464\n",
       "Overall Qual       0.240683\n",
       "                     ...   \n",
       "Sale Type_ConLI   -0.000000\n",
       "Sale Type_ConLw    0.000000\n",
       "Sale Type_New      0.016872\n",
       "Sale Type_Oth      0.009816\n",
       "Sale Type_WD      -0.000000\n",
       "Length: 245, dtype: float64"
      ]
     },
     "execution_count": 56,
     "metadata": {},
     "output_type": "execute_result"
    }
   ],
   "source": [
    "lasso_coefs = pd.Series(lasso_cv.coef_,features)\n",
    "lasso_coefs"
   ]
  },
  {
   "cell_type": "code",
   "execution_count": 58,
   "id": "442bda6b",
   "metadata": {},
   "outputs": [
    {
     "data": {
      "text/plain": [
       "<AxesSubplot:>"
      ]
     },
     "execution_count": 58,
     "metadata": {},
     "output_type": "execute_result"
    },
    {
     "data": {
      "image/png": "[encoded data removed]",
      "text/plain": [
       "<Figure size 1080x1080 with 1 Axes>"
      ]
     },
     "metadata": {
      "needs_background": "light"
     },
     "output_type": "display_data"
    }
   ],
   "source": [
    "plt.figure(figsize=(15,15))\n",
    "lasso_coefs[lasso_coefs != 0].sort_values().plot.barh()"
   ]
  },
  {
   "cell_type": "code",
   "execution_count": 60,
   "id": "51153e3b",
   "metadata": {},
   "outputs": [
    {
     "data": {
      "text/plain": [
       "111"
      ]
     },
     "execution_count": 60,
     "metadata": {},
     "output_type": "execute_result"
    }
   ],
   "source": [
    "len(lasso_coefs[lasso_coefs != 0])"
   ]
  },
  {
   "cell_type": "code",
   "execution_count": 63,
   "id": "a0fdd10b",
   "metadata": {},
   "outputs": [
    {
     "data": {
      "text/plain": [
       "['PID',\n",
       " 'Lot Frontage',\n",
       " 'Mas Vnr Area',\n",
       " 'BsmtFin SF 2',\n",
       " 'Bsmt Unf SF',\n",
       " '2nd Flr SF',\n",
       " 'Low Qual Fin SF',\n",
       " 'Bsmt Half Bath',\n",
       " 'Half Bath',\n",
       " 'Garage Yr Blt',\n",
       " 'Mo Sold',\n",
       " 'Yr Sold',\n",
       " 'Remodel',\n",
       " 'MS Zoning_FV',\n",
       " 'MS Zoning_I (all)',\n",
       " 'MS Zoning_RH',\n",
       " 'MS Zoning_RL',\n",
       " 'Lot Shape_IR2',\n",
       " 'Lot Shape_Reg',\n",
       " 'Land Contour_Low',\n",
       " 'Land Contour_Lvl',\n",
       " 'Utilities_NoSeWa',\n",
       " 'Utilities_NoSewr',\n",
       " 'Lot Config_FR2',\n",
       " 'Lot Config_FR3',\n",
       " 'Lot Config_Inside',\n",
       " 'Land Slope_Sev',\n",
       " 'Neighborhood_Blueste',\n",
       " 'Neighborhood_BrkSide',\n",
       " 'Neighborhood_CollgCr',\n",
       " 'Neighborhood_Gilbert',\n",
       " 'Neighborhood_Greens',\n",
       " 'Neighborhood_IDOTRR',\n",
       " 'Neighborhood_Landmrk',\n",
       " 'Neighborhood_Mitchel',\n",
       " 'Neighborhood_NAmes',\n",
       " 'Neighborhood_NPkVill',\n",
       " 'Neighborhood_NWAmes',\n",
       " 'Neighborhood_SWISU',\n",
       " 'Neighborhood_Veenker',\n",
       " 'Condition 1_Feedr',\n",
       " 'Condition 1_RRAn',\n",
       " 'Condition 1_RRNe',\n",
       " 'Condition 1_RRNn',\n",
       " 'Condition 2_Feedr',\n",
       " 'Condition 2_Norm',\n",
       " 'Condition 2_PosN',\n",
       " 'Condition 2_RRAe',\n",
       " 'Condition 2_RRAn',\n",
       " 'Condition 2_RRNn',\n",
       " 'Bldg Type_2fmCon',\n",
       " 'Bldg Type_Duplex',\n",
       " 'House Style_1.5Unf',\n",
       " 'House Style_1Story',\n",
       " 'House Style_2.5Fin',\n",
       " 'House Style_2.5Unf',\n",
       " 'House Style_SFoyer',\n",
       " 'House Style_SLvl',\n",
       " 'Roof Style_Gable',\n",
       " 'Roof Style_Gambrel',\n",
       " 'Roof Style_Shed',\n",
       " 'Roof Matl_Membran',\n",
       " 'Roof Matl_Tar&Grv',\n",
       " 'Roof Matl_WdShake',\n",
       " 'Exterior 1st_AsphShn',\n",
       " 'Exterior 1st_CBlock',\n",
       " 'Exterior 1st_CemntBd',\n",
       " 'Exterior 1st_HdBoard',\n",
       " 'Exterior 1st_ImStucc',\n",
       " 'Exterior 1st_MetalSd',\n",
       " 'Exterior 1st_Plywood',\n",
       " 'Exterior 1st_Stone',\n",
       " 'Exterior 1st_VinylSd',\n",
       " 'Exterior 1st_WdShing',\n",
       " 'Exterior 2nd_AsphShn',\n",
       " 'Exterior 2nd_Brk Cmn',\n",
       " 'Exterior 2nd_BrkFace',\n",
       " 'Exterior 2nd_CBlock',\n",
       " 'Exterior 2nd_CmentBd',\n",
       " 'Exterior 2nd_HdBoard',\n",
       " 'Exterior 2nd_ImStucc',\n",
       " 'Exterior 2nd_Plywood',\n",
       " 'Exterior 2nd_Stone',\n",
       " 'Exterior 2nd_VinylSd',\n",
       " 'Exterior 2nd_Wd Sdng',\n",
       " 'Exterior 2nd_Wd Shng',\n",
       " 'Mas Vnr Type_BrkFace',\n",
       " 'Mas Vnr Type_None',\n",
       " 'Exter Qual_Gd',\n",
       " 'Exter Cond_Fa',\n",
       " 'Exter Cond_Gd',\n",
       " 'Exter Cond_TA',\n",
       " 'Foundation_CBlock',\n",
       " 'Foundation_Wood',\n",
       " 'Bsmt Qual_Fa',\n",
       " 'Bsmt Qual_Gd',\n",
       " 'Bsmt Qual_Po',\n",
       " 'Bsmt Qual_TA',\n",
       " 'Bsmt Cond_Po',\n",
       " 'Bsmt Cond_TA',\n",
       " 'Bsmt Exposure_Mn',\n",
       " 'Bsmt Exposure_NoB',\n",
       " 'BsmtFin Type 1_BLQ',\n",
       " 'BsmtFin Type 1_LwQ',\n",
       " 'BsmtFin Type 1_Rec',\n",
       " 'BsmtFin Type 2_BLQ',\n",
       " 'BsmtFin Type 2_GLQ',\n",
       " 'BsmtFin Type 2_LwQ',\n",
       " 'BsmtFin Type 2_Rec',\n",
       " 'BsmtFin Type 2_Unf',\n",
       " 'Heating_GasA',\n",
       " 'Electrical_FuseF',\n",
       " 'Electrical_FuseP',\n",
       " 'Electrical_Mix',\n",
       " 'Electrical_SBrkr',\n",
       " 'Kitchen Qual_Gd',\n",
       " 'Functional_Min1',\n",
       " 'Functional_Min2',\n",
       " 'Garage Type_BuiltIn',\n",
       " 'Garage Type_NoG',\n",
       " 'Garage Finish_NoG',\n",
       " 'Garage Finish_RFn',\n",
       " 'Garage Qual_NoG',\n",
       " 'Garage Qual_TA',\n",
       " 'Garage Cond_Fa',\n",
       " 'Garage Cond_Gd',\n",
       " 'Garage Cond_NoG',\n",
       " 'Garage Cond_Po',\n",
       " 'Garage Cond_TA',\n",
       " 'Paved Drive_P',\n",
       " 'Sale Type_CWD',\n",
       " 'Sale Type_ConLI',\n",
       " 'Sale Type_ConLw',\n",
       " 'Sale Type_WD ']"
      ]
     },
     "execution_count": 63,
     "metadata": {},
     "output_type": "execute_result"
    }
   ],
   "source": [
    "unrelated_features = list(lasso_coefs[lasso_coefs == 0].index)\n",
    "unrelated_features"
   ]
  },
  {
   "cell_type": "code",
   "execution_count": 66,
   "id": "56c7b9cd",
   "metadata": {},
   "outputs": [
    {
     "data": {
      "text/plain": [
       "['Condition 1_PosA',\n",
       " 'Garage Cars',\n",
       " 'Enclosed Porch',\n",
       " 'Age',\n",
       " 'Foundation_Stone',\n",
       " 'Neighborhood_OldTown',\n",
       " 'Sale Type_Con',\n",
       " 'Bldg Type_TwnhsE',\n",
       " 'Garage Qual_Gd',\n",
       " 'Exterior 2nd_MetalSd',\n",
       " 'Lot Config_CulDSac',\n",
       " 'Neighborhood_Edwards',\n",
       " 'Year Remod/Add',\n",
       " 'Neighborhood_NoRidge',\n",
       " 'Neighborhood_GrnHill',\n",
       " 'Heating_GasW',\n",
       " 'Functional_Maj2',\n",
       " 'Garage Qual_Fa',\n",
       " 'Heating_Wall',\n",
       " 'Exter Cond_Po',\n",
       " 'MS Zoning_C (all)',\n",
       " 'Sale Type_Oth',\n",
       " 'Exterior 1st_Stucco',\n",
       " 'Bldg Type_Twnhs',\n",
       " 'Bsmt Exposure_Gd',\n",
       " 'Kitchen AbvGr',\n",
       " 'Bedroom AbvGr',\n",
       " 'Full Bath',\n",
       " 'House Style_2Story',\n",
       " '1st Flr SF',\n",
       " 'Fireplaces',\n",
       " 'Year Built',\n",
       " 'Functional_Sev',\n",
       " 'Heating QC_Fa',\n",
       " 'Sale Type_ConLD',\n",
       " 'Kitchen Qual_TA',\n",
       " 'Roof Style_Hip',\n",
       " 'BsmtFin Type 2_NoB',\n",
       " 'Garage Finish_Unf',\n",
       " 'Heating QC_TA',\n",
       " 'MS SubClass',\n",
       " 'Roof Matl_WdShngl',\n",
       " 'Lot Area',\n",
       " 'Mas Vnr Type_Stone',\n",
       " 'Exterior 2nd_Stucco',\n",
       " 'Neighborhood_ClearCr',\n",
       " '3Ssn Porch',\n",
       " 'Total Bsmt SF',\n",
       " 'Screen Porch',\n",
       " 'Neighborhood_Somerst',\n",
       " 'Neighborhood_StoneBr',\n",
       " 'Exterior 1st_BrkComm',\n",
       " 'Exter Qual_Fa',\n",
       " 'Bsmt Exposure_No',\n",
       " 'Neighborhood_Sawyer',\n",
       " 'Roof Matl_CompShg',\n",
       " 'Condition 1_RRAe',\n",
       " 'Heating QC_Gd',\n",
       " 'Roof Style_Mansard',\n",
       " 'Functional_Typ',\n",
       " 'Functional_Mod',\n",
       " 'TotRms AbvGrd',\n",
       " 'MS Zoning_RM',\n",
       " 'Condition 1_PosN',\n",
       " 'Garage Qual_Po',\n",
       " 'Overall Cond',\n",
       " 'Garage Type_Detchd',\n",
       " 'Misc Val',\n",
       " 'Heating QC_Po',\n",
       " 'Neighborhood_MeadowV',\n",
       " 'Wood Deck SF',\n",
       " 'Functional_Sal',\n",
       " 'Foundation_Slab',\n",
       " 'Neighborhood_Crawfor',\n",
       " 'Neighborhood_Timber',\n",
       " 'Paved Drive_Y',\n",
       " 'BsmtFin SF 1',\n",
       " 'Street_Pave',\n",
       " 'Condition 1_Norm',\n",
       " 'Bsmt Full Bath',\n",
       " 'Bsmt Cond_Gd',\n",
       " 'Garage Area',\n",
       " 'Land Slope_Mod',\n",
       " 'Condition 2_PosA',\n",
       " 'Gr Liv Area',\n",
       " 'Heating_OthW',\n",
       " 'Central Air_Y',\n",
       " 'Pool Area',\n",
       " 'Bsmt Cond_NoB',\n",
       " 'Garage Type_CarPort',\n",
       " 'Bsmt Cond_Fa',\n",
       " 'BsmtFin Type 1_GLQ',\n",
       " 'Neighborhood_SawyerW',\n",
       " 'Exterior 1st_Wd Sdng',\n",
       " 'Lot Shape_IR3',\n",
       " 'Neighborhood_NridgHt',\n",
       " 'Kitchen Qual_Fa',\n",
       " 'Sale Type_New',\n",
       " 'Garage Type_Attchd',\n",
       " 'Overall Qual',\n",
       " 'Foundation_PConc',\n",
       " 'BsmtFin Type 1_Unf',\n",
       " 'Exter Qual_TA',\n",
       " 'Exterior 1st_BrkFace',\n",
       " 'Bsmt Qual_NoB',\n",
       " 'Garage Type_Basment',\n",
       " 'Open Porch SF',\n",
       " 'Neighborhood_BrDale',\n",
       " 'Land Contour_HLS',\n",
       " 'Heating_Grav',\n",
       " 'BsmtFin Type 1_NoB']"
      ]
     },
     "execution_count": 66,
     "metadata": {},
     "output_type": "execute_result"
    }
   ],
   "source": [
    "refined_features = list(set(features).difference(set(unrelated_features)))\n",
    "refined_features"
   ]
  },
  {
   "cell_type": "markdown",
   "id": "00d2b3ca",
   "metadata": {},
   "source": [
    "## Part 2 : Model Prep"
   ]
  },
  {
   "cell_type": "code",
   "execution_count": 67,
   "id": "e9d2c3be",
   "metadata": {},
   "outputs": [],
   "source": [
    "X = df_train[refined_features]\n",
    "y = df_train['SalePrice']"
   ]
  },
  {
   "cell_type": "code",
   "execution_count": 68,
   "id": "f91ce729",
   "metadata": {},
   "outputs": [],
   "source": [
    "X_train, X_test, y_train, y_test = train_test_split(X,y,random_state=42)"
   ]
  },
  {
   "cell_type": "markdown",
   "id": "8cdee784",
   "metadata": {},
   "source": [
    "## Scaling the Data"
   ]
  },
  {
   "cell_type": "code",
   "execution_count": 69,
   "id": "0386fa38",
   "metadata": {},
   "outputs": [],
   "source": [
    "ss = StandardScaler()"
   ]
  },
  {
   "cell_type": "code",
   "execution_count": 70,
   "id": "92705754",
   "metadata": {},
   "outputs": [],
   "source": [
    "X_train_sc = ss.fit_transform(X_train)"
   ]
  },
  {
   "cell_type": "code",
   "execution_count": 71,
   "id": "c7ab0fa5",
   "metadata": {},
   "outputs": [],
   "source": [
    "X_test_sc = ss.transform(X_test)"
   ]
  },
  {
   "cell_type": "markdown",
   "id": "404b47c8",
   "metadata": {},
   "source": [
    "## Power Transforming the y"
   ]
  },
  {
   "cell_type": "code",
   "execution_count": 72,
   "id": "4f3eaa71",
   "metadata": {},
   "outputs": [],
   "source": [
    "pt = PowerTransformer()"
   ]
  },
  {
   "cell_type": "code",
   "execution_count": 73,
   "id": "153a976e",
   "metadata": {},
   "outputs": [],
   "source": [
    "y_train_pt = pt.fit_transform(y_train.to_frame())"
   ]
  },
  {
   "cell_type": "code",
   "execution_count": 74,
   "id": "74ebeaf4",
   "metadata": {},
   "outputs": [],
   "source": [
    "y_test_pt = pt.transform(y_test.to_frame())"
   ]
  },
  {
   "cell_type": "markdown",
   "id": "e3331366",
   "metadata": {},
   "source": [
    "## Instantiating the Models"
   ]
  },
  {
   "cell_type": "code",
   "execution_count": 75,
   "id": "43529168",
   "metadata": {},
   "outputs": [],
   "source": [
    "lr = LinearRegression()"
   ]
  },
  {
   "cell_type": "code",
   "execution_count": 76,
   "id": "69c2bf17",
   "metadata": {},
   "outputs": [],
   "source": [
    "l_alphas = np.logspace(-3,0,100)"
   ]
  },
  {
   "cell_type": "code",
   "execution_count": 77,
   "id": "9619e1d6",
   "metadata": {},
   "outputs": [],
   "source": [
    "lasso_cv = LassoCV(alphas = l_alphas)"
   ]
  },
  {
   "cell_type": "code",
   "execution_count": 78,
   "id": "ce19af15",
   "metadata": {},
   "outputs": [],
   "source": [
    "alphas = np.logspace(0,5,100)"
   ]
  },
  {
   "cell_type": "code",
   "execution_count": 79,
   "id": "86c01a19",
   "metadata": {},
   "outputs": [],
   "source": [
    "ridge_cv = RidgeCV(alphas = alphas, cv=5)"
   ]
  },
  {
   "cell_type": "markdown",
   "id": "a3172043",
   "metadata": {},
   "source": [
    "## Model Validation "
   ]
  },
  {
   "cell_type": "code",
   "execution_count": 80,
   "id": "fb3c58a3",
   "metadata": {},
   "outputs": [
    {
     "data": {
      "text/plain": [
       "-4.296092179096491e+24"
      ]
     },
     "execution_count": 80,
     "metadata": {},
     "output_type": "execute_result"
    }
   ],
   "source": [
    "cross_val_score(lr,X_train_sc,y_train_pt).mean()"
   ]
  },
  {
   "cell_type": "code",
   "execution_count": 81,
   "id": "b69cdd5c",
   "metadata": {},
   "outputs": [
    {
     "name": "stderr",
     "output_type": "stream",
     "text": [
      "/Users/ankitapatil/opt/anaconda3/lib/python3.8/site-packages/sklearn/utils/validation.py:63: DataConversionWarning: A column-vector y was passed when a 1d array was expected. Please change the shape of y to (n_samples, ), for example using ravel().\n",
      "  return f(*args, **kwargs)\n",
      "/Users/ankitapatil/opt/anaconda3/lib/python3.8/site-packages/sklearn/utils/validation.py:63: DataConversionWarning: A column-vector y was passed when a 1d array was expected. Please change the shape of y to (n_samples, ), for example using ravel().\n",
      "  return f(*args, **kwargs)\n",
      "/Users/ankitapatil/opt/anaconda3/lib/python3.8/site-packages/sklearn/utils/validation.py:63: DataConversionWarning: A column-vector y was passed when a 1d array was expected. Please change the shape of y to (n_samples, ), for example using ravel().\n",
      "  return f(*args, **kwargs)\n",
      "/Users/ankitapatil/opt/anaconda3/lib/python3.8/site-packages/sklearn/utils/validation.py:63: DataConversionWarning: A column-vector y was passed when a 1d array was expected. Please change the shape of y to (n_samples, ), for example using ravel().\n",
      "  return f(*args, **kwargs)\n",
      "/Users/ankitapatil/opt/anaconda3/lib/python3.8/site-packages/sklearn/utils/validation.py:63: DataConversionWarning: A column-vector y was passed when a 1d array was expected. Please change the shape of y to (n_samples, ), for example using ravel().\n",
      "  return f(*args, **kwargs)\n"
     ]
    },
    {
     "data": {
      "text/plain": [
       "0.8705000649671544"
      ]
     },
     "execution_count": 81,
     "metadata": {},
     "output_type": "execute_result"
    }
   ],
   "source": [
    "cross_val_score(lasso_cv,X_train_sc,y_train_pt).mean()"
   ]
  },
  {
   "cell_type": "code",
   "execution_count": 82,
   "id": "e4f5c411",
   "metadata": {},
   "outputs": [
    {
     "data": {
      "text/plain": [
       "0.8774595305998585"
      ]
     },
     "execution_count": 82,
     "metadata": {},
     "output_type": "execute_result"
    }
   ],
   "source": [
    "cross_val_score(ridge_cv,X_train_sc,y_train_pt).mean()"
   ]
  },
  {
   "cell_type": "markdown",
   "id": "b8748281",
   "metadata": {},
   "source": [
    "## Fitting the Model"
   ]
  },
  {
   "cell_type": "code",
   "execution_count": 83,
   "id": "e45a7c13",
   "metadata": {},
   "outputs": [
    {
     "data": {
      "text/plain": [
       "LinearRegression()"
      ]
     },
     "execution_count": 83,
     "metadata": {},
     "output_type": "execute_result"
    }
   ],
   "source": [
    "lr.fit(X_train_sc,y_train_pt)"
   ]
  },
  {
   "cell_type": "code",
   "execution_count": 84,
   "id": "6be20335",
   "metadata": {},
   "outputs": [
    {
     "data": {
      "text/plain": [
       "0.9259626484171769"
      ]
     },
     "execution_count": 84,
     "metadata": {},
     "output_type": "execute_result"
    }
   ],
   "source": [
    "lr.score(X_train_sc,y_train_pt)"
   ]
  },
  {
   "cell_type": "code",
   "execution_count": 85,
   "id": "e36715ec",
   "metadata": {},
   "outputs": [
    {
     "data": {
      "text/plain": [
       "0.8838905912774789"
      ]
     },
     "execution_count": 85,
     "metadata": {},
     "output_type": "execute_result"
    }
   ],
   "source": [
    "lr.score(X_test_sc,y_test_pt)"
   ]
  },
  {
   "cell_type": "code",
   "execution_count": 86,
   "id": "15496d93",
   "metadata": {},
   "outputs": [
    {
     "name": "stderr",
     "output_type": "stream",
     "text": [
      "/Users/ankitapatil/opt/anaconda3/lib/python3.8/site-packages/sklearn/utils/validation.py:63: DataConversionWarning: A column-vector y was passed when a 1d array was expected. Please change the shape of y to (n_samples, ), for example using ravel().\n",
      "  return f(*args, **kwargs)\n"
     ]
    },
    {
     "data": {
      "text/plain": [
       "LassoCV(alphas=array([0.001     , 0.00107227, 0.00114976, 0.00123285, 0.00132194,\n",
       "       0.00141747, 0.00151991, 0.00162975, 0.00174753, 0.00187382,\n",
       "       0.00200923, 0.00215443, 0.00231013, 0.00247708, 0.00265609,\n",
       "       0.00284804, 0.00305386, 0.00327455, 0.00351119, 0.00376494,\n",
       "       0.00403702, 0.00432876, 0.00464159, 0.00497702, 0.0053367 ,\n",
       "       0.00572237, 0.00613591, 0.00657933, 0.0070548 , 0.00756463,\n",
       "       0.008...\n",
       "       0.09326033, 0.1       , 0.10722672, 0.1149757 , 0.12328467,\n",
       "       0.13219411, 0.14174742, 0.15199111, 0.16297508, 0.17475284,\n",
       "       0.18738174, 0.2009233 , 0.21544347, 0.23101297, 0.24770764,\n",
       "       0.26560878, 0.28480359, 0.30538555, 0.32745492, 0.35111917,\n",
       "       0.37649358, 0.40370173, 0.43287613, 0.46415888, 0.49770236,\n",
       "       0.53366992, 0.57223677, 0.61359073, 0.65793322, 0.70548023,\n",
       "       0.75646333, 0.81113083, 0.869749  , 0.93260335, 1.        ]))"
      ]
     },
     "execution_count": 86,
     "metadata": {},
     "output_type": "execute_result"
    }
   ],
   "source": [
    "lasso_cv.fit(X_train_sc,y_train_pt)"
   ]
  },
  {
   "cell_type": "code",
   "execution_count": 87,
   "id": "cffddffe",
   "metadata": {},
   "outputs": [
    {
     "data": {
      "text/plain": [
       "0.9258702371083402"
      ]
     },
     "execution_count": 87,
     "metadata": {},
     "output_type": "execute_result"
    }
   ],
   "source": [
    "lasso_cv.score(X_train_sc,y_train_pt)"
   ]
  },
  {
   "cell_type": "code",
   "execution_count": 88,
   "id": "f103409c",
   "metadata": {},
   "outputs": [
    {
     "data": {
      "text/plain": [
       "0.8851088800537458"
      ]
     },
     "execution_count": 88,
     "metadata": {},
     "output_type": "execute_result"
    }
   ],
   "source": [
    "lasso_cv.score(X_test_sc,y_test_pt)"
   ]
  },
  {
   "cell_type": "code",
   "execution_count": null,
   "id": "6aadc14a",
   "metadata": {},
   "outputs": [],
   "source": []
  }
 ],
 "metadata": {
  "kernelspec": {
   "display_name": "Python 3",
   "language": "python",
   "name": "python3"
  },
  "language_info": {
   "codemirror_mode": {
    "name": "ipython",
    "version": 3
   },
   "file_extension": ".py",
   "mimetype": "text/x-python",
   "name": "python",
   "nbconvert_exporter": "python",
   "pygments_lexer": "ipython3",
   "version": "3.8.8"
  }
 },
 "nbformat": 4,
 "nbformat_minor": 5
}
