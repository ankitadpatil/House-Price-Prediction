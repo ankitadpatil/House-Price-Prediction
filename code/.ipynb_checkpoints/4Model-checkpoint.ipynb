{
 "cells": [
  {
   "cell_type": "code",
   "execution_count": 1,
   "id": "54b25647",
   "metadata": {},
   "outputs": [],
   "source": [
    "import numpy as np\n",
    "import pandas as pd\n",
    "import matplotlib.pyplot as plt\n",
    "import seaborn as sns\n",
    "import missingno as msno"
   ]
  },
  {
   "cell_type": "code",
   "execution_count": 2,
   "id": "af16eeed",
   "metadata": {},
   "outputs": [],
   "source": [
    "from sklearn.linear_model import LinearRegression, RidgeCV, Lasso, LassoCV\n",
    "from sklearn.model_selection import train_test_split,cross_val_score\n",
    "from sklearn.preprocessing import PolynomialFeatures, PowerTransformer, StandardScaler\n",
    "from sklearn.dummy import DummyRegressor"
   ]
  },
  {
   "cell_type": "code",
   "execution_count": 3,
   "id": "5277fe2d",
   "metadata": {},
   "outputs": [],
   "source": [
    "df_train = pd.read_csv('../datasets/complete_clean_train_extra.csv')\n",
    "test = pd.read_csv('../datasets/complete_clean_test_extra.csv')"
   ]
  },
  {
   "cell_type": "code",
   "execution_count": 4,
   "id": "47b86e90",
   "metadata": {},
   "outputs": [
    {
     "data": {
      "text/plain": [
       "Id               0\n",
       "Fireplaces       0\n",
       "Functional       0\n",
       "TotRms AbvGrd    0\n",
       "Kitchen Qual     0\n",
       "                ..\n",
       "Exterior 2nd     0\n",
       "Exterior 1st     0\n",
       "Roof Matl        0\n",
       "Foundation       0\n",
       "NoSewr           0\n",
       "Length: 78, dtype: int64"
      ]
     },
     "execution_count": 4,
     "metadata": {},
     "output_type": "execute_result"
    }
   ],
   "source": [
    "df_train.isnull().sum().sort_values()"
   ]
  },
  {
   "cell_type": "code",
   "execution_count": 5,
   "id": "f667c9d4",
   "metadata": {
    "scrolled": true
   },
   "outputs": [
    {
     "data": {
      "text/html": [
       "<div>\n",
       "<style scoped>\n",
       "    .dataframe tbody tr th:only-of-type {\n",
       "        vertical-align: middle;\n",
       "    }\n",
       "\n",
       "    .dataframe tbody tr th {\n",
       "        vertical-align: top;\n",
       "    }\n",
       "\n",
       "    .dataframe thead th {\n",
       "        text-align: right;\n",
       "    }\n",
       "</style>\n",
       "<table border=\"1\" class=\"dataframe\">\n",
       "  <thead>\n",
       "    <tr style=\"text-align: right;\">\n",
       "      <th></th>\n",
       "      <th>SalePrice</th>\n",
       "    </tr>\n",
       "  </thead>\n",
       "  <tbody>\n",
       "    <tr>\n",
       "      <th>SalePrice</th>\n",
       "      <td>1.000000</td>\n",
       "    </tr>\n",
       "    <tr>\n",
       "      <th>Overall Qual</th>\n",
       "      <td>0.800207</td>\n",
       "    </tr>\n",
       "    <tr>\n",
       "      <th>Gr Liv Area</th>\n",
       "      <td>0.697038</td>\n",
       "    </tr>\n",
       "    <tr>\n",
       "      <th>Garage Area</th>\n",
       "      <td>0.649897</td>\n",
       "    </tr>\n",
       "    <tr>\n",
       "      <th>Garage Cars</th>\n",
       "      <td>0.647781</td>\n",
       "    </tr>\n",
       "    <tr>\n",
       "      <th>Total Bsmt SF</th>\n",
       "      <td>0.629303</td>\n",
       "    </tr>\n",
       "    <tr>\n",
       "      <th>1st Flr SF</th>\n",
       "      <td>0.618486</td>\n",
       "    </tr>\n",
       "    <tr>\n",
       "      <th>Year Built</th>\n",
       "      <td>0.571849</td>\n",
       "    </tr>\n",
       "    <tr>\n",
       "      <th>Year Remod/Add</th>\n",
       "      <td>0.550370</td>\n",
       "    </tr>\n",
       "    <tr>\n",
       "      <th>Full Bath</th>\n",
       "      <td>0.537969</td>\n",
       "    </tr>\n",
       "    <tr>\n",
       "      <th>TotRms AbvGrd</th>\n",
       "      <td>0.504014</td>\n",
       "    </tr>\n",
       "    <tr>\n",
       "      <th>Mas Vnr Area</th>\n",
       "      <td>0.503579</td>\n",
       "    </tr>\n",
       "    <tr>\n",
       "      <th>Fireplaces</th>\n",
       "      <td>0.471093</td>\n",
       "    </tr>\n",
       "    <tr>\n",
       "      <th>BsmtFin SF 1</th>\n",
       "      <td>0.423856</td>\n",
       "    </tr>\n",
       "    <tr>\n",
       "      <th>Lot Area</th>\n",
       "      <td>0.340363</td>\n",
       "    </tr>\n",
       "    <tr>\n",
       "      <th>Open Porch SF</th>\n",
       "      <td>0.333476</td>\n",
       "    </tr>\n",
       "    <tr>\n",
       "      <th>Wood Deck SF</th>\n",
       "      <td>0.326490</td>\n",
       "    </tr>\n",
       "    <tr>\n",
       "      <th>Lot Frontage</th>\n",
       "      <td>0.325129</td>\n",
       "    </tr>\n",
       "    <tr>\n",
       "      <th>Y</th>\n",
       "      <td>0.289210</td>\n",
       "    </tr>\n",
       "    <tr>\n",
       "      <th>Bsmt Full Bath</th>\n",
       "      <td>0.283332</td>\n",
       "    </tr>\n",
       "    <tr>\n",
       "      <th>Half Bath</th>\n",
       "      <td>0.283001</td>\n",
       "    </tr>\n",
       "    <tr>\n",
       "      <th>Central Air</th>\n",
       "      <td>0.277378</td>\n",
       "    </tr>\n",
       "    <tr>\n",
       "      <th>Garage Yr Blt</th>\n",
       "      <td>0.258441</td>\n",
       "    </tr>\n",
       "    <tr>\n",
       "      <th>2nd Flr SF</th>\n",
       "      <td>0.248452</td>\n",
       "    </tr>\n",
       "    <tr>\n",
       "      <th>Bsmt Unf SF</th>\n",
       "      <td>0.190861</td>\n",
       "    </tr>\n",
       "    <tr>\n",
       "      <th>Condition 2</th>\n",
       "      <td>0.144711</td>\n",
       "    </tr>\n",
       "    <tr>\n",
       "      <th>Bedroom AbvGr</th>\n",
       "      <td>0.137067</td>\n",
       "    </tr>\n",
       "    <tr>\n",
       "      <th>Screen Porch</th>\n",
       "      <td>0.134581</td>\n",
       "    </tr>\n",
       "    <tr>\n",
       "      <th>Bsmt Exposure</th>\n",
       "      <td>0.126460</td>\n",
       "    </tr>\n",
       "    <tr>\n",
       "      <th>Bldg Type</th>\n",
       "      <td>0.065523</td>\n",
       "    </tr>\n",
       "    <tr>\n",
       "      <th>Condition 1</th>\n",
       "      <td>0.059218</td>\n",
       "    </tr>\n",
       "    <tr>\n",
       "      <th>3Ssn Porch</th>\n",
       "      <td>0.048732</td>\n",
       "    </tr>\n",
       "    <tr>\n",
       "      <th>Mo Sold</th>\n",
       "      <td>0.032735</td>\n",
       "    </tr>\n",
       "    <tr>\n",
       "      <th>Pool Area</th>\n",
       "      <td>0.023106</td>\n",
       "    </tr>\n",
       "    <tr>\n",
       "      <th>BsmtFin SF 2</th>\n",
       "      <td>0.016432</td>\n",
       "    </tr>\n",
       "    <tr>\n",
       "      <th>Bsmt Cond</th>\n",
       "      <td>0.015091</td>\n",
       "    </tr>\n",
       "    <tr>\n",
       "      <th>Misc Val</th>\n",
       "      <td>-0.007375</td>\n",
       "    </tr>\n",
       "    <tr>\n",
       "      <th>NoSeWa</th>\n",
       "      <td>-0.012256</td>\n",
       "    </tr>\n",
       "    <tr>\n",
       "      <th>Yr Sold</th>\n",
       "      <td>-0.015203</td>\n",
       "    </tr>\n",
       "    <tr>\n",
       "      <th>Garage Cond</th>\n",
       "      <td>-0.022659</td>\n",
       "    </tr>\n",
       "    <tr>\n",
       "      <th>Electrical</th>\n",
       "      <td>-0.031906</td>\n",
       "    </tr>\n",
       "    <tr>\n",
       "      <th>NoSewr</th>\n",
       "      <td>-0.034519</td>\n",
       "    </tr>\n",
       "    <tr>\n",
       "      <th>Low Qual Fin SF</th>\n",
       "      <td>-0.041594</td>\n",
       "    </tr>\n",
       "    <tr>\n",
       "      <th>Bsmt Half Bath</th>\n",
       "      <td>-0.045290</td>\n",
       "    </tr>\n",
       "    <tr>\n",
       "      <th>Id</th>\n",
       "      <td>-0.051398</td>\n",
       "    </tr>\n",
       "    <tr>\n",
       "      <th>Street</th>\n",
       "      <td>-0.069841</td>\n",
       "    </tr>\n",
       "    <tr>\n",
       "      <th>MS SubClass</th>\n",
       "      <td>-0.087335</td>\n",
       "    </tr>\n",
       "    <tr>\n",
       "      <th>BsmtFin Type 1</th>\n",
       "      <td>-0.088109</td>\n",
       "    </tr>\n",
       "    <tr>\n",
       "      <th>P</th>\n",
       "      <td>-0.090742</td>\n",
       "    </tr>\n",
       "    <tr>\n",
       "      <th>Overall Cond</th>\n",
       "      <td>-0.097019</td>\n",
       "    </tr>\n",
       "    <tr>\n",
       "      <th>Kitchen AbvGr</th>\n",
       "      <td>-0.125444</td>\n",
       "    </tr>\n",
       "    <tr>\n",
       "      <th>Enclosed Porch</th>\n",
       "      <td>-0.135656</td>\n",
       "    </tr>\n",
       "    <tr>\n",
       "      <th>PID</th>\n",
       "      <td>-0.255052</td>\n",
       "    </tr>\n",
       "    <tr>\n",
       "      <th>Bsmt Qual</th>\n",
       "      <td>-0.456979</td>\n",
       "    </tr>\n",
       "    <tr>\n",
       "      <th>Kitchen Qual</th>\n",
       "      <td>-0.540860</td>\n",
       "    </tr>\n",
       "  </tbody>\n",
       "</table>\n",
       "</div>"
      ],
      "text/plain": [
       "                 SalePrice\n",
       "SalePrice         1.000000\n",
       "Overall Qual      0.800207\n",
       "Gr Liv Area       0.697038\n",
       "Garage Area       0.649897\n",
       "Garage Cars       0.647781\n",
       "Total Bsmt SF     0.629303\n",
       "1st Flr SF        0.618486\n",
       "Year Built        0.571849\n",
       "Year Remod/Add    0.550370\n",
       "Full Bath         0.537969\n",
       "TotRms AbvGrd     0.504014\n",
       "Mas Vnr Area      0.503579\n",
       "Fireplaces        0.471093\n",
       "BsmtFin SF 1      0.423856\n",
       "Lot Area          0.340363\n",
       "Open Porch SF     0.333476\n",
       "Wood Deck SF      0.326490\n",
       "Lot Frontage      0.325129\n",
       "Y                 0.289210\n",
       "Bsmt Full Bath    0.283332\n",
       "Half Bath         0.283001\n",
       "Central Air       0.277378\n",
       "Garage Yr Blt     0.258441\n",
       "2nd Flr SF        0.248452\n",
       "Bsmt Unf SF       0.190861\n",
       "Condition 2       0.144711\n",
       "Bedroom AbvGr     0.137067\n",
       "Screen Porch      0.134581\n",
       "Bsmt Exposure     0.126460\n",
       "Bldg Type         0.065523\n",
       "Condition 1       0.059218\n",
       "3Ssn Porch        0.048732\n",
       "Mo Sold           0.032735\n",
       "Pool Area         0.023106\n",
       "BsmtFin SF 2      0.016432\n",
       "Bsmt Cond         0.015091\n",
       "Misc Val         -0.007375\n",
       "NoSeWa           -0.012256\n",
       "Yr Sold          -0.015203\n",
       "Garage Cond      -0.022659\n",
       "Electrical       -0.031906\n",
       "NoSewr           -0.034519\n",
       "Low Qual Fin SF  -0.041594\n",
       "Bsmt Half Bath   -0.045290\n",
       "Id               -0.051398\n",
       "Street           -0.069841\n",
       "MS SubClass      -0.087335\n",
       "BsmtFin Type 1   -0.088109\n",
       "P                -0.090742\n",
       "Overall Cond     -0.097019\n",
       "Kitchen AbvGr    -0.125444\n",
       "Enclosed Porch   -0.135656\n",
       "PID              -0.255052\n",
       "Bsmt Qual        -0.456979\n",
       "Kitchen Qual     -0.540860"
      ]
     },
     "execution_count": 5,
     "metadata": {},
     "output_type": "execute_result"
    }
   ],
   "source": [
    "df_train.corr()[['SalePrice']].sort_values(by='SalePrice',ascending=False)"
   ]
  },
  {
   "cell_type": "markdown",
   "id": "6500e144",
   "metadata": {},
   "source": [
    "From the numerical columns above, 'Id' and 'PID' are nomial data columns and need to be excluded from Sale Price prediction."
   ]
  },
  {
   "cell_type": "code",
   "execution_count": 6,
   "id": "3e5cf870",
   "metadata": {
    "scrolled": true
   },
   "outputs": [
    {
     "data": {
      "text/plain": [
       "['MS SubClass',\n",
       " 'Lot Frontage',\n",
       " 'Lot Area',\n",
       " 'Street',\n",
       " 'Condition 1',\n",
       " 'Condition 2',\n",
       " 'Bldg Type',\n",
       " 'Overall Qual',\n",
       " 'Overall Cond',\n",
       " 'Year Built',\n",
       " 'Year Remod/Add',\n",
       " 'Mas Vnr Area',\n",
       " 'Bsmt Qual',\n",
       " 'Bsmt Cond',\n",
       " 'Bsmt Exposure',\n",
       " 'BsmtFin Type 1',\n",
       " 'BsmtFin SF 1',\n",
       " 'BsmtFin SF 2',\n",
       " 'Bsmt Unf SF',\n",
       " 'Total Bsmt SF',\n",
       " 'Central Air',\n",
       " 'Electrical',\n",
       " '1st Flr SF',\n",
       " '2nd Flr SF',\n",
       " 'Low Qual Fin SF',\n",
       " 'Gr Liv Area',\n",
       " 'Bsmt Full Bath',\n",
       " 'Bsmt Half Bath',\n",
       " 'Full Bath',\n",
       " 'Half Bath',\n",
       " 'Bedroom AbvGr',\n",
       " 'Kitchen AbvGr',\n",
       " 'Kitchen Qual',\n",
       " 'TotRms AbvGrd',\n",
       " 'Fireplaces',\n",
       " 'Garage Yr Blt',\n",
       " 'Garage Cars',\n",
       " 'Garage Area',\n",
       " 'Garage Cond',\n",
       " 'Wood Deck SF',\n",
       " 'Open Porch SF',\n",
       " 'Enclosed Porch',\n",
       " '3Ssn Porch',\n",
       " 'Screen Porch',\n",
       " 'Pool Area',\n",
       " 'Misc Val',\n",
       " 'Mo Sold',\n",
       " 'Yr Sold',\n",
       " 'P',\n",
       " 'Y',\n",
       " 'NoSeWa',\n",
       " 'NoSewr']"
      ]
     },
     "execution_count": 6,
     "metadata": {},
     "output_type": "execute_result"
    }
   ],
   "source": [
    "features = list(df_train.corr()[['SalePrice']].drop(['SalePrice','Id','PID']).index)\n",
    "features"
   ]
  },
  {
   "cell_type": "markdown",
   "id": "97299956",
   "metadata": {},
   "source": [
    "# Part I"
   ]
  },
  {
   "cell_type": "markdown",
   "id": "375c6f3f",
   "metadata": {},
   "source": [
    "The goal is to run all the features through the lasso regression model, and identify the features that have an effect on SalePrice. The lasso regression helps in getting rid of the features that do not affect the SalePrice. This will help in reducing the complexity of the model, thereby, reducing the variance. "
   ]
  },
  {
   "cell_type": "markdown",
   "id": "975d3b70",
   "metadata": {},
   "source": [
    "## Model Prep"
   ]
  },
  {
   "cell_type": "code",
   "execution_count": 7,
   "id": "fe05429b",
   "metadata": {},
   "outputs": [],
   "source": [
    "X = df_train[features]\n",
    "y = df_train['SalePrice']"
   ]
  },
  {
   "cell_type": "code",
   "execution_count": 8,
   "id": "e31e4e0c",
   "metadata": {},
   "outputs": [],
   "source": [
    "X_train, X_test, y_train, y_test = train_test_split(X,y,random_state=42)"
   ]
  },
  {
   "cell_type": "markdown",
   "id": "9ab6806b",
   "metadata": {},
   "source": [
    "## Scaling Features"
   ]
  },
  {
   "cell_type": "code",
   "execution_count": 9,
   "id": "3f452467",
   "metadata": {},
   "outputs": [],
   "source": [
    "ss = StandardScaler()"
   ]
  },
  {
   "cell_type": "code",
   "execution_count": 10,
   "id": "20af6f51",
   "metadata": {},
   "outputs": [],
   "source": [
    "X_train_sc = ss.fit_transform(X_train)\n",
    "X_test_sc = ss.transform(X_test)"
   ]
  },
  {
   "cell_type": "markdown",
   "id": "f62a7f23",
   "metadata": {},
   "source": [
    "## Power Transforming the y"
   ]
  },
  {
   "cell_type": "markdown",
   "id": "84e47542",
   "metadata": {},
   "source": [
    "As mentioned before, the target variable 'SalePrice' is not normally distributed, it is skewed to the right. The 'SalePrice' variable is tehere being power transformed. This will make the distribution of the variable more Gaussian. In other words, this will stabilize the variance in target variable. "
   ]
  },
  {
   "cell_type": "code",
   "execution_count": 11,
   "id": "172ea6a5",
   "metadata": {},
   "outputs": [],
   "source": [
    "pt = PowerTransformer()"
   ]
  },
  {
   "cell_type": "code",
   "execution_count": 12,
   "id": "cb2f2411",
   "metadata": {},
   "outputs": [],
   "source": [
    "y_train_pt = pt.fit_transform(y_train.to_frame())"
   ]
  },
  {
   "cell_type": "code",
   "execution_count": 13,
   "id": "80e98c87",
   "metadata": {},
   "outputs": [],
   "source": [
    "y_test_pt = pt.transform(y_test.to_frame())"
   ]
  },
  {
   "cell_type": "markdown",
   "id": "26d02070",
   "metadata": {},
   "source": [
    "## Instantiating the Model"
   ]
  },
  {
   "cell_type": "code",
   "execution_count": 14,
   "id": "5045d3ab",
   "metadata": {},
   "outputs": [],
   "source": [
    "l_alphas = np.logspace(-3,0,100)"
   ]
  },
  {
   "cell_type": "code",
   "execution_count": 15,
   "id": "c5712759",
   "metadata": {},
   "outputs": [],
   "source": [
    "lasso_cv = LassoCV(alphas = l_alphas)"
   ]
  },
  {
   "cell_type": "code",
   "execution_count": 16,
   "id": "a95249be",
   "metadata": {},
   "outputs": [],
   "source": [
    "alphas = np.logspace(0,5,100)"
   ]
  },
  {
   "cell_type": "code",
   "execution_count": 17,
   "id": "521b0fb3",
   "metadata": {},
   "outputs": [],
   "source": [
    "ridge_cv = RidgeCV(alphas = alphas, cv=5)"
   ]
  },
  {
   "cell_type": "markdown",
   "id": "a820872e",
   "metadata": {},
   "source": [
    "## Model Validation"
   ]
  },
  {
   "cell_type": "code",
   "execution_count": 18,
   "id": "6bb75513",
   "metadata": {},
   "outputs": [
    {
     "name": "stderr",
     "output_type": "stream",
     "text": [
      "/Users/ankitapatil/opt/anaconda3/lib/python3.8/site-packages/sklearn/utils/validation.py:63: DataConversionWarning: A column-vector y was passed when a 1d array was expected. Please change the shape of y to (n_samples, ), for example using ravel().\n",
      "  return f(*args, **kwargs)\n",
      "/Users/ankitapatil/opt/anaconda3/lib/python3.8/site-packages/sklearn/utils/validation.py:63: DataConversionWarning: A column-vector y was passed when a 1d array was expected. Please change the shape of y to (n_samples, ), for example using ravel().\n",
      "  return f(*args, **kwargs)\n",
      "/Users/ankitapatil/opt/anaconda3/lib/python3.8/site-packages/sklearn/utils/validation.py:63: DataConversionWarning: A column-vector y was passed when a 1d array was expected. Please change the shape of y to (n_samples, ), for example using ravel().\n",
      "  return f(*args, **kwargs)\n",
      "/Users/ankitapatil/opt/anaconda3/lib/python3.8/site-packages/sklearn/utils/validation.py:63: DataConversionWarning: A column-vector y was passed when a 1d array was expected. Please change the shape of y to (n_samples, ), for example using ravel().\n",
      "  return f(*args, **kwargs)\n",
      "/Users/ankitapatil/opt/anaconda3/lib/python3.8/site-packages/sklearn/utils/validation.py:63: DataConversionWarning: A column-vector y was passed when a 1d array was expected. Please change the shape of y to (n_samples, ), for example using ravel().\n",
      "  return f(*args, **kwargs)\n"
     ]
    },
    {
     "data": {
      "text/plain": [
       "0.8329928369633987"
      ]
     },
     "execution_count": 18,
     "metadata": {},
     "output_type": "execute_result"
    }
   ],
   "source": [
    "cross_val_score(lasso_cv,X_train_sc,y_train_pt).mean()"
   ]
  },
  {
   "cell_type": "code",
   "execution_count": 19,
   "id": "2844fdb6",
   "metadata": {},
   "outputs": [
    {
     "data": {
      "text/plain": [
       "0.83275244839141"
      ]
     },
     "execution_count": 19,
     "metadata": {},
     "output_type": "execute_result"
    }
   ],
   "source": [
    "cross_val_score(ridge_cv,X_train_sc,y_train_pt).mean()"
   ]
  },
  {
   "cell_type": "markdown",
   "id": "9c9a1f57",
   "metadata": {},
   "source": [
    "## Fitting the Model"
   ]
  },
  {
   "cell_type": "code",
   "execution_count": 20,
   "id": "328db13e",
   "metadata": {
    "scrolled": true
   },
   "outputs": [
    {
     "name": "stderr",
     "output_type": "stream",
     "text": [
      "/Users/ankitapatil/opt/anaconda3/lib/python3.8/site-packages/sklearn/utils/validation.py:63: DataConversionWarning: A column-vector y was passed when a 1d array was expected. Please change the shape of y to (n_samples, ), for example using ravel().\n",
      "  return f(*args, **kwargs)\n"
     ]
    },
    {
     "data": {
      "text/plain": [
       "LassoCV(alphas=array([0.001     , 0.00107227, 0.00114976, 0.00123285, 0.00132194,\n",
       "       0.00141747, 0.00151991, 0.00162975, 0.00174753, 0.00187382,\n",
       "       0.00200923, 0.00215443, 0.00231013, 0.00247708, 0.00265609,\n",
       "       0.00284804, 0.00305386, 0.00327455, 0.00351119, 0.00376494,\n",
       "       0.00403702, 0.00432876, 0.00464159, 0.00497702, 0.0053367 ,\n",
       "       0.00572237, 0.00613591, 0.00657933, 0.0070548 , 0.00756463,\n",
       "       0.008...\n",
       "       0.09326033, 0.1       , 0.10722672, 0.1149757 , 0.12328467,\n",
       "       0.13219411, 0.14174742, 0.15199111, 0.16297508, 0.17475284,\n",
       "       0.18738174, 0.2009233 , 0.21544347, 0.23101297, 0.24770764,\n",
       "       0.26560878, 0.28480359, 0.30538555, 0.32745492, 0.35111917,\n",
       "       0.37649358, 0.40370173, 0.43287613, 0.46415888, 0.49770236,\n",
       "       0.53366992, 0.57223677, 0.61359073, 0.65793322, 0.70548023,\n",
       "       0.75646333, 0.81113083, 0.869749  , 0.93260335, 1.        ]))"
      ]
     },
     "execution_count": 20,
     "metadata": {},
     "output_type": "execute_result"
    }
   ],
   "source": [
    "lasso_cv.fit(X_train_sc,y_train_pt)"
   ]
  },
  {
   "cell_type": "code",
   "execution_count": 21,
   "id": "3788a171",
   "metadata": {},
   "outputs": [
    {
     "data": {
      "text/plain": [
       "0.8747447164589245"
      ]
     },
     "execution_count": 21,
     "metadata": {},
     "output_type": "execute_result"
    }
   ],
   "source": [
    "lasso_cv.score(X_train_sc,y_train_pt)"
   ]
  },
  {
   "cell_type": "code",
   "execution_count": 22,
   "id": "dfd3986d",
   "metadata": {},
   "outputs": [
    {
     "data": {
      "text/plain": [
       "0.8752856101589311"
      ]
     },
     "execution_count": 22,
     "metadata": {},
     "output_type": "execute_result"
    }
   ],
   "source": [
    "lasso_cv.score(X_test_sc,y_test_pt)"
   ]
  },
  {
   "cell_type": "code",
   "execution_count": 23,
   "id": "f039b7d5",
   "metadata": {},
   "outputs": [
    {
     "data": {
      "text/plain": [
       "RidgeCV(alphas=array([1.00000000e+00, 1.12332403e+00, 1.26185688e+00, 1.41747416e+00,\n",
       "       1.59228279e+00, 1.78864953e+00, 2.00923300e+00, 2.25701972e+00,\n",
       "       2.53536449e+00, 2.84803587e+00, 3.19926714e+00, 3.59381366e+00,\n",
       "       4.03701726e+00, 4.53487851e+00, 5.09413801e+00, 5.72236766e+00,\n",
       "       6.42807312e+00, 7.22080902e+00, 8.11130831e+00, 9.11162756e+00,\n",
       "       1.02353102e+01, 1.14975700e+0...\n",
       "       6.89261210e+03, 7.74263683e+03, 8.69749003e+03, 9.77009957e+03,\n",
       "       1.09749877e+04, 1.23284674e+04, 1.38488637e+04, 1.55567614e+04,\n",
       "       1.74752840e+04, 1.96304065e+04, 2.20513074e+04, 2.47707636e+04,\n",
       "       2.78255940e+04, 3.12571585e+04, 3.51119173e+04, 3.94420606e+04,\n",
       "       4.43062146e+04, 4.97702356e+04, 5.59081018e+04, 6.28029144e+04,\n",
       "       7.05480231e+04, 7.92482898e+04, 8.90215085e+04, 1.00000000e+05]),\n",
       "        cv=5)"
      ]
     },
     "execution_count": 23,
     "metadata": {},
     "output_type": "execute_result"
    }
   ],
   "source": [
    "ridge_cv.fit(X_train_sc,y_train_pt)"
   ]
  },
  {
   "cell_type": "code",
   "execution_count": 24,
   "id": "45d5ebae",
   "metadata": {},
   "outputs": [
    {
     "data": {
      "text/plain": [
       "0.8729513892613054"
      ]
     },
     "execution_count": 24,
     "metadata": {},
     "output_type": "execute_result"
    }
   ],
   "source": [
    "ridge_cv.score(X_train_sc,y_train_pt)"
   ]
  },
  {
   "cell_type": "code",
   "execution_count": 25,
   "id": "44e21f5e",
   "metadata": {},
   "outputs": [
    {
     "data": {
      "text/plain": [
       "0.8705475487178133"
      ]
     },
     "execution_count": 25,
     "metadata": {},
     "output_type": "execute_result"
    }
   ],
   "source": [
    "ridge_cv.score(X_test_sc,y_test_pt)"
   ]
  },
  {
   "cell_type": "markdown",
   "id": "e98ce749",
   "metadata": {},
   "source": [
    "As seen above, there is a clear dictinction in cross_val_score of Lasso and Ridge model with its train and test scores. This signifies High Variance in the model.  "
   ]
  },
  {
   "cell_type": "code",
   "execution_count": 26,
   "id": "8b41844a",
   "metadata": {},
   "outputs": [
    {
     "data": {
      "text/plain": [
       "array([-0.0257819 ,  0.00124848,  0.03748224, -0.03039045,  0.        ,\n",
       "        0.00348526,  0.04132414,  0.3270184 ,  0.09102201,  0.16416249,\n",
       "        0.07135944,  0.00332296, -0.        , -0.        ,  0.00802081,\n",
       "        0.        ,  0.03809177,  0.        , -0.        ,  0.05196452,\n",
       "        0.04328498, -0.00792221,  0.02641354,  0.        , -0.00103197,\n",
       "        0.19950191,  0.07096183,  0.00623124,  0.0394405 ,  0.        ,\n",
       "        0.        , -0.00286201, -0.03327349,  0.03978996,  0.06888045,\n",
       "        0.        ,  0.09446476,  0.        ,  0.        ,  0.0239335 ,\n",
       "        0.00759479,  0.01768099,  0.00923665,  0.05393415, -0.04225857,\n",
       "       -0.067709  ,  0.00293976, -0.0044708 ,  0.00765586,  0.04925671,\n",
       "        0.        ,  0.        ])"
      ]
     },
     "execution_count": 26,
     "metadata": {},
     "output_type": "execute_result"
    }
   ],
   "source": [
    "lasso_cv.coef_"
   ]
  },
  {
   "cell_type": "code",
   "execution_count": 27,
   "id": "011bdfb9",
   "metadata": {},
   "outputs": [],
   "source": [
    "lasso_coefs = pd.Series(lasso_cv.coef_,X_train.columns)"
   ]
  },
  {
   "cell_type": "code",
   "execution_count": 79,
   "id": "ba855099",
   "metadata": {},
   "outputs": [
    {
     "data": {
      "text/plain": [
       "<AxesSubplot:xlabel=' Scaled Change in Sale Price', ylabel='Features'>"
      ]
     },
     "execution_count": 79,
     "metadata": {},
     "output_type": "execute_result"
    },
    {
     "data": {
      "image/png": "[encoded data removed]",
      "text/plain": [
       "<Figure size 720x576 with 1 Axes>"
      ]
     },
     "metadata": {
      "needs_background": "light"
     },
     "output_type": "display_data"
    }
   ],
   "source": [
    "plt.figure(figsize=(10,8))\n",
    "plt.xlabel(' Scaled Change in Sale Price')\n",
    "plt.ylabel('Features')\n",
    "lasso_coefs[lasso_coefs != 0].sort_values().plot.barh()"
   ]
  },
  {
   "cell_type": "markdown",
   "id": "d331dca4",
   "metadata": {},
   "source": [
    "The above depicted barchart shows the columns that affect the SalePrice and that will help correctlly predict Sale Price.These features would be used to create a new model and to predict Sale Price."
   ]
  },
  {
   "cell_type": "markdown",
   "id": "cacd3030",
   "metadata": {},
   "source": [
    "# Part II"
   ]
  },
  {
   "cell_type": "markdown",
   "id": "e6251e5c",
   "metadata": {},
   "source": [
    "## Model Prep"
   ]
  },
  {
   "cell_type": "code",
   "execution_count": 29,
   "id": "910e227b",
   "metadata": {
    "scrolled": true
   },
   "outputs": [
    {
     "data": {
      "text/plain": [
       "['MS SubClass',\n",
       " 'Lot Frontage',\n",
       " 'Lot Area',\n",
       " 'Street',\n",
       " 'Condition 2',\n",
       " 'Bldg Type',\n",
       " 'Overall Qual',\n",
       " 'Overall Cond',\n",
       " 'Year Built',\n",
       " 'Year Remod/Add',\n",
       " 'Mas Vnr Area',\n",
       " 'Bsmt Exposure',\n",
       " 'BsmtFin SF 1',\n",
       " 'Total Bsmt SF',\n",
       " 'Central Air',\n",
       " 'Electrical',\n",
       " '1st Flr SF',\n",
       " 'Low Qual Fin SF',\n",
       " 'Gr Liv Area',\n",
       " 'Bsmt Full Bath',\n",
       " 'Bsmt Half Bath',\n",
       " 'Full Bath',\n",
       " 'Kitchen AbvGr',\n",
       " 'Kitchen Qual',\n",
       " 'TotRms AbvGrd',\n",
       " 'Fireplaces',\n",
       " 'Garage Cars',\n",
       " 'Wood Deck SF',\n",
       " 'Open Porch SF',\n",
       " 'Enclosed Porch',\n",
       " '3Ssn Porch',\n",
       " 'Screen Porch',\n",
       " 'Pool Area',\n",
       " 'Misc Val',\n",
       " 'Mo Sold',\n",
       " 'Yr Sold',\n",
       " 'P',\n",
       " 'Y']"
      ]
     },
     "execution_count": 29,
     "metadata": {},
     "output_type": "execute_result"
    }
   ],
   "source": [
    "features_from_lasso = list(lasso_coefs[lasso_coefs != 0].index)\n",
    "features_from_lasso"
   ]
  },
  {
   "cell_type": "code",
   "execution_count": 30,
   "id": "292fed95",
   "metadata": {},
   "outputs": [],
   "source": [
    "X = df_train[features_from_lasso]\n",
    "y = df_train['SalePrice']"
   ]
  },
  {
   "cell_type": "code",
   "execution_count": 31,
   "id": "74d22a44",
   "metadata": {},
   "outputs": [],
   "source": [
    "X_train, X_test, y_train, y_test = train_test_split(X,y,random_state=42)"
   ]
  },
  {
   "cell_type": "markdown",
   "id": "86a60e10",
   "metadata": {},
   "source": [
    "## Scaling Features"
   ]
  },
  {
   "cell_type": "code",
   "execution_count": 32,
   "id": "ed81d184",
   "metadata": {},
   "outputs": [],
   "source": [
    "ss = StandardScaler()"
   ]
  },
  {
   "cell_type": "code",
   "execution_count": 33,
   "id": "15e81a34",
   "metadata": {},
   "outputs": [],
   "source": [
    "X_train_sc = ss.fit_transform(X_train)\n",
    "X_test_sc = ss.transform(X_test)"
   ]
  },
  {
   "cell_type": "markdown",
   "id": "d11b0e7b",
   "metadata": {},
   "source": [
    "## Power Transforming the y"
   ]
  },
  {
   "cell_type": "code",
   "execution_count": 34,
   "id": "c9e9b4be",
   "metadata": {},
   "outputs": [],
   "source": [
    "pt = PowerTransformer()"
   ]
  },
  {
   "cell_type": "code",
   "execution_count": 35,
   "id": "2b3b82f6",
   "metadata": {},
   "outputs": [],
   "source": [
    "y_train_pt = pt.fit_transform(y_train.to_frame())\n",
    "y_test_pt = pt.transform(y_test.to_frame())"
   ]
  },
  {
   "cell_type": "markdown",
   "id": "86ef85c0",
   "metadata": {},
   "source": [
    "##  Model Instantiation"
   ]
  },
  {
   "cell_type": "code",
   "execution_count": 36,
   "id": "a03e61c9",
   "metadata": {},
   "outputs": [],
   "source": [
    "lr = LinearRegression()"
   ]
  },
  {
   "cell_type": "code",
   "execution_count": 37,
   "id": "1c558d4e",
   "metadata": {},
   "outputs": [],
   "source": [
    "l_alphas = np.logspace(-3,0,100)"
   ]
  },
  {
   "cell_type": "code",
   "execution_count": 38,
   "id": "efc3dfe8",
   "metadata": {},
   "outputs": [],
   "source": [
    "lasso_cv = LassoCV(alphas = l_alphas)"
   ]
  },
  {
   "cell_type": "code",
   "execution_count": 39,
   "id": "afb904c6",
   "metadata": {},
   "outputs": [],
   "source": [
    "alphas = np.logspace(0,5,100)"
   ]
  },
  {
   "cell_type": "code",
   "execution_count": 40,
   "id": "a880738a",
   "metadata": {},
   "outputs": [],
   "source": [
    "ridge_cv = RidgeCV(alphas=alphas, cv=5)"
   ]
  },
  {
   "cell_type": "markdown",
   "id": "10b4143b",
   "metadata": {},
   "source": [
    "## Model Validation"
   ]
  },
  {
   "cell_type": "code",
   "execution_count": 41,
   "id": "7f59b9a7",
   "metadata": {},
   "outputs": [
    {
     "data": {
      "text/plain": [
       "0.837322344232118"
      ]
     },
     "execution_count": 41,
     "metadata": {},
     "output_type": "execute_result"
    }
   ],
   "source": [
    "cross_val_score(lr, X_train_sc,y_train_pt).mean()"
   ]
  },
  {
   "cell_type": "code",
   "execution_count": 42,
   "id": "22b9262a",
   "metadata": {},
   "outputs": [
    {
     "name": "stderr",
     "output_type": "stream",
     "text": [
      "/Users/ankitapatil/opt/anaconda3/lib/python3.8/site-packages/sklearn/utils/validation.py:63: DataConversionWarning: A column-vector y was passed when a 1d array was expected. Please change the shape of y to (n_samples, ), for example using ravel().\n",
      "  return f(*args, **kwargs)\n",
      "/Users/ankitapatil/opt/anaconda3/lib/python3.8/site-packages/sklearn/utils/validation.py:63: DataConversionWarning: A column-vector y was passed when a 1d array was expected. Please change the shape of y to (n_samples, ), for example using ravel().\n",
      "  return f(*args, **kwargs)\n",
      "/Users/ankitapatil/opt/anaconda3/lib/python3.8/site-packages/sklearn/utils/validation.py:63: DataConversionWarning: A column-vector y was passed when a 1d array was expected. Please change the shape of y to (n_samples, ), for example using ravel().\n",
      "  return f(*args, **kwargs)\n",
      "/Users/ankitapatil/opt/anaconda3/lib/python3.8/site-packages/sklearn/utils/validation.py:63: DataConversionWarning: A column-vector y was passed when a 1d array was expected. Please change the shape of y to (n_samples, ), for example using ravel().\n",
      "  return f(*args, **kwargs)\n",
      "/Users/ankitapatil/opt/anaconda3/lib/python3.8/site-packages/sklearn/utils/validation.py:63: DataConversionWarning: A column-vector y was passed when a 1d array was expected. Please change the shape of y to (n_samples, ), for example using ravel().\n",
      "  return f(*args, **kwargs)\n"
     ]
    },
    {
     "data": {
      "text/plain": [
       "0.8344876343548805"
      ]
     },
     "execution_count": 42,
     "metadata": {},
     "output_type": "execute_result"
    }
   ],
   "source": [
    "cross_val_score(lasso_cv,X_train_sc,y_train_pt).mean()"
   ]
  },
  {
   "cell_type": "code",
   "execution_count": 43,
   "id": "8a9b4cdd",
   "metadata": {},
   "outputs": [
    {
     "data": {
      "text/plain": [
       "0.8346558725401731"
      ]
     },
     "execution_count": 43,
     "metadata": {},
     "output_type": "execute_result"
    }
   ],
   "source": [
    "cross_val_score(ridge_cv,X_train_sc,y_train_pt).mean()"
   ]
  },
  {
   "cell_type": "code",
   "execution_count": null,
   "id": "00958c12",
   "metadata": {},
   "outputs": [],
   "source": []
  },
  {
   "cell_type": "markdown",
   "id": "eee380f9",
   "metadata": {},
   "source": [
    "## Model Fitting"
   ]
  },
  {
   "cell_type": "markdown",
   "id": "c36e5d9a",
   "metadata": {},
   "source": [
    "**Linear Regression**"
   ]
  },
  {
   "cell_type": "code",
   "execution_count": 44,
   "id": "b64c3cff",
   "metadata": {},
   "outputs": [
    {
     "data": {
      "text/plain": [
       "LinearRegression()"
      ]
     },
     "execution_count": 44,
     "metadata": {},
     "output_type": "execute_result"
    }
   ],
   "source": [
    "lr.fit(X_train_sc,y_train_pt)"
   ]
  },
  {
   "cell_type": "code",
   "execution_count": 45,
   "id": "18ac3c01",
   "metadata": {},
   "outputs": [
    {
     "data": {
      "text/plain": [
       "0.8761388414979953"
      ]
     },
     "execution_count": 45,
     "metadata": {},
     "output_type": "execute_result"
    }
   ],
   "source": [
    "lr.score(X_train_sc,y_train_pt)"
   ]
  },
  {
   "cell_type": "code",
   "execution_count": 46,
   "id": "8ec321b4",
   "metadata": {},
   "outputs": [
    {
     "data": {
      "text/plain": [
       "0.8747423985286761"
      ]
     },
     "execution_count": 46,
     "metadata": {},
     "output_type": "execute_result"
    }
   ],
   "source": [
    "lr.score(X_test_sc,y_test_pt)"
   ]
  },
  {
   "cell_type": "markdown",
   "id": "39d3d0fd",
   "metadata": {},
   "source": [
    "**Lasso Regression**"
   ]
  },
  {
   "cell_type": "code",
   "execution_count": 47,
   "id": "a685ab35",
   "metadata": {},
   "outputs": [
    {
     "name": "stderr",
     "output_type": "stream",
     "text": [
      "/Users/ankitapatil/opt/anaconda3/lib/python3.8/site-packages/sklearn/utils/validation.py:63: DataConversionWarning: A column-vector y was passed when a 1d array was expected. Please change the shape of y to (n_samples, ), for example using ravel().\n",
      "  return f(*args, **kwargs)\n"
     ]
    },
    {
     "data": {
      "text/plain": [
       "LassoCV(alphas=array([0.001     , 0.00107227, 0.00114976, 0.00123285, 0.00132194,\n",
       "       0.00141747, 0.00151991, 0.00162975, 0.00174753, 0.00187382,\n",
       "       0.00200923, 0.00215443, 0.00231013, 0.00247708, 0.00265609,\n",
       "       0.00284804, 0.00305386, 0.00327455, 0.00351119, 0.00376494,\n",
       "       0.00403702, 0.00432876, 0.00464159, 0.00497702, 0.0053367 ,\n",
       "       0.00572237, 0.00613591, 0.00657933, 0.0070548 , 0.00756463,\n",
       "       0.008...\n",
       "       0.09326033, 0.1       , 0.10722672, 0.1149757 , 0.12328467,\n",
       "       0.13219411, 0.14174742, 0.15199111, 0.16297508, 0.17475284,\n",
       "       0.18738174, 0.2009233 , 0.21544347, 0.23101297, 0.24770764,\n",
       "       0.26560878, 0.28480359, 0.30538555, 0.32745492, 0.35111917,\n",
       "       0.37649358, 0.40370173, 0.43287613, 0.46415888, 0.49770236,\n",
       "       0.53366992, 0.57223677, 0.61359073, 0.65793322, 0.70548023,\n",
       "       0.75646333, 0.81113083, 0.869749  , 0.93260335, 1.        ]))"
      ]
     },
     "execution_count": 47,
     "metadata": {},
     "output_type": "execute_result"
    }
   ],
   "source": [
    "lasso_cv.fit(X_train_sc,y_train_pt)"
   ]
  },
  {
   "cell_type": "code",
   "execution_count": 48,
   "id": "7aa3ea66",
   "metadata": {},
   "outputs": [
    {
     "data": {
      "text/plain": [
       "0.8757932756142075"
      ]
     },
     "execution_count": 48,
     "metadata": {},
     "output_type": "execute_result"
    }
   ],
   "source": [
    "lasso_cv.score(X_train_sc,y_train_pt)"
   ]
  },
  {
   "cell_type": "code",
   "execution_count": 49,
   "id": "442bda6b",
   "metadata": {},
   "outputs": [
    {
     "data": {
      "text/plain": [
       "0.8753085405904973"
      ]
     },
     "execution_count": 49,
     "metadata": {},
     "output_type": "execute_result"
    }
   ],
   "source": [
    "lasso_cv.score(X_test_sc,y_test_pt)"
   ]
  },
  {
   "cell_type": "markdown",
   "id": "97d55b01",
   "metadata": {},
   "source": [
    "**Ridge Regression**"
   ]
  },
  {
   "cell_type": "code",
   "execution_count": 50,
   "id": "2b51d008",
   "metadata": {},
   "outputs": [
    {
     "data": {
      "text/plain": [
       "RidgeCV(alphas=array([1.00000000e+00, 1.12332403e+00, 1.26185688e+00, 1.41747416e+00,\n",
       "       1.59228279e+00, 1.78864953e+00, 2.00923300e+00, 2.25701972e+00,\n",
       "       2.53536449e+00, 2.84803587e+00, 3.19926714e+00, 3.59381366e+00,\n",
       "       4.03701726e+00, 4.53487851e+00, 5.09413801e+00, 5.72236766e+00,\n",
       "       6.42807312e+00, 7.22080902e+00, 8.11130831e+00, 9.11162756e+00,\n",
       "       1.02353102e+01, 1.14975700e+0...\n",
       "       6.89261210e+03, 7.74263683e+03, 8.69749003e+03, 9.77009957e+03,\n",
       "       1.09749877e+04, 1.23284674e+04, 1.38488637e+04, 1.55567614e+04,\n",
       "       1.74752840e+04, 1.96304065e+04, 2.20513074e+04, 2.47707636e+04,\n",
       "       2.78255940e+04, 3.12571585e+04, 3.51119173e+04, 3.94420606e+04,\n",
       "       4.43062146e+04, 4.97702356e+04, 5.59081018e+04, 6.28029144e+04,\n",
       "       7.05480231e+04, 7.92482898e+04, 8.90215085e+04, 1.00000000e+05]),\n",
       "        cv=5)"
      ]
     },
     "execution_count": 50,
     "metadata": {},
     "output_type": "execute_result"
    }
   ],
   "source": [
    "ridge_cv.fit(X_train_sc,y_train_pt)"
   ]
  },
  {
   "cell_type": "code",
   "execution_count": 51,
   "id": "1bb4a4f2",
   "metadata": {},
   "outputs": [
    {
     "data": {
      "text/plain": [
       "0.8734573886881775"
      ]
     },
     "execution_count": 51,
     "metadata": {},
     "output_type": "execute_result"
    }
   ],
   "source": [
    "ridge_cv.score(X_train_sc,y_train_pt)"
   ]
  },
  {
   "cell_type": "code",
   "execution_count": 52,
   "id": "5286ae11",
   "metadata": {},
   "outputs": [
    {
     "data": {
      "text/plain": [
       "0.8704698334344497"
      ]
     },
     "execution_count": 52,
     "metadata": {},
     "output_type": "execute_result"
    }
   ],
   "source": [
    "ridge_cv.score(X_test_sc,y_test_pt)"
   ]
  },
  {
   "cell_type": "markdown",
   "id": "0bd2dbd0",
   "metadata": {},
   "source": [
    "Based on the cross_val_scores alone, the Lasso Regression model has performed better on the train data. The train and the test scores are within 5% of the cross_val_score. Absence of high variance also signifies that the model is not overfit to the train data, and will be able to make predictions on unseen data. \n",
    "\n",
    "Compared to other models, Lasso regression model fits the data best, and will be used for predicion. "
   ]
  },
  {
   "cell_type": "code",
   "execution_count": 53,
   "id": "da1c4e7c",
   "metadata": {},
   "outputs": [],
   "source": [
    "lasso_pred = lasso_cv.predict(X_test_sc)"
   ]
  },
  {
   "cell_type": "code",
   "execution_count": 54,
   "id": "4d90f7fb",
   "metadata": {},
   "outputs": [],
   "source": [
    "lasso_pred_inverse = pt.inverse_transform(lasso_pred.reshape(-1,1))"
   ]
  },
  {
   "cell_type": "code",
   "execution_count": 55,
   "id": "21fff505",
   "metadata": {},
   "outputs": [
    {
     "data": {
      "text/plain": [
       "array([ 7.20535798e+03,  4.45641903e+03, -1.81939892e+04,  1.13732504e+04,\n",
       "        4.06535292e+03,  5.55681346e+04, -1.69695618e+04,  6.00105368e+04,\n",
       "       -1.49169863e+03,  9.19233439e+03, -4.41839426e+03,  2.66159569e+04,\n",
       "        3.98270278e+01, -3.90685760e+03, -1.74114125e+04, -7.56637729e+02,\n",
       "       -1.33365873e+04,  1.64509672e+04,  8.99445552e+03, -1.08745815e+04,\n",
       "       -8.83402400e+03,  1.35093659e+04,  2.51506411e+03,  2.04904494e+04,\n",
       "       -8.89898649e+02,  2.72415485e+04, -6.20708225e+03,  1.41105032e+04,\n",
       "        1.91225138e+04,  1.07089837e+04,  2.51233523e+04, -6.32069747e+02,\n",
       "       -3.16829940e+02, -1.43112073e+04, -8.33953316e+03, -7.77216944e+03,\n",
       "       -3.69285681e+04, -1.49971099e+04,  1.29828348e+05, -3.26721435e+03,\n",
       "       -7.61297218e+03, -2.24444547e+04,  1.49806656e+04, -6.78465082e+03,\n",
       "       -4.19138430e+03,  4.96571144e+03,  4.42751966e+03,  4.58530148e+03,\n",
       "        2.69040186e+04,  1.24283671e+04,  7.61351048e+04, -3.84500975e+04,\n",
       "       -4.59435571e+03,  6.93080659e+04, -1.17805949e+04, -2.02170666e+04,\n",
       "        1.20515673e+04, -1.65743997e+04,  2.02090625e+03,  4.09740974e+03,\n",
       "       -7.72717921e+03,  3.50365018e+03, -2.23614000e+04,  5.54974668e+03,\n",
       "        1.96747716e+04, -1.80208074e+03,  8.89870080e+03,  7.22705232e+04,\n",
       "       -2.94685694e+03,  1.57196133e+04, -2.99590998e+04, -1.77833060e+04,\n",
       "        5.14008880e+04,  4.68566917e+04,  3.79820442e+04, -2.01674783e+04,\n",
       "       -1.96987627e+04,  1.44460428e+04, -2.93029251e+04, -7.65515332e+03,\n",
       "        1.11766155e+04, -1.75514699e+04,  1.08666345e+05, -1.48136492e+02,\n",
       "       -1.85241209e+03,  1.67611100e+03,  1.39519628e+04, -2.21996340e+04,\n",
       "       -1.67681297e+04, -4.26532743e+03, -2.13235382e+04, -1.98946880e+04,\n",
       "       -1.08401857e+04, -7.73411585e+03, -8.19350735e+03, -1.05280390e+04,\n",
       "       -9.46609760e+03,  2.20904473e+04, -2.00594740e+04, -4.45121330e+03,\n",
       "        9.73038214e+02,  5.43579345e+04,  5.87545209e+03,  2.28577870e+04,\n",
       "        3.31252859e+03,  1.37838586e+04,  1.36097662e+04, -3.81738999e+03,\n",
       "       -5.22731963e+03,  1.11294058e+04, -4.97872965e+04,  3.38910128e+02,\n",
       "       -3.14698079e+03,  4.06095510e+04,  1.32400607e+04, -2.17025361e+04,\n",
       "        1.77483511e+04,  6.81249232e+03, -5.82333775e+03, -1.70321535e+04,\n",
       "       -2.00761759e+04,  1.06603366e+04,  8.62574256e+02,  5.35957800e+03,\n",
       "       -1.14763150e+04, -7.96790039e+03,  2.83789304e+04,  2.97019333e+04,\n",
       "       -7.55843679e+03,  1.14699660e+03, -6.13080435e+03,  1.31766648e+04,\n",
       "        1.57922082e+04,  5.17501544e+04, -1.36157566e+04,  5.67428870e+03,\n",
       "        1.53966188e+04,  4.26077326e+04,  1.72257912e+04,  2.75526478e+04,\n",
       "        9.85362343e+03, -1.18041420e+04,  1.29900940e+04, -9.62591890e+03,\n",
       "       -6.36278732e+03,  3.17849973e+03,  2.44628419e+04, -2.81963901e+04,\n",
       "       -5.43930956e+03, -2.01142303e+04, -4.38528444e+02, -1.82270707e+02,\n",
       "        2.16118573e+04,  5.29092812e+04, -2.14953559e+04,  1.89034949e+03,\n",
       "       -4.75748085e+03, -1.62557247e+04, -4.28013720e+03, -4.32835127e+04,\n",
       "        5.91971466e+02,  1.14529798e+04,  7.90731790e+02, -1.33984773e+04,\n",
       "       -2.45585158e+04,  1.60483872e+04,  1.78908477e+04,  2.16632614e+03,\n",
       "       -2.90886143e+04, -2.18634006e+04,  3.36159202e+04,  1.24937238e+03,\n",
       "       -1.58002554e+04,  2.93040841e+03, -3.21920077e+04, -5.15085369e+03,\n",
       "        1.59679218e+04, -1.20291649e+04,  1.17723043e+03, -2.09676046e+04,\n",
       "       -3.72532077e+04, -1.28335105e+03,  3.20525198e+03, -2.40631020e+04,\n",
       "       -1.35157099e+04,  3.54055725e+03, -3.99450033e+03,  2.56411488e+04,\n",
       "       -5.29004693e+03, -4.30276986e+03,  1.74247585e+04, -9.71969173e+03,\n",
       "       -8.22702342e+03,  1.25882016e+04,  1.41803220e+04, -1.64119436e+04,\n",
       "       -4.06852953e+03,  5.02016339e+04,  1.37626910e+03,  2.18080606e+04,\n",
       "        5.04549602e+03,  4.36719519e+02, -1.31935286e+04,  1.47454817e+04,\n",
       "       -6.23630992e+03,  3.97646696e+03,  2.11567551e+04,  1.37470072e+04,\n",
       "        9.43041895e+03, -1.44113130e+04, -1.45344229e+03,  4.57320641e+04,\n",
       "        1.94281474e+03, -1.66380635e+04,  3.58432361e+04, -2.10312037e+04,\n",
       "       -1.00940154e+04,  8.16424368e+02, -9.38351514e+03, -9.63473517e+03,\n",
       "       -1.45239826e+04,  1.13481343e+04, -4.74877135e+03, -6.76683747e+03,\n",
       "        4.72529127e+02,  3.52992020e+04, -1.49433975e+04, -1.55331714e+03,\n",
       "       -7.16110838e+03, -8.71772762e+03, -7.85231657e+02,  5.60691135e+03,\n",
       "       -2.68719526e+03, -1.51989785e+04, -2.77912914e+03, -1.13186993e+04,\n",
       "        1.42327691e+03, -9.52273932e+03,  4.00369285e+03, -1.70226105e+04,\n",
       "        1.08517815e+04,  1.90301992e+04,  8.52539216e+03,  3.55468215e+03,\n",
       "       -9.99205354e+02, -3.61980837e+04, -3.50247491e+03, -3.27327545e+03,\n",
       "       -5.85667334e+03, -3.02746281e+04, -2.72398948e+04,  2.03366059e+04,\n",
       "        1.41698432e+04, -4.78453127e+03,  5.64034926e+04, -1.57103654e+03,\n",
       "        5.54286149e+03, -6.01895751e+03,  7.41159376e+03, -1.58775364e+04,\n",
       "        5.04103852e+04, -7.49765598e+03, -1.49491952e+04, -1.63798051e+04,\n",
       "       -1.12111028e+04,  2.22519956e+03, -4.64914580e+04, -2.56008549e+03,\n",
       "        1.28870286e+04,  5.02894448e+04,  2.42405284e+03, -5.42585282e+03,\n",
       "        4.45588933e+02, -5.49740469e+03,  8.58187277e+03,  7.55630744e+04,\n",
       "        5.69182915e+04, -1.04398642e+04, -2.97182425e+03, -1.97700215e+04,\n",
       "        1.76545573e+04, -1.23905227e+04, -3.93496182e+04,  3.72315105e+03,\n",
       "       -1.84544537e+04,  3.55933898e+04,  1.64606378e+04,  3.76015755e+04,\n",
       "       -2.29987249e+03, -2.38282513e+04, -3.17141167e+04, -2.28246011e+03,\n",
       "       -2.22264344e+04, -4.67099160e+03, -3.43921179e+03,  1.40025117e+04,\n",
       "        1.64402799e+04,  8.63333256e+03,  5.54616561e+03,  1.99165083e+03,\n",
       "        8.59878446e+03,  5.41084430e+04, -3.93064290e+03, -1.19900860e+04,\n",
       "       -2.47186320e+04,  3.57653521e+03, -2.49060936e+03, -1.65706300e+04,\n",
       "        4.45469498e+03, -8.80509839e+03,  1.14515949e+03, -3.95168118e+03,\n",
       "       -4.18336196e+04, -3.01901710e+04, -1.71397923e+04,  2.12845663e+04,\n",
       "        7.23384025e+03, -2.09907777e+04,  1.03061066e+04,  1.89291313e+04,\n",
       "        6.14620068e+04, -1.53749177e+04, -1.58444968e+04, -1.87445360e+04,\n",
       "       -8.04447650e+03,  1.05862310e+04, -7.01963452e+03, -1.89131491e+04,\n",
       "       -1.91779108e+03,  3.02396200e+03, -1.01868768e+04, -1.98614205e+04,\n",
       "       -2.35527922e+03, -3.43947287e+04,  2.38915994e+04, -6.02154072e+03,\n",
       "        7.16669991e+04, -2.16485712e+04,  5.16408966e+04,  1.93770886e+04,\n",
       "        1.39337803e+03,  5.20307012e+02, -8.90459321e+03, -2.87693453e+04,\n",
       "       -1.73330819e+04, -4.54823475e+04,  5.71999278e+03, -1.10666892e+03,\n",
       "       -6.89275613e+03, -3.58928335e+03, -2.36804363e+04,  1.43937750e+04,\n",
       "        4.56278700e+03,  4.19760103e+04, -1.69095848e+03, -1.43872386e+04,\n",
       "        5.62600888e+04, -2.58275362e+04,  3.53210897e+03, -3.85886083e+04,\n",
       "       -4.96666948e+03,  3.75349184e+03,  2.30506835e+04, -3.86688143e+04,\n",
       "        1.38584129e+04, -1.08242676e+04,  3.43899891e+04, -2.16251712e+04,\n",
       "       -3.38943849e+04,  6.44172314e+04, -1.31682101e+04, -2.57317165e+03,\n",
       "        1.87779094e+04,  1.26281050e+05,  1.23623229e+04,  3.90584359e+04,\n",
       "       -2.97464129e+03,  6.77173961e+03, -2.43901930e+03, -1.60275223e+04,\n",
       "        1.88182784e+04, -1.77733843e+04,  3.91574598e+04, -2.65496427e+04,\n",
       "       -1.70760199e+04, -1.15160743e+03, -4.91165957e+04, -1.84478759e+04,\n",
       "       -4.70706389e+01, -8.46440448e+02, -2.67046169e+03,  4.41467369e+04,\n",
       "       -3.55617283e+04,  2.09245728e+04, -1.62591385e+02, -2.77549190e+03,\n",
       "       -2.06359838e+03,  2.33019887e+04,  2.78531123e+04,  2.78732345e+03,\n",
       "        1.11288969e+04, -1.54699937e+04, -6.25729735e+03,  4.28340270e+04,\n",
       "       -5.00665791e+04, -8.54434257e+03,  5.58275296e+03,  2.86621626e+04,\n",
       "        6.34686562e+04,  6.67092582e+03,  5.72896932e+04,  3.42065789e+04,\n",
       "        1.01186396e+05, -3.13722537e+04, -4.71243806e+03,  1.57064185e+03,\n",
       "       -2.23301615e+04,  4.52070953e+03,  2.39658792e+04,  1.99891456e+04,\n",
       "        6.73086199e+04, -1.63194887e+03,  1.59495216e+04, -4.20675905e+03,\n",
       "        3.11372427e+03,  1.78285222e+04,  1.10123276e+03, -1.74285329e+04,\n",
       "        1.26506831e+05, -1.99802052e+04, -2.34046224e+03,  1.56945926e+04,\n",
       "       -6.24888785e+03, -2.92712805e+04, -2.68922423e+03, -3.13971596e+04,\n",
       "       -6.96428660e+03,  7.33191023e+04,  6.68158903e+04,  7.25956756e+03,\n",
       "        2.79765168e+04, -1.22579942e+04,  4.63233384e+04, -1.41635726e+04,\n",
       "       -2.04543625e+04,  1.50977424e+04, -1.61814635e+04,  2.46661459e+04,\n",
       "       -1.23579941e+04,  2.18728972e+04,  4.11277050e+04,  1.04300414e+04,\n",
       "       -6.15775141e+03, -2.36464474e+04, -1.72319904e+04,  1.06174521e+04,\n",
       "       -8.55704929e+03, -3.86930770e+04, -1.25973734e+04, -2.78008715e+04,\n",
       "        7.07548534e+03,  1.90465330e+03,  1.72807588e+04, -1.82883851e+04,\n",
       "       -2.68482014e+04,  1.03801136e+04,  1.04837093e+04, -3.05398060e+03,\n",
       "       -2.17562918e+04, -1.91310965e+04,  6.10021420e+01, -9.29672718e+03,\n",
       "        8.12288130e+04, -1.13285366e+04,  2.61049255e+04,  5.34193219e+04,\n",
       "        6.87899564e+04,  1.72227577e+04,  5.28343537e+03, -7.44376105e+03,\n",
       "        2.26981251e+04,  1.78642441e+02, -3.84066221e+04, -6.26155583e+03,\n",
       "       -7.52053794e+03,  1.18927909e+04,  3.00557088e+04,  1.09736082e+04,\n",
       "        2.13142197e+04, -1.10396301e+04, -3.01150960e+04, -3.46810662e+03,\n",
       "        4.11463941e+03,  1.85943297e+03, -3.00273005e+03,  3.80168842e+03,\n",
       "       -7.55957689e+03, -3.93481710e+04, -1.24922791e+04,  5.46141382e+03,\n",
       "        7.33900052e+03, -3.14109799e+04,  1.09266803e+04, -2.48521492e+04,\n",
       "        4.18182152e+02,  9.93051877e+03, -5.31381941e+04, -1.78317142e+04,\n",
       "       -1.28172872e+04,  9.00072390e+03, -4.38684495e+03,  9.19224007e+03,\n",
       "       -4.24857167e+03])"
      ]
     },
     "execution_count": 55,
     "metadata": {},
     "output_type": "execute_result"
    }
   ],
   "source": [
    "residuals = y_test.values - pd.Series(list(lasso_pred_inverse)).map(lambda x: x[0]).values\n",
    "residuals"
   ]
  },
  {
   "cell_type": "code",
   "execution_count": 56,
   "id": "701efab6",
   "metadata": {},
   "outputs": [
    {
     "data": {
      "image/png": "[encoded data removed]",
      "text/plain": [
       "<Figure size 432x288 with 1 Axes>"
      ]
     },
     "metadata": {
      "needs_background": "light"
     },
     "output_type": "display_data"
    }
   ],
   "source": [
    "plt.xlabel('Predicted Sale Price')\n",
    "plt.ylabel('Residuals')\n",
    "plt.title('Relation between Residuals and Predicted Sale Price')\n",
    "plt.axhline(0,color='red')\n",
    "sns.scatterplot(x=pd.Series(list(lasso_pred_inverse)).map(lambda x: x[0]).values,y=residuals);"
   ]
  },
  {
   "cell_type": "code",
   "execution_count": 81,
   "id": "ede24494",
   "metadata": {},
   "outputs": [
    {
     "data": {
      "image/png": "[encoded data removed]",
      "text/plain": [
       "<Figure size 360x360 with 1 Axes>"
      ]
     },
     "metadata": {
      "needs_background": "light"
     },
     "output_type": "display_data"
    }
   ],
   "source": [
    "sns.displot(residuals);"
   ]
  },
  {
   "cell_type": "code",
   "execution_count": 58,
   "id": "89c843c6",
   "metadata": {},
   "outputs": [
    {
     "data": {
      "text/plain": [
       "<AxesSubplot:>"
      ]
     },
     "execution_count": 58,
     "metadata": {},
     "output_type": "execute_result"
    },
    {
     "data": {
      "image/png": "[encoded data removed]",
      "text/plain": [
       "<Figure size 432x288 with 1 Axes>"
      ]
     },
     "metadata": {
      "needs_background": "light"
     },
     "output_type": "display_data"
    }
   ],
   "source": [
    "sns.boxplot(x=residuals)"
   ]
  },
  {
   "cell_type": "code",
   "execution_count": 59,
   "id": "514eeb35",
   "metadata": {},
   "outputs": [],
   "source": [
    "lasso_coefs = pd.Series(lasso_cv.coef_,features_from_lasso)"
   ]
  },
  {
   "cell_type": "code",
   "execution_count": 82,
   "id": "a052a929",
   "metadata": {},
   "outputs": [
    {
     "data": {
      "text/plain": [
       "<AxesSubplot:xlabel='Percentage Change in Sale Price', ylabel='Features'>"
      ]
     },
     "execution_count": 82,
     "metadata": {},
     "output_type": "execute_result"
    },
    {
     "data": {
      "image/png": "[encoded data removed]",
      "text/plain": [
       "<Figure size 720x576 with 1 Axes>"
      ]
     },
     "metadata": {
      "needs_background": "light"
     },
     "output_type": "display_data"
    }
   ],
   "source": [
    "plt.figure(figsize=(10,8))\n",
    "plt.xlabel('Percentage Change in Sale Price')\n",
    "plt.ylabel('Features')\n",
    "lasso_coefs[lasso_coefs != 0].sort_values().plot.barh()"
   ]
  },
  {
   "cell_type": "code",
   "execution_count": 61,
   "id": "5485fe38",
   "metadata": {},
   "outputs": [
    {
     "data": {
      "text/plain": [
       "array([-0.02858416,  0.00318138,  0.03904631, -0.0344728 ,  0.00667573,\n",
       "        0.04073651,  0.32217542,  0.09627758,  0.1693467 ,  0.07033207,\n",
       "        0.00565923,  0.01149264,  0.03816518,  0.05131391,  0.04312498,\n",
       "       -0.01063861,  0.02537175, -0.00483523,  0.19596914,  0.07461698,\n",
       "        0.00993502,  0.04384164, -0.00587702, -0.03551433,  0.04581234,\n",
       "        0.06796035,  0.09183515,  0.0269967 ,  0.01097971,  0.0247064 ,\n",
       "        0.01317074,  0.05805226, -0.04740362, -0.07286206,  0.00549994,\n",
       "       -0.00801226,  0.01405725,  0.05341751])"
      ]
     },
     "execution_count": 61,
     "metadata": {},
     "output_type": "execute_result"
    }
   ],
   "source": [
    "lasso_cv.coef_"
   ]
  },
  {
   "cell_type": "markdown",
   "id": "ecc0e52f",
   "metadata": {},
   "source": [
    "**Transforming the coefficients**"
   ]
  },
  {
   "cell_type": "markdown",
   "id": "0900b762",
   "metadata": {},
   "source": [
    "The model's target variable is logarithm of the actual target variable. This was done to turn target variable distribution into a more Guassian like curve. The actual coefficients of the features can be deduced by taking the exponent of each coefficient. ! is subtracted form each column \n"
   ]
  },
  {
   "cell_type": "code",
   "execution_count": 62,
   "id": "acb3671c",
   "metadata": {},
   "outputs": [
    {
     "data": {
      "text/plain": [
       "Overall Qual       0.380127\n",
       "Gr Liv Area        0.216489\n",
       "Year Built         0.184531\n",
       "Overall Cond       0.101065\n",
       "Garage Cars        0.096184\n",
       "Bsmt Full Bath     0.077471\n",
       "Year Remod/Add     0.072864\n",
       "Fireplaces         0.070323\n",
       "Screen Porch       0.059770\n",
       "Y                  0.054870\n",
       "Total Bsmt SF      0.052653\n",
       "TotRms AbvGrd      0.046878\n",
       "Full Bath          0.044817\n",
       "Central Air        0.044068\n",
       "Bldg Type          0.041578\n",
       "Lot Area           0.039819\n",
       "BsmtFin SF 1       0.038903\n",
       "Wood Deck SF       0.027364\n",
       "1st Flr SF         0.025696\n",
       "Enclosed Porch     0.025014\n",
       "P                  0.014157\n",
       "3Ssn Porch         0.013258\n",
       "Bsmt Exposure      0.011559\n",
       "Open Porch SF      0.011040\n",
       "Bsmt Half Bath     0.009985\n",
       "Condition 2        0.006698\n",
       "Mas Vnr Area       0.005675\n",
       "Mo Sold            0.005515\n",
       "Lot Frontage       0.003186\n",
       "Low Qual Fin SF   -0.004824\n",
       "Kitchen AbvGr     -0.005860\n",
       "Yr Sold           -0.007980\n",
       "Electrical        -0.010582\n",
       "MS SubClass       -0.028179\n",
       "Street            -0.033885\n",
       "Kitchen Qual      -0.034891\n",
       "Pool Area         -0.046298\n",
       "Misc Val          -0.070271\n",
       "dtype: float64"
      ]
     },
     "execution_count": 62,
     "metadata": {},
     "output_type": "execute_result"
    }
   ],
   "source": [
    "actual_coefs = (np.exp(lasso_coefs) - 1).sort_values(ascending=False)\n",
    "actual_coefs"
   ]
  },
  {
   "cell_type": "code",
   "execution_count": 83,
   "id": "1ef2fd3e",
   "metadata": {},
   "outputs": [
    {
     "data": {
      "image/png": "[encoded data removed]",
      "text/plain": [
       "<Figure size 1080x576 with 1 Axes>"
      ]
     },
     "metadata": {
      "needs_background": "light"
     },
     "output_type": "display_data"
    }
   ],
   "source": [
    "plt.figure(figsize=(15,8))\n",
    "unscaled = pd.Series(actual_coefs,actual_coefs.index)\n",
    "plt.xlabel('Percentage Change in Sale Price')\n",
    "plt.ylabel('Features')\n",
    "plt.title('Relation Between Features and Corresponding Change in Sale Price')\n",
    "sns.barplot(x=actual_coefs.values,y=actual_coefs.index,ci=None,palette='coolwarm')\n",
    "plt.savefig('../Images/Coefficients');"
   ]
  },
  {
   "cell_type": "markdown",
   "id": "6d53abf6",
   "metadata": {},
   "source": [
    "The above plotted graph shows the weightage every feature carries. After converting, the coefficients represent percentage increase or decrease. For example, with all other variables held constant, with every 1 year increase in the Age of the house, the Sale Price goes down by close to 0.175%."
   ]
  },
  {
   "cell_type": "markdown",
   "id": "cdd40119",
   "metadata": {},
   "source": [
    "## Comparison to Baseline Model "
   ]
  },
  {
   "cell_type": "code",
   "execution_count": 64,
   "id": "bdaf8965",
   "metadata": {},
   "outputs": [],
   "source": [
    "dumb = DummyRegressor()"
   ]
  },
  {
   "cell_type": "code",
   "execution_count": 65,
   "id": "f9b4f350",
   "metadata": {},
   "outputs": [
    {
     "data": {
      "text/plain": [
       "-0.001423025406326417"
      ]
     },
     "execution_count": 65,
     "metadata": {},
     "output_type": "execute_result"
    }
   ],
   "source": [
    "cross_val_score(dumb,X_train_sc,y_train_pt).mean()"
   ]
  },
  {
   "cell_type": "code",
   "execution_count": 66,
   "id": "a22f8b15",
   "metadata": {},
   "outputs": [
    {
     "data": {
      "text/plain": [
       "DummyRegressor()"
      ]
     },
     "execution_count": 66,
     "metadata": {},
     "output_type": "execute_result"
    }
   ],
   "source": [
    "dumb.fit(X_train_sc,y_train_pt)"
   ]
  },
  {
   "cell_type": "code",
   "execution_count": 67,
   "id": "45398928",
   "metadata": {},
   "outputs": [
    {
     "data": {
      "text/plain": [
       "(0.0, -0.00022989736589007492)"
      ]
     },
     "execution_count": 67,
     "metadata": {},
     "output_type": "execute_result"
    }
   ],
   "source": [
    "dumb.score(X_train_sc,y_train_pt), dumb.score(X_test_sc,y_test_pt)"
   ]
  },
  {
   "cell_type": "markdown",
   "id": "91355347",
   "metadata": {},
   "source": [
    "As seen above, the model has performed better than the Baseline Model. The train and test scores are in fact comparison of model prediction to baseline model prediction. If the model had performed worse than Baseline model, the scores would have been negative. "
   ]
  },
  {
   "cell_type": "markdown",
   "id": "aeb6ed1f",
   "metadata": {},
   "source": [
    "## Kaggle Prediction"
   ]
  },
  {
   "cell_type": "markdown",
   "id": "6375f4be",
   "metadata": {},
   "source": [
    "The model built using train data is being used to test it on the Kaggel test data. "
   ]
  },
  {
   "cell_type": "markdown",
   "id": "6cbc891b",
   "metadata": {},
   "source": [
    "In order to predict Kaggle test data, entire train data is being used to train the model and predict 'SalePrice' from test data. "
   ]
  },
  {
   "cell_type": "code",
   "execution_count": 68,
   "id": "f6eb45ba",
   "metadata": {},
   "outputs": [],
   "source": [
    "model_lasso = LassoCV(alphas = l_alphas)"
   ]
  },
  {
   "cell_type": "code",
   "execution_count": 69,
   "id": "5d893402",
   "metadata": {},
   "outputs": [],
   "source": [
    "X_train = df_train[features_from_lasso]\n",
    "y_train = df_train['SalePrice']\n",
    "X_test = test[features_from_lasso]"
   ]
  },
  {
   "cell_type": "code",
   "execution_count": 70,
   "id": "98618ef6",
   "metadata": {},
   "outputs": [],
   "source": [
    "ss = StandardScaler()"
   ]
  },
  {
   "cell_type": "code",
   "execution_count": 71,
   "id": "9f0e6375",
   "metadata": {},
   "outputs": [],
   "source": [
    "X_train_sc = ss.fit_transform(X_train)\n",
    "X_test_sc = ss.transform(X_test)"
   ]
  },
  {
   "cell_type": "code",
   "execution_count": 72,
   "id": "ae0dbf33",
   "metadata": {},
   "outputs": [],
   "source": [
    "pt = PowerTransformer()\n",
    "y_train_pt = pt.fit_transform(y_train.to_frame())"
   ]
  },
  {
   "cell_type": "code",
   "execution_count": 73,
   "id": "efcfa25a",
   "metadata": {},
   "outputs": [
    {
     "name": "stderr",
     "output_type": "stream",
     "text": [
      "/Users/ankitapatil/opt/anaconda3/lib/python3.8/site-packages/sklearn/utils/validation.py:63: DataConversionWarning: A column-vector y was passed when a 1d array was expected. Please change the shape of y to (n_samples, ), for example using ravel().\n",
      "  return f(*args, **kwargs)\n"
     ]
    },
    {
     "data": {
      "text/plain": [
       "LassoCV(alphas=array([0.001     , 0.00107227, 0.00114976, 0.00123285, 0.00132194,\n",
       "       0.00141747, 0.00151991, 0.00162975, 0.00174753, 0.00187382,\n",
       "       0.00200923, 0.00215443, 0.00231013, 0.00247708, 0.00265609,\n",
       "       0.00284804, 0.00305386, 0.00327455, 0.00351119, 0.00376494,\n",
       "       0.00403702, 0.00432876, 0.00464159, 0.00497702, 0.0053367 ,\n",
       "       0.00572237, 0.00613591, 0.00657933, 0.0070548 , 0.00756463,\n",
       "       0.008...\n",
       "       0.09326033, 0.1       , 0.10722672, 0.1149757 , 0.12328467,\n",
       "       0.13219411, 0.14174742, 0.15199111, 0.16297508, 0.17475284,\n",
       "       0.18738174, 0.2009233 , 0.21544347, 0.23101297, 0.24770764,\n",
       "       0.26560878, 0.28480359, 0.30538555, 0.32745492, 0.35111917,\n",
       "       0.37649358, 0.40370173, 0.43287613, 0.46415888, 0.49770236,\n",
       "       0.53366992, 0.57223677, 0.61359073, 0.65793322, 0.70548023,\n",
       "       0.75646333, 0.81113083, 0.869749  , 0.93260335, 1.        ]))"
      ]
     },
     "execution_count": 73,
     "metadata": {},
     "output_type": "execute_result"
    }
   ],
   "source": [
    "model_lasso.fit(X_train_sc,y_train_pt)"
   ]
  },
  {
   "cell_type": "code",
   "execution_count": 74,
   "id": "6cd01999",
   "metadata": {},
   "outputs": [
    {
     "name": "stderr",
     "output_type": "stream",
     "text": [
      "/Users/ankitapatil/opt/anaconda3/lib/python3.8/site-packages/sklearn/utils/validation.py:63: DataConversionWarning: A column-vector y was passed when a 1d array was expected. Please change the shape of y to (n_samples, ), for example using ravel().\n",
      "  return f(*args, **kwargs)\n",
      "/Users/ankitapatil/opt/anaconda3/lib/python3.8/site-packages/sklearn/utils/validation.py:63: DataConversionWarning: A column-vector y was passed when a 1d array was expected. Please change the shape of y to (n_samples, ), for example using ravel().\n",
      "  return f(*args, **kwargs)\n",
      "/Users/ankitapatil/opt/anaconda3/lib/python3.8/site-packages/sklearn/utils/validation.py:63: DataConversionWarning: A column-vector y was passed when a 1d array was expected. Please change the shape of y to (n_samples, ), for example using ravel().\n",
      "  return f(*args, **kwargs)\n",
      "/Users/ankitapatil/opt/anaconda3/lib/python3.8/site-packages/sklearn/utils/validation.py:63: DataConversionWarning: A column-vector y was passed when a 1d array was expected. Please change the shape of y to (n_samples, ), for example using ravel().\n",
      "  return f(*args, **kwargs)\n",
      "/Users/ankitapatil/opt/anaconda3/lib/python3.8/site-packages/sklearn/utils/validation.py:63: DataConversionWarning: A column-vector y was passed when a 1d array was expected. Please change the shape of y to (n_samples, ), for example using ravel().\n",
      "  return f(*args, **kwargs)\n"
     ]
    },
    {
     "data": {
      "text/plain": [
       "0.8501072570985538"
      ]
     },
     "execution_count": 74,
     "metadata": {},
     "output_type": "execute_result"
    }
   ],
   "source": [
    "cross_val_score(model_lasso, X_train_sc,y_train_pt).mean()"
   ]
  },
  {
   "cell_type": "markdown",
   "id": "f4060e77",
   "metadata": {},
   "source": [
    "The cross_val_score indicates that 85% of the variance in the target variable, Sale Price, can be explained by the model variables. "
   ]
  },
  {
   "cell_type": "code",
   "execution_count": 75,
   "id": "5e70a65a",
   "metadata": {},
   "outputs": [],
   "source": [
    "kag_pred = lasso_cv.predict(X_test_sc)"
   ]
  },
  {
   "cell_type": "code",
   "execution_count": 76,
   "id": "8f8b14cf",
   "metadata": {},
   "outputs": [],
   "source": [
    "kag_pred_inverse =pt.inverse_transform(kag_pred.reshape(-1,1))"
   ]
  },
  {
   "cell_type": "code",
   "execution_count": 77,
   "id": "84c85a7d",
   "metadata": {},
   "outputs": [
    {
     "data": {
      "text/html": [
       "<div>\n",
       "<style scoped>\n",
       "    .dataframe tbody tr th:only-of-type {\n",
       "        vertical-align: middle;\n",
       "    }\n",
       "\n",
       "    .dataframe tbody tr th {\n",
       "        vertical-align: top;\n",
       "    }\n",
       "\n",
       "    .dataframe thead th {\n",
       "        text-align: right;\n",
       "    }\n",
       "</style>\n",
       "<table border=\"1\" class=\"dataframe\">\n",
       "  <thead>\n",
       "    <tr style=\"text-align: right;\">\n",
       "      <th></th>\n",
       "      <th>SalePrice</th>\n",
       "    </tr>\n",
       "    <tr>\n",
       "      <th>Id</th>\n",
       "      <th></th>\n",
       "    </tr>\n",
       "  </thead>\n",
       "  <tbody>\n",
       "    <tr>\n",
       "      <th>2658</th>\n",
       "      <td>137959.514262</td>\n",
       "    </tr>\n",
       "    <tr>\n",
       "      <th>2718</th>\n",
       "      <td>154626.192065</td>\n",
       "    </tr>\n",
       "    <tr>\n",
       "      <th>2414</th>\n",
       "      <td>223004.323146</td>\n",
       "    </tr>\n",
       "    <tr>\n",
       "      <th>1989</th>\n",
       "      <td>110372.762569</td>\n",
       "    </tr>\n",
       "    <tr>\n",
       "      <th>625</th>\n",
       "      <td>182961.552061</td>\n",
       "    </tr>\n",
       "    <tr>\n",
       "      <th>...</th>\n",
       "      <td>...</td>\n",
       "    </tr>\n",
       "    <tr>\n",
       "      <th>1662</th>\n",
       "      <td>196149.859539</td>\n",
       "    </tr>\n",
       "    <tr>\n",
       "      <th>1234</th>\n",
       "      <td>210467.342121</td>\n",
       "    </tr>\n",
       "    <tr>\n",
       "      <th>1373</th>\n",
       "      <td>123820.102770</td>\n",
       "    </tr>\n",
       "    <tr>\n",
       "      <th>1672</th>\n",
       "      <td>111903.109598</td>\n",
       "    </tr>\n",
       "    <tr>\n",
       "      <th>1939</th>\n",
       "      <td>126454.060960</td>\n",
       "    </tr>\n",
       "  </tbody>\n",
       "</table>\n",
       "<p>878 rows × 1 columns</p>\n",
       "</div>"
      ],
      "text/plain": [
       "          SalePrice\n",
       "Id                 \n",
       "2658  137959.514262\n",
       "2718  154626.192065\n",
       "2414  223004.323146\n",
       "1989  110372.762569\n",
       "625   182961.552061\n",
       "...             ...\n",
       "1662  196149.859539\n",
       "1234  210467.342121\n",
       "1373  123820.102770\n",
       "1672  111903.109598\n",
       "1939  126454.060960\n",
       "\n",
       "[878 rows x 1 columns]"
      ]
     },
     "execution_count": 77,
     "metadata": {},
     "output_type": "execute_result"
    }
   ],
   "source": [
    "kag_subm = pd.DataFrame(kag_pred_inverse,index=test['Id'],columns=['SalePrice'])\n",
    "kag_subm"
   ]
  },
  {
   "cell_type": "code",
   "execution_count": 78,
   "id": "fc10d482",
   "metadata": {},
   "outputs": [],
   "source": [
    "kag_subm.to_csv('../datasets/kaggle_submission_final.csv')"
   ]
  },
  {
   "cell_type": "markdown",
   "id": "45d88334",
   "metadata": {},
   "source": [
    "The Kaggle Score for this model came up to be 27281.91494. This score is the Root Mean Square Error."
   ]
  },
  {
   "cell_type": "markdown",
   "id": "e20de8b6",
   "metadata": {},
   "source": [
    "## Conclusion"
   ]
  },
  {
   "cell_type": "markdown",
   "id": "7f14ccdb",
   "metadata": {},
   "source": [
    "After cleaning the data, understanding correlation within different columns and with Sale Price, features that affect Sale Price of the house were determined. Amomgst these features were numerical features and ordinal & nominal features, turned in numerical features either using one hot encoding, or using exploratory data analysis. \n",
    "\n",
    "All these features were used to overfit the model, and regularize the model using the Lasso Regression. Based on results from initial lasso regression, features were selected and using these features, an improved lasso model modeled and compared to linear regression and ridge regression models. All the model evaluations were performed using train data, by splitting the data into train & test datasets and testing the models performance based on R2 scores and cross_val_scores. Amongst all the models, Lasso Regression model seemed to be the best fitting model for the datatset. The model exhibited .85 cross_val_score which means 85% of variance in the Sale PRice can be explained by the model. The model's performance was performed better than the Baseline model. \n",
    "\n",
    "Based on the model predictions, both structral and internal factors contribute to the Sale Price of the house. Overall Quality i.e. overall material and finish of the house has the highest positive impact on the price, followed by Total Living Area in sq ft of the house. These are followed by Garage Cars, which is essentially the garage space, and Overall Condition of the house. Remodeling a house brings up the price of teh house. Internal factors like number of baths, bedrooms, basement sq ft area have a strong positive effect on Sale Price. Finished Basement also has a positive effect but not as much as having a bigger basement. Having a fireplace certainly brings up the Sale Price of teh house. External factors that help increase the price of the house are Paved Driveway, Screen Porch, Wooden Deck and an Enclosed Porch. \n",
    "\n",
    "A strong deterring factor, and also an obvious one, to the Sale Price is Age of the house, number of years between the Year Built and the Year Sold. Value of Miscellaneous Features of the House are also a deterring factor tpo Sale Price. Pool area is a negative factor for Sale Price. This maybe because of the time and resources involved in maintaining it. An excellent kitchen is not so much a positive factor on the Sale Price as a typical/average quality is a negative factor. Gravel Street is not a positive choice. When it comes to Electrcail Systems of the House, most of the houses have Mixed wiring, which means there are some old and some new wires. This also contributes negatively towards the price of the house. "
   ]
  },
  {
   "cell_type": "markdown",
   "id": "2dc4f11d",
   "metadata": {},
   "source": [
    "## Recommendations"
   ]
  },
  {
   "cell_type": "markdown",
   "id": "3efc5d14",
   "metadata": {},
   "source": [
    "The model built to predict Sale Price still has room for improvement. More features and their correlation can be studied, and additional feature engineering can be included in the model. Missing data has been imuputed using mean, median or mode which are the basic ways of imputing data. Linear regression model can be used to understand predict the missing data. "
   ]
  },
  {
   "cell_type": "markdown",
   "id": "5b2406fd",
   "metadata": {},
   "source": [
    "Overall Condition and Overall Quality of the house are strong positive factors for Sale Price. Although, they have a metric from 1 - 10, but they are also vague. It would be worth looking into these metrics and identifying factors that contribute to bring these metrics up. "
   ]
  },
  {
   "cell_type": "markdown",
   "id": "aeeff182",
   "metadata": {},
   "source": [
    "A way of increasing Sale Price on an old house is Remodeling. With more information on remodeling time and cost required, a better prediction can be made on how to reduce price loss on old homes. "
   ]
  },
  {
   "cell_type": "code",
   "execution_count": null,
   "id": "9f2a01b7",
   "metadata": {},
   "outputs": [],
   "source": []
  }
 ],
 "metadata": {
  "kernelspec": {
   "display_name": "Python 3",
   "language": "python",
   "name": "python3"
  },
  "language_info": {
   "codemirror_mode": {
    "name": "ipython",
    "version": 3
   },
   "file_extension": ".py",
   "mimetype": "text/x-python",
   "name": "python",
   "nbconvert_exporter": "python",
   "pygments_lexer": "ipython3",
   "version": "3.8.8"
  }
 },
 "nbformat": 4,
 "nbformat_minor": 5
}
